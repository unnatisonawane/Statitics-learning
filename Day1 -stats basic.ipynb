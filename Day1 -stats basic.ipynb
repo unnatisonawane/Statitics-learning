{
 "cells": [
  {
   "cell_type": "markdown",
   "id": "18636f27-0589-470b-aaf0-2c36b716bb0a",
   "metadata": {},
   "source": [
    "## Measure of central tendancy"
   ]
  },
  {
   "cell_type": "markdown",
   "id": "139d305e-235b-4119-a58c-d2b1d6c8f344",
   "metadata": {},
   "source": [
    "mean:\n",
    "1. It is calculated by summing up all the values in a dataset and dividing by the total number of observations.\n",
    "2. used when the dataset follows a roughly symmetrical distribution and there are no extreme outliers.\n",
    "\n",
    "median:\n",
    "1. The median is the middle value in a dataset when the observations are arranged in ascending or descending order.\n",
    "2. The is often used when the data contains outliers or is skewed. it represents the value below which 50% of the observations fall.\n",
    "\n",
    "mode :\n",
    "1. It is the value(s) that appear most frequently with  highest frequency  in a dataset."
   ]
  },
  {
   "cell_type": "code",
   "execution_count": 2,
   "id": "d1545e70-09b8-4038-87c1-3375aa335c0a",
   "metadata": {},
   "outputs": [],
   "source": [
    "age=[42,40,29,27,35,39,30,25,22,38]"
   ]
  },
  {
   "cell_type": "code",
   "execution_count": 1,
   "id": "106aad7f-ff6b-4b3a-98dd-4b8f4e8e54a2",
   "metadata": {},
   "outputs": [],
   "source": [
    "import numpy as np"
   ]
  },
  {
   "cell_type": "code",
   "execution_count": 3,
   "id": "f75a2ed4-eafc-44cb-b514-6bff05358d59",
   "metadata": {},
   "outputs": [
    {
     "data": {
      "text/plain": [
       "32.7"
      ]
     },
     "execution_count": 3,
     "metadata": {},
     "output_type": "execute_result"
    }
   ],
   "source": [
    "mean= np.mean(age)\n",
    "mean"
   ]
  },
  {
   "cell_type": "code",
   "execution_count": 4,
   "id": "a2143bd1-e4cf-47d0-b5c6-a4f28ddd4c02",
   "metadata": {},
   "outputs": [
    {
     "data": {
      "text/plain": [
       "32.5"
      ]
     },
     "execution_count": 4,
     "metadata": {},
     "output_type": "execute_result"
    }
   ],
   "source": [
    "median = np.median(age)\n",
    "median"
   ]
  },
  {
   "cell_type": "code",
   "execution_count": 5,
   "id": "1a8619b7-3eb1-40ac-90d6-f6fa8f122c25",
   "metadata": {},
   "outputs": [],
   "source": [
    "# data with outlier\n",
    "age1=[42,40,29,27,35,39,30,25,22,38,1000]"
   ]
  },
  {
   "cell_type": "code",
   "execution_count": 6,
   "id": "378b262b-a886-41d1-9b04-c2e0e27f724e",
   "metadata": {},
   "outputs": [
    {
     "data": {
      "text/plain": [
       "120.63636363636364"
      ]
     },
     "execution_count": 6,
     "metadata": {},
     "output_type": "execute_result"
    }
   ],
   "source": [
    "mean=np.mean(age1)\n",
    "mean"
   ]
  },
  {
   "cell_type": "code",
   "execution_count": 7,
   "id": "46b5b3ee-4a67-4b9a-a660-836af62aea57",
   "metadata": {},
   "outputs": [
    {
     "data": {
      "text/plain": [
       "35.0"
      ]
     },
     "execution_count": 7,
     "metadata": {},
     "output_type": "execute_result"
    }
   ],
   "source": [
    "median=np.median(age1)\n",
    "median"
   ]
  },
  {
   "cell_type": "code",
   "execution_count": 8,
   "id": "5785514d-b059-49f7-b1d2-f734beebad2a",
   "metadata": {},
   "outputs": [
    {
     "name": "stderr",
     "output_type": "stream",
     "text": [
      "/tmp/ipykernel_124/3105330284.py:3: FutureWarning: Unlike other reduction functions (e.g. `skew`, `kurtosis`), the default behavior of `mode` typically preserves the axis it acts along. In SciPy 1.11.0, this behavior will change: the default value of `keepdims` will become False, the `axis` over which the statistic is taken will be eliminated, and the value None will no longer be accepted. Set `keepdims` to True or False to avoid this warning.\n",
      "  stats.mode(age)\n"
     ]
    },
    {
     "data": {
      "text/plain": [
       "ModeResult(mode=array([22]), count=array([1]))"
      ]
     },
     "execution_count": 8,
     "metadata": {},
     "output_type": "execute_result"
    }
   ],
   "source": [
    "from scipy import stats\n",
    "\n",
    "stats.mode(age)"
   ]
  },
  {
   "cell_type": "code",
   "execution_count": 9,
   "id": "20e21fd5-9d72-41d2-9fa6-dd3cb09bbdf1",
   "metadata": {},
   "outputs": [
    {
     "name": "stderr",
     "output_type": "stream",
     "text": [
      "/tmp/ipykernel_124/109619275.py:1: FutureWarning: Unlike other reduction functions (e.g. `skew`, `kurtosis`), the default behavior of `mode` typically preserves the axis it acts along. In SciPy 1.11.0, this behavior will change: the default value of `keepdims` will become False, the `axis` over which the statistic is taken will be eliminated, and the value None will no longer be accepted. Set `keepdims` to True or False to avoid this warning.\n",
      "  stats.mode(age1)\n"
     ]
    },
    {
     "data": {
      "text/plain": [
       "ModeResult(mode=array([22]), count=array([1]))"
      ]
     },
     "execution_count": 9,
     "metadata": {},
     "output_type": "execute_result"
    }
   ],
   "source": [
    "stats.mode(age1)"
   ]
  },
  {
   "cell_type": "markdown",
   "id": "f9d73fec-82ef-45d7-9677-1f89e72958e6",
   "metadata": {},
   "source": [
    "## Measure of dispersion\n",
    "describe the variability in data. "
   ]
  },
  {
   "cell_type": "markdown",
   "id": "eb7d74ba-2444-4f3f-b33e-90eedf0477d7",
   "metadata": {},
   "source": [
    "1. Range: It is calculated by subtracting lowest value from maximum value and  wide range indicates high variability and small range indicates low varibalilty\n",
    "2. Variance : indicates how far any number in a dataset from the mean and Observations near to mean value get lowest result and far from mean gets higher value.\n",
    "3. standard deviation : Low standard deviation indicates data point close to mean."
   ]
  },
  {
   "cell_type": "code",
   "execution_count": 10,
   "id": "cead0d3c-d5f6-4b71-8404-cedec4a8e0b2",
   "metadata": {},
   "outputs": [],
   "source": [
    "##variance\n",
    "\n",
    "ages_lst=[23,43,23,56,74,32,68,98,45,32]"
   ]
  },
  {
   "cell_type": "code",
   "execution_count": 12,
   "id": "e7b4684e-db15-40a9-a6bb-d7ccd82d4416",
   "metadata": {},
   "outputs": [
    {
     "data": {
      "text/plain": [
       "49.4"
      ]
     },
     "execution_count": 12,
     "metadata": {},
     "output_type": "execute_result"
    }
   ],
   "source": [
    "mean=np.mean(ages_lst)\n",
    "mean"
   ]
  },
  {
   "cell_type": "code",
   "execution_count": 13,
   "id": "fb8c560a-5546-4dbf-85cf-92e027ea89c5",
   "metadata": {},
   "outputs": [
    {
     "data": {
      "text/plain": [
       "541.64"
      ]
     },
     "execution_count": 13,
     "metadata": {},
     "output_type": "execute_result"
    }
   ],
   "source": [
    "var=np.var(ages_lst)\n",
    "var"
   ]
  },
  {
   "cell_type": "code",
   "execution_count": 14,
   "id": "7ff61184-e809-4f41-9c81-93a044f97378",
   "metadata": {},
   "outputs": [
    {
     "data": {
      "text/plain": [
       "23.273160507331188"
      ]
     },
     "execution_count": 14,
     "metadata": {},
     "output_type": "execute_result"
    }
   ],
   "source": [
    "std=np.std(ages_lst)\n",
    "std"
   ]
  },
  {
   "cell_type": "code",
   "execution_count": 15,
   "id": "83e66535-bde2-4c0f-94ae-c869e3b69346",
   "metadata": {},
   "outputs": [],
   "source": [
    "import pandas as pd"
   ]
  },
  {
   "cell_type": "code",
   "execution_count": 16,
   "id": "e4ffd3df-fec6-4dfa-91e9-295af2b4c6dc",
   "metadata": {},
   "outputs": [
    {
     "data": {
      "text/plain": [
       "[[10, 12, 13], [34, 23, 45], [32, 34, 21]]"
      ]
     },
     "execution_count": 16,
     "metadata": {},
     "output_type": "execute_result"
    }
   ],
   "source": [
    "data=[[10,12,13],[34,23,45],[32,34,21]]\n",
    "data"
   ]
  },
  {
   "cell_type": "code",
   "execution_count": 17,
   "id": "29281615-12d1-4555-ae97-6f64916889e5",
   "metadata": {},
   "outputs": [
    {
     "data": {
      "text/html": [
       "<div>\n",
       "<style scoped>\n",
       "    .dataframe tbody tr th:only-of-type {\n",
       "        vertical-align: middle;\n",
       "    }\n",
       "\n",
       "    .dataframe tbody tr th {\n",
       "        vertical-align: top;\n",
       "    }\n",
       "\n",
       "    .dataframe thead th {\n",
       "        text-align: right;\n",
       "    }\n",
       "</style>\n",
       "<table border=\"1\" class=\"dataframe\">\n",
       "  <thead>\n",
       "    <tr style=\"text-align: right;\">\n",
       "      <th></th>\n",
       "      <th>A</th>\n",
       "      <th>B</th>\n",
       "      <th>C</th>\n",
       "    </tr>\n",
       "  </thead>\n",
       "  <tbody>\n",
       "    <tr>\n",
       "      <th>0</th>\n",
       "      <td>10</td>\n",
       "      <td>12</td>\n",
       "      <td>13</td>\n",
       "    </tr>\n",
       "    <tr>\n",
       "      <th>1</th>\n",
       "      <td>34</td>\n",
       "      <td>23</td>\n",
       "      <td>45</td>\n",
       "    </tr>\n",
       "    <tr>\n",
       "      <th>2</th>\n",
       "      <td>32</td>\n",
       "      <td>34</td>\n",
       "      <td>21</td>\n",
       "    </tr>\n",
       "  </tbody>\n",
       "</table>\n",
       "</div>"
      ],
      "text/plain": [
       "    A   B   C\n",
       "0  10  12  13\n",
       "1  34  23  45\n",
       "2  32  34  21"
      ]
     },
     "execution_count": 17,
     "metadata": {},
     "output_type": "execute_result"
    }
   ],
   "source": [
    "df=pd.DataFrame(data,columns=[\"A\",\"B\",\"C\"])\n",
    "df"
   ]
  },
  {
   "cell_type": "code",
   "execution_count": 19,
   "id": "3f3fab5e-4115-413a-909e-d861b402fb86",
   "metadata": {},
   "outputs": [
    {
     "data": {
      "text/plain": [
       "A    177.333333\n",
       "B    121.000000\n",
       "C    277.333333\n",
       "dtype: float64"
      ]
     },
     "execution_count": 19,
     "metadata": {},
     "output_type": "execute_result"
    }
   ],
   "source": [
    "df.var()"
   ]
  },
  {
   "cell_type": "code",
   "execution_count": 20,
   "id": "ec7185eb-6f30-4cc9-af7b-524b17ad6226",
   "metadata": {},
   "outputs": [
    {
     "data": {
      "text/plain": [
       "0      2.333333\n",
       "1    121.000000\n",
       "2     49.000000\n",
       "dtype: float64"
      ]
     },
     "execution_count": 20,
     "metadata": {},
     "output_type": "execute_result"
    }
   ],
   "source": [
    "df.var(axis=1)"
   ]
  },
  {
   "cell_type": "code",
   "execution_count": 21,
   "id": "50444d88-6eab-4af3-8ee3-4cf1cbd97597",
   "metadata": {},
   "outputs": [
    {
     "data": {
      "text/plain": [
       "A    177.333333\n",
       "B    121.000000\n",
       "C    277.333333\n",
       "dtype: float64"
      ]
     },
     "execution_count": 21,
     "metadata": {},
     "output_type": "execute_result"
    }
   ],
   "source": [
    "df.var(axis=0)"
   ]
  },
  {
   "cell_type": "markdown",
   "id": "f7906b29-e014-4ea6-9cd0-5f5b7eb2010d",
   "metadata": {},
   "source": [
    "## Covariance\n",
    "\n",
    "1. Covariance measures the extent to which two variables vary together.\n",
    "2. It quantifies the direction and strength of the linear relationship between two variables.\n",
    "3. The covariance can be positive, indicating a positive relationship and negative, indicating an inverse relationship\n",
    "4. Covariance and correlation can help in variable selection in regression analysis or other modeling techniques."
   ]
  },
  {
   "cell_type": "code",
   "execution_count": 22,
   "id": "91bf5127-6780-4adf-a4a2-c910b43e3a6a",
   "metadata": {},
   "outputs": [
    {
     "name": "stdout",
     "output_type": "stream",
     "text": [
      "Covariance: -2.5\n"
     ]
    }
   ],
   "source": [
    "import numpy as np\n",
    "\n",
    "# Create two arrays representing two variables\n",
    "x = np.array([1, 2, 3, 4, 5])\n",
    "y = np.array([5, 4, 3, 2, 1])\n",
    "\n",
    "# Calculate the covariance\n",
    "covariance = np.cov(x, y)[0, 1]\n",
    "print(\"Covariance:\", covariance)"
   ]
  },
  {
   "cell_type": "markdown",
   "id": "25e6842f-d0b9-4f06-82fa-3bff16860483",
   "metadata": {},
   "source": [
    "## Correlation\n",
    "\n",
    "1. it measures both the direction and strength of the linear relationship between two variables.\n",
    "2.  It provides a standardized measure of the relationship that ranges from -1 to 1. \n",
    "3. Correlation is unaffected by changes in scale or units of measurement, making it easier to compare and interpret."
   ]
  },
  {
   "cell_type": "code",
   "execution_count": 23,
   "id": "f334174d-c2d2-41a1-8da7-c2e54b4ced7a",
   "metadata": {},
   "outputs": [
    {
     "name": "stdout",
     "output_type": "stream",
     "text": [
      "Correlation coefficient: -0.9999999999999999\n"
     ]
    }
   ],
   "source": [
    "import numpy as np\n",
    "\n",
    "# Create two arrays representing two variables\n",
    "x = np.array([1, 2, 3, 4, 5])\n",
    "y = np.array([5, 4, 3, 2, 1])\n",
    "\n",
    "# Calculate the correlation coefficient\n",
    "corr_coef = np.corrcoef(x, y)[0, 1]\n",
    "print(\"Correlation coefficient:\", corr_coef)"
   ]
  },
  {
   "cell_type": "markdown",
   "id": "9a3cf289-4db3-4358-ad89-2d4cc8c8f3b5",
   "metadata": {},
   "source": [
    "## Skewness\n",
    "\n",
    "1. helps us understand the lack of symmetry in the distribution of data.\n",
    "2. It provides information about the shape of the distribution and the relative concentration of data points around the mean.\n",
    "3. In skewed distribution data points tend to cluster more towards one tail of distribution.\n",
    "4. skewness is classified into three categories - symmetric, positively and negatively skewed.\n",
    "5. symmetric skewness - the data is symmetrically distributed around the mean, and relationship of mean, mode, median is equal\n",
    "6. positive skewness - the tail on the right side of the distribution is longer or stretched out. The mean is typically greater than the median, and the majority of the data points are concentrated towards the lower values.\n",
    "7. negative skewness - the tail on the left side of the distribution is longer or stretched out. The mean is typically less than the median, and the majority of the data points are concentrated towards the higher values."
   ]
  },
  {
   "cell_type": "code",
   "execution_count": 24,
   "id": "c9775ffa-e4cb-4cda-ac1a-39e9965e55a1",
   "metadata": {},
   "outputs": [
    {
     "name": "stdout",
     "output_type": "stream",
     "text": [
      "Skewness: -0.20701375632343366\n"
     ]
    }
   ],
   "source": [
    "from scipy.stats import skew\n",
    "\n",
    "data = [1, 2, 2, 3, 4, 5, 5, 5]\n",
    "\n",
    "# Calculate skewness\n",
    "skewness = skew(data)\n",
    "print(\"Skewness:\", skewness)"
   ]
  },
  {
   "cell_type": "markdown",
   "id": "ac2abe46-aaab-4fca-929a-52927363dce7",
   "metadata": {},
   "source": [
    "## Histogram\n",
    "\n",
    "It divides the range of values into a set of bins and counts the number of data points that fall into each bin."
   ]
  },
  {
   "cell_type": "code",
   "execution_count": 29,
   "id": "d64af0eb-5efc-4344-bf34-fbdcf54f5532",
   "metadata": {},
   "outputs": [
    {
     "data": {
      "image/png": "[encoded data removed]",
      "text/plain": [
       "<Figure size 640x480 with 1 Axes>"
      ]
     },
     "metadata": {},
     "output_type": "display_data"
    }
   ],
   "source": [
    "import matplotlib.pyplot as plt\n",
    "\n",
    "data = [1, 2, 2, 3, 4, 5, 5, 5]\n",
    "\n",
    "# Create a histogram\n",
    "plt.hist(data, bins=5,alpha=0.5,rwidth=0.50)\n",
    "plt.xlabel('Value')\n",
    "plt.ylabel('Frequency')\n",
    "plt.title('Histogram')\n",
    "plt.show()\n"
   ]
  },
  {
   "cell_type": "markdown",
   "id": "f6d7bedc-c00b-429d-8cc4-37bc4859ab2a",
   "metadata": {},
   "source": [
    "## Probability Mass Function"
   ]
  },
  {
   "cell_type": "code",
   "execution_count": 32,
   "id": "2f297fc2-8eeb-4310-9bb4-95e6c08937c5",
   "metadata": {},
   "outputs": [
    {
     "name": "stdout",
     "output_type": "stream",
     "text": [
      "pmf value at k= 5 is 0.24609375000000003\n"
     ]
    }
   ],
   "source": [
    "from scipy.stats import binom\n",
    "\n",
    "#Define the parameters of binomial distribution\n",
    "n= 10 #no. of trails\n",
    "p= 0.5 #probability of success\n",
    "\n",
    "#caculate pmf a specific point\n",
    "k=5 # no. od successes\n",
    "\n",
    "pmf_binom=binom.pmf(k,n,p)\n",
    "print('pmf value at k=',k,'is',pmf_binom)"
   ]
  },
  {
   "cell_type": "markdown",
   "id": "92408b21-50d2-4dee-a8ef-d66542eb4cba",
   "metadata": {},
   "source": [
    "## Probability density function"
   ]
  },
  {
   "cell_type": "code",
   "execution_count": 33,
   "id": "55e979af-a7b5-4a34-8faa-aa46c71e0302",
   "metadata": {},
   "outputs": [
    {
     "name": "stdout",
     "output_type": "stream",
     "text": [
      "pdf value at x= 1.5 is 0.15641707759018236\n"
     ]
    }
   ],
   "source": [
    "from scipy.stats import norm\n",
    "\n",
    "#define parameter of normal distribution\n",
    "mu=2\n",
    "std=2.5\n",
    "\n",
    "#calculate pdf at specific point\n",
    "x=1.5\n",
    "\n",
    "pdf_norm=norm.pdf(x,mu,std)\n",
    "print('pdf value at x=',x,'is',pdf_norm)"
   ]
  },
  {
   "cell_type": "markdown",
   "id": "2a6260c6-6367-42e1-b368-05c4a147bbd1",
   "metadata": {},
   "source": [
    "## Cumulative Distribution Function"
   ]
  },
  {
   "cell_type": "code",
   "execution_count": 34,
   "id": "bc65fc6f-1ad6-4edf-bc6a-a157993aa66b",
   "metadata": {},
   "outputs": [
    {
     "name": "stdout",
     "output_type": "stream",
     "text": [
      "cdf value at x= 2 is 0.8088468305380582\n"
     ]
    }
   ],
   "source": [
    "from scipy.stats import poisson\n",
    "\n",
    "#define parameter of poisson distribution\n",
    "lam=1.5\n",
    "\n",
    "# calculate cdf at specific point\n",
    "x=2\n",
    "\n",
    "cdf_pois=poisson.cdf(x,lam)\n",
    "print('cdf value at x=',x,'is',cdf_pois)"
   ]
  },
  {
   "cell_type": "code",
   "execution_count": 50,
   "id": "c2530d30-8a37-44ea-80f5-3b79d6bbe5f4",
   "metadata": {},
   "outputs": [
    {
     "name": "stdout",
     "output_type": "stream",
     "text": [
      "random sample of size 100 from normal distribution\n",
      " [ 2.92  6.27  1.95  3.92 -0.85  1.45  3.56  2.49 -0.2   1.08  2.2   0.45\n",
      "  1.46  1.52 -0.19  1.22  0.22  1.27  3.28  2.49  2.54  3.4   3.    1.88\n",
      "  1.66  0.71  1.76  2.44  4.24  2.11  3.7   1.32  2.71 -1.4   2.77  3.07\n",
      "  4.06  2.28 -0.92  1.02 -0.58  3.79  1.07  1.49  1.21  1.14  2.12  1.26\n",
      "  0.33 -1.85  2.32  2.67  0.86  3.56  2.05  0.29  1.91  2.94  1.99  2.85\n",
      "  2.17  1.89 -0.37  2.75  2.36  0.07  2.41  0.77  1.14  2.91  0.81  2.43\n",
      "  3.38  1.85 -0.16  1.8   1.59  0.97  0.97  0.54  0.35  3.22  4.1   2.71\n",
      "  2.45  0.01  1.74  1.87  1.68  1.53  0.86  3.93  0.07  0.75  4.02  1.18\n",
      "  1.74 -0.01  1.34  1.63]\n",
      "sample mean :  1.7572999999999999\n",
      "sample variance :  1.8766837099999996\n"
     ]
    }
   ],
   "source": [
    "## generating random sample and calculate sample mean & variance\n",
    "import numpy as np\n",
    "#generate random sample\n",
    "\n",
    "mean=2\n",
    "std=1.5\n",
    "\n",
    "x=np.random.normal(mean,std,size=100)\n",
    "rounded_x = np.round(x, decimals=2)\n",
    "\n",
    "mean=np.mean(rounded_x)\n",
    "var=np.var(rounded_x)\n",
    "\n",
    "print('random sample of size 100 from normal distribution\\n',rounded_x)\n",
    "print('sample mean : ',mean)\n",
    "print('sample variance : ',var)"
   ]
  },
  {
   "cell_type": "code",
   "execution_count": null,
   "id": "7856c525-acf2-47ed-b4d9-5e9c11fbc1ca",
   "metadata": {},
   "outputs": [],
   "source": []
  }
 ],
 "metadata": {
  "kernelspec": {
   "display_name": "Python 3 (ipykernel)",
   "language": "python",
   "name": "python3"
  },
  "language_info": {
   "codemirror_mode": {
    "name": "ipython",
    "version": 3
   },
   "file_extension": ".py",
   "mimetype": "text/x-python",
   "name": "python",
   "nbconvert_exporter": "python",
   "pygments_lexer": "ipython3",
   "version": "3.10.8"
  }
 },
 "nbformat": 4,
 "nbformat_minor": 5
}
