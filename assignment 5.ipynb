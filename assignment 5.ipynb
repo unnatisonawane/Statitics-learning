{
 "cells": [
  {
   "cell_type": "markdown",
   "id": "3d95b4d1-cfc9-4e16-bbf2-bd3311d4b2ef",
   "metadata": {},
   "source": [
    "## Q1: What is Estimation Statistics? Explain point estimate and interval estimate."
   ]
  },
  {
   "cell_type": "markdown",
   "id": "6e7be7d7-cbf6-41ed-8f48-9db656caf68d",
   "metadata": {},
   "source": [
    "Estimation Statistics:\n",
    "It is the process of estimating unknown population parameters based on sample data. \n",
    "1. Point Estimate:\n",
    "A point estimate is a single value that is used to estimate or approximate an unknown population parameter.\n",
    "Example, if we want to estimate the mean height of all adults in a country, we can take a sample of individuals,    calculate their average height, and use that average as a point estimate of the population mean.\n",
    "\n",
    "2. Interval Estimate:\n",
    "An interval estimate, also known as a confidence interval, provides a range of values within which the true population parameter is likely to lie.\n",
    "For example, a 95% confidence interval for the mean height of adults might be expressed as \"between 165 cm and 175 cm with 95% confidence.\" This means that if we were to repeat the sampling process many times, 95% of the resulting intervals would contain the true population mean.\n",
    "   \n",
    "    "
   ]
  },
  {
   "cell_type": "markdown",
   "id": "cc9675fc-9adc-473e-b642-27535b2198a0",
   "metadata": {},
   "source": [
    "## Q2. Write a Python function to estimate the population mean using a sample mean and standard deviation."
   ]
  },
  {
   "cell_type": "code",
   "execution_count": 17,
   "id": "57df197d-4f61-419b-a39c-7704accfa63a",
   "metadata": {},
   "outputs": [
    {
     "name": "stdout",
     "output_type": "stream",
     "text": [
      "Estimated population mean: 65.8\n"
     ]
    }
   ],
   "source": [
    "import math\n",
    "\n",
    "    #sample statistics\n",
    "sample_mean = 65.8\n",
    "sample_std_dev = 3.2\n",
    "sample_size = 30\n",
    "confidence_level = 0.95\n",
    "\n",
    "     # Calculate the standard error\n",
    "standard_error = sample_std_dev / math.sqrt(sample_size)\n",
    "\n",
    "\n",
    "     #  Find the critical value (using z-table for a large sample size)\n",
    "critical_value = norm.isf(alpha)\n",
    "\n",
    "     #  Calculate the margin of error\n",
    "margin_of_error = critical_value * standard_error\n",
    "\n",
    "     #Calculate the lower and upper bounds of the confidence interval\n",
    "lower_bound = sample_mean - margin_of_error\n",
    "upper_bound = sample_mean + margin_of_error\n",
    "\n",
    "     # Calculate the estimated population mean\n",
    "estimated_population_mean = (lower_bound + upper_bound) / 2\n",
    "\n",
    "print(\"Estimated population mean:\", estimated_population_mean)"
   ]
  },
  {
   "cell_type": "markdown",
   "id": "c9b1737d-d3ad-4690-99cc-c2e72e66ab5c",
   "metadata": {},
   "source": [
    "## Q3: What is Hypothesis testing? Why is it used? State the importance of Hypothesis testing."
   ]
  },
  {
   "cell_type": "markdown",
   "id": "4abe730c-1fcd-44b6-94c9-456a394db83b",
   "metadata": {},
   "source": [
    "1. Hypothesis testing is a statistical procedure used to make inferences and draw conclusions about population parameters based on sample data.\n",
    "2. The goal of hypothesis testing is to evaluate the strength of the evidence in the sample data to either support or reject the null hypothesis in favor of the alternative hypothesis.\n",
    "3. hypothesis testing is used in statistics to make inferences, support decision-making, validate research hypotheses, establish causality, and provide an objective and transparent approach to data analysis. "
   ]
  },
  {
   "cell_type": "markdown",
   "id": "0de2572b-2dfe-4e1c-b06c-1076f365f89d",
   "metadata": {},
   "source": [
    "## Q4. Create a hypothesis that states whether the average weight of male college students is greater than the average weight of female college students."
   ]
  },
  {
   "cell_type": "markdown",
   "id": "30eed759-d544-4bda-b219-1940709b27f7",
   "metadata": {},
   "source": [
    "Null Hypothesis (H0): The average weight of male college students is equal to the average weight of female college students.\n",
    "\n",
    "Alternative Hypothesis (H1): The average weight of male college students is greater than the average weight of female college students.\n",
    "\n",
    "Symbolically, this can be represented as:\n",
    "\n",
    "H0: μm = μf\n",
    "H1: μm > μf"
   ]
  },
  {
   "cell_type": "markdown",
   "id": "603d9985-75dc-4c63-9b90-2ad945b818b8",
   "metadata": {},
   "source": [
    "## Q5. Write a Python script to conduct a hypothesis test on the difference between two population means, given a sample from each population."
   ]
  },
  {
   "cell_type": "code",
   "execution_count": 1,
   "id": "c5690ed9-492b-4df4-b343-99816445db12",
   "metadata": {},
   "outputs": [
    {
     "name": "stdout",
     "output_type": "stream",
     "text": [
      "Result: Reject the null hypothesis\n",
      "Test statistic: -5.0\n",
      "p-value: 0.0010528257933664076\n",
      "Critical value: 2.3060041350333704\n"
     ]
    }
   ],
   "source": [
    "import numpy as np\n",
    "from scipy.stats import t\n",
    "\n",
    "def two_sample_ttest(sample1, sample2, alpha):\n",
    "    \n",
    "    # Calculate sample statistics\n",
    "    n1 = len(sample1)\n",
    "    n2 = len(sample2)\n",
    "    mean1 = np.mean(sample1)\n",
    "    mean2 = np.mean(sample2)\n",
    "    var1 = np.var(sample1, ddof=1)\n",
    "    var2 = np.var(sample2, ddof=1)\n",
    "\n",
    "    # Calculate the test statistic\n",
    "    pooled_var = ((n1 - 1) * var1 + (n2 - 1) * var2) / (n1 + n2 - 2)\n",
    "    t_stat = (mean1 - mean2) / np.sqrt(pooled_var * (1/n1 + 1/n2))\n",
    "\n",
    "    # Calculate the degrees of freedom\n",
    "    df = n1 + n2 - 2\n",
    "\n",
    "    # Calculate the critical value for two-tailed test\n",
    "    t_critical = t.ppf(1 - alpha/2, df)\n",
    "\n",
    "    # Calculate the p-value\n",
    "    p_value = 2 * (1 - t.cdf(abs(t_stat), df))\n",
    "\n",
    "    # Perform hypothesis test\n",
    "    if abs(t_stat) > t_critical:\n",
    "        result = \"Reject the null hypothesis\"\n",
    "    else:\n",
    "        result = \"Fail to reject the null hypothesis\"\n",
    "\n",
    "    # Return the result, test statistic, p-value, and critical value\n",
    "    return result, t_stat, p_value, t_critical\n",
    "\n",
    "# Example usage\n",
    "sample1 = [1, 2, 3, 4, 5]\n",
    "sample2 = [6, 7, 8, 9, 10]\n",
    "alpha = 0.05\n",
    "\n",
    "result, t_stat, p_value, t_critical = two_sample_ttest(sample1, sample2, alpha)\n",
    "\n",
    "print(\"Result:\", result)\n",
    "print(\"Test statistic:\", t_stat)\n",
    "print(\"p-value:\", p_value)\n",
    "print(\"Critical value:\", t_critical)"
   ]
  },
  {
   "cell_type": "markdown",
   "id": "249829a6-8b0b-47a5-ae47-ffba0e21cdef",
   "metadata": {},
   "source": [
    "## Q6: What is a null and alternative hypothesis? Give some examples."
   ]
  },
  {
   "cell_type": "markdown",
   "id": "fdb7f925-17d0-4679-a035-0c8c8ea5222e",
   "metadata": {},
   "source": [
    "In hypothesis testing, the null hypothesis (H0) and alternative hypothesis (H1) are two opposing statements that are used to evaluate assumption about a population parameter.\n",
    "1. The null hypothesis (H0): It is the default position or assumption that there is no significant difference, effect, or relationship between variables or populations. \n",
    "2. Alternative hypothesis: It suggests that there is indeed a significant difference, effect, or relationship between variables or populations.\n",
    "3. Example: Testing the effectiveness of a new drug\n",
    "Null hypothesis (H0): The new drug has no effect on the recovery time.\n",
    "Alternative hypothesis (H1): The new drug reduces the recovery time significantly."
   ]
  },
  {
   "cell_type": "markdown",
   "id": "dae64132-5749-469d-8b7f-3680299f50b0",
   "metadata": {},
   "source": [
    "## Q7: Write down the steps involved in hypothesis testing."
   ]
  },
  {
   "cell_type": "markdown",
   "id": "c4512415-d0c5-464f-8da8-0c2f9224bb37",
   "metadata": {},
   "source": [
    " Here are the general steps involved in hypothesis testing:\n",
    "1. State the null and alternative hypotheses.\n",
    "2. Set the significance level (alpha).\n",
    "3. Select an appropriate test statistic.\n",
    "4. Collect and analyze the data.\n",
    "5. Determine the critical region.\n",
    "6. Calculate the p-value.\n",
    "7. Make a decision.\n",
    "8. Interpret the results."
   ]
  },
  {
   "cell_type": "markdown",
   "id": "2fd0a1d4-de77-47ae-99a2-2d151141a7c0",
   "metadata": {},
   "source": [
    "## Q8. Define p-value and explain its significance in hypothesis testing."
   ]
  },
  {
   "cell_type": "markdown",
   "id": "32dd5a19-3f41-4d54-b819-f16c3299c15c",
   "metadata": {},
   "source": [
    "1. The p-value is a statistical measure used in hypothesis testing to quantify the strength of evidence against the null hypothesis.\n",
    "2. It represents the probability of observing a test statistic as extreme as (or more extreme than) the one obtained from the data, assuming the null hypothesis is true.\n",
    "3. The p-value plays a critical role in hypothesis testing by providing a quantitative measure of the evidence against the null hypothesis.\n",
    "4. It helps researchers and analysts make informed decisions about accepting or rejecting hypotheses based on the strength of the observed data."
   ]
  },
  {
   "cell_type": "markdown",
   "id": "5aca8f9b-79b6-4fc2-a50f-292271e5d116",
   "metadata": {},
   "source": [
    "## Q9. Generate a Student's t-distribution plot using Python's matplotlib library, with the degrees of freedom parameter set to 10."
   ]
  },
  {
   "cell_type": "code",
   "execution_count": 22,
   "id": "f79a4ca6-5466-4afb-9f21-92b06f1f3c40",
   "metadata": {},
   "outputs": [
    {
     "data": {
      "image/png": "[encoded data removed]",
      "text/plain": [
       "<Figure size 640x480 with 1 Axes>"
      ]
     },
     "metadata": {},
     "output_type": "display_data"
    }
   ],
   "source": [
    "import numpy as np\n",
    "import matplotlib.pyplot as plt\n",
    "from scipy.stats import t\n",
    "\n",
    "# Set the degrees of freedom\n",
    "df = 10\n",
    "\n",
    "# Generate x values for the t-distribution plot\n",
    "x = np.arange(-4, 4, 0.01)\n",
    "\n",
    "# Calculate the probability density function (PDF) for the t-distribution\n",
    "pdf = t.pdf(x, df)\n",
    "\n",
    "# Create the plot\n",
    "plt.plot(x, pdf, label='Degrees of Freedom = 10')\n",
    "plt.xlabel('x')\n",
    "plt.ylabel('Probability Density Function (PDF)')\n",
    "plt.title(\"Student's t-Distribution\")\n",
    "plt.legend()\n",
    "plt.grid(True)\n",
    "\n",
    "# Show the plot\n",
    "plt.show()\n"
   ]
  },
  {
   "cell_type": "markdown",
   "id": "b0f21cdb-c602-431f-8b10-e035ce77c866",
   "metadata": {},
   "source": [
    "## Q10. Write a Python program to calculate the two-sample t-test for independent samples, given two random samples of equal size and a null hypothesis that the population means are equal."
   ]
  },
  {
   "cell_type": "code",
   "execution_count": 16,
   "id": "f22f8f62-8b99-47f4-8d08-bb14dbbc5027",
   "metadata": {},
   "outputs": [
    {
     "name": "stdout",
     "output_type": "stream",
     "text": [
      "Two-sample t-test results:\n",
      "T-statistic: -6.860094711175674\n",
      "P-value: 8.597813321554823e-11\n",
      "Null hypothesis rejected. There is significant evidence that the population means are different.\n"
     ]
    }
   ],
   "source": [
    "import numpy as np\n",
    "from scipy.stats import ttest_ind\n",
    "\n",
    "    # Generate two random samples of equal size\n",
    "sample1 = np.random.normal(loc=10, scale=2, size=100)\n",
    "sample2 = np.random.normal(loc=12, scale=2, size=100)\n",
    "\n",
    "    # Perform two-sample t-test\n",
    "t_statistic, p_value = ttest_ind(sample1, sample2)\n",
    "\n",
    "    # Set the significance level (alpha)\n",
    "alpha = 0.05\n",
    "\n",
    "    # Print the results\n",
    "print(f'Two-sample t-test results:')\n",
    "print(f'T-statistic: {t_statistic}')\n",
    "print(f'P-value: {p_value}')\n",
    "\n",
    "     # Compare p-value with the significance level\n",
    "if p_value < alpha:\n",
    "    print('Null hypothesis rejected. There is significant evidence that the population means are different.')\n",
    "else:\n",
    "    print('Null hypothesis not rejected. There is not enough evidence to conclude a difference in population means.')\n"
   ]
  },
  {
   "cell_type": "markdown",
   "id": "2e10038e-6db1-4737-b4bb-51f29b957e96",
   "metadata": {},
   "source": [
    "## Q11: What is Student’s t distribution? When to use the t-Distribution."
   ]
  },
  {
   "cell_type": "markdown",
   "id": "a38af1f8-bdc7-4a2d-b93c-a08ccb583ba7",
   "metadata": {},
   "source": [
    "1. It is used when the population standard deviation is unknown and the sample size is small.\n",
    "2. The t-distribution is similar in shape to the standard normal distribution (Z-distribution), but it has heavier tails.\n",
    "3. The shape is determined by a parameter called degrees of freedom (df). \n",
    "4. The degrees of freedom represent the number of independent observations available to estimate a quantity."
   ]
  },
  {
   "cell_type": "markdown",
   "id": "be815594-b511-490d-b0ba-7682fe1193df",
   "metadata": {},
   "source": [
    "## Q12: What is t-statistic? State the formula for t-statistic."
   ]
  },
  {
   "cell_type": "markdown",
   "id": "5b6aaf0f-ae99-4bc7-a11f-4947ad6e8c8c",
   "metadata": {},
   "source": [
    "1.  It is used in hypothesis testing to assess whether there is a significant difference between the sample mean and the hypothesized population mean.\n",
    "2. One-Sample t-Test:\n",
    "t = (x̄ - μ) / (s / √n)\n",
    "3. Two-Sample t-Test (Independent Samples):\n",
    "t = (x̄1 - x̄2) / (s_pooled * √(1/n1 + 1/n2))\n",
    "where s_pooled = √(((n1 - 1) * s1^2 + (n2 - 1) * s2^2) / (n1 + n2 - 2))"
   ]
  },
  {
   "cell_type": "markdown",
   "id": "d528c194-c1c4-4d61-8d56-207739f815df",
   "metadata": {},
   "source": [
    "## Q13. A coffee shop owner wants to estimate the average daily revenue for their shop. They take a random sample of 50 days and find the sample mean revenue to be 500 with a standard deviation of $50. Estimate the population mean revenue with a 95% confidence interval."
   ]
  },
  {
   "cell_type": "code",
   "execution_count": 15,
   "id": "caeea22c-c0c7-4878-b9ad-f5b1d8d3bde3",
   "metadata": {},
   "outputs": [
    {
     "name": "stdout",
     "output_type": "stream",
     "text": [
      "Sample mean: $500\n",
      "Standard deviation: $50\n",
      "Sample size: 50\n",
      "Degrees of freedom: 49\n",
      "Critical value: 2.010\n",
      "Standard error: 7.071\n",
      "Margin of Error: 14.210\n",
      "95% Confidence Interval: ($485.790, $514.210)\n"
     ]
    }
   ],
   "source": [
    "import numpy as np\n",
    "from scipy.stats import t\n",
    "\n",
    "    # Sample statistics\n",
    "sample_mean = 500\n",
    "sample_std = 50\n",
    "sample_size = 50\n",
    "alpha = 0.05\n",
    "\n",
    "    # We use the t-distribution since the population standard deviation is unknown\n",
    "    \n",
    "    # Degrees of freedom\n",
    "df = sample_size - 1\n",
    "\n",
    "   # Calculate the critical value\n",
    "critical_value = t.ppf(1 - alpha/2, df)\n",
    "\n",
    "    # Standard error\n",
    "standard_error = sample_std / np.sqrt(sample_size)\n",
    "\n",
    "    # Margin of Error\n",
    "margin_of_error = critical_value * standard_error\n",
    "\n",
    "    # Confidence interval\n",
    "confidence_interval = (sample_mean - margin_of_error, sample_mean + margin_of_error)\n",
    "\n",
    "    # Print the results\n",
    "print(f\"Sample mean: ${sample_mean}\")\n",
    "print(f\"Standard deviation: ${sample_std}\")\n",
    "print(f\"Sample size: {sample_size}\")\n",
    "print(f\"Degrees of freedom: {df}\")\n",
    "print(f\"Critical value: {critical_value:.3f}\")\n",
    "print(f\"Standard error: {standard_error:.3f}\")\n",
    "print(f\"Margin of Error: {margin_of_error:.3f}\")\n",
    "print(f\"95% Confidence Interval: (${confidence_interval[0]:.3f}, ${confidence_interval[1]:.3f})\")\n"
   ]
  },
  {
   "cell_type": "markdown",
   "id": "0800bf04-ecbb-4210-a244-394668dc6134",
   "metadata": {},
   "source": [
    "## Q14. A researcher hypothesizes that a new drug will decrease blood pressure by 10 mmHg. They conduct a clinical trial with 100 patients and find that the sample mean decrease in blood pressure is 8 mmHg with a standard deviation of 3 mmHg. Test the hypothesis with a significance level of 0.05."
   ]
  },
  {
   "cell_type": "code",
   "execution_count": 14,
   "id": "317fc120-2c8a-483e-9d06-844a924c0797",
   "metadata": {},
   "outputs": [
    {
     "name": "stdout",
     "output_type": "stream",
     "text": [
      "Test Statistic: -6.666666666666667\n",
      "Critical Value: 1.9842169515086827\n",
      "P-value: 1.5012289189542116e-09\n",
      " t test is greater than critical value,  Reject the null hypothesis\n",
      "Reject the null hypothesis.\n"
     ]
    }
   ],
   "source": [
    "import numpy as np\n",
    "from scipy.stats import t\n",
    "\n",
    "     # Sample statistics\n",
    "sample_mean = 8\n",
    "hypothesized_mean = 10\n",
    "sample_std = 3\n",
    "sample_size = 100\n",
    "alpha = 0.05\n",
    "\n",
    "     # We use the t-distribution since the population standard deviation is unknown\n",
    "     # two tailed test\n",
    "\n",
    "     #Null hypothesis (H0): The mean decrease in blood pressure is not significantly different from 10 mmHg.\n",
    "     #Alternative hypothesis (H1): The mean decrease in blood pressure is significantly different from 10 mmHg.\n",
    "\n",
    "     # Degrees of freedom\n",
    "df = sample_size - 1\n",
    "\n",
    "     # Calculate the test statistic\n",
    "t_statistic = (sample_mean - hypothesized_mean) / (sample_std / np.sqrt(sample_size))\n",
    "\n",
    "     # Calculate the critical value\n",
    "critical_value = t.ppf(1 - alpha/2, df)\n",
    "\n",
    "     # Calculate the p-value\n",
    "p_value = 2 * (1 - t.cdf(abs(t_statistic), df))\n",
    "\n",
    "     # Print the results\n",
    "print(\"Test Statistic:\", t_statistic)\n",
    "print(\"Critical Value:\", critical_value)\n",
    "print(\"P-value:\", p_value)\n",
    "\n",
    "     # make a conclusion \n",
    "if abs(t_statistic) > critical_value :\n",
    "    print( \" t test is greater than critical value,  Reject the null hypothesis\")\n",
    "else:\n",
    "    print( \" t test is less than critical value, Accept the null hypothesis\")\n",
    "   \n",
    "    # Compare p-value with the significance level\n",
    "if p_value < alpha:\n",
    "    print(\"Reject the null hypothesis.\")\n",
    "else:\n",
    "    print(\"fail to reject null hypothesis\")"
   ]
  },
  {
   "cell_type": "markdown",
   "id": "1d437b87-991e-4b77-8223-8be4ba0733c5",
   "metadata": {},
   "source": [
    "Conclusion :\n",
    " The mean decrease in blood pressure is significantly different from 10 mmHg.\n"
   ]
  },
  {
   "cell_type": "markdown",
   "id": "ffc010fe-52a3-4ded-9179-e8f11ce1c56b",
   "metadata": {},
   "source": [
    "## Q15. An electronics company produces a certain type of product with a mean weight of 5 pounds and a standard deviation of 0.5 pounds. A random sample of 25 products is taken, and the sample mean weight is found to be 4.8 pounds. Test the hypothesis that the true mean weight of the products is less than 5 pounds with a significance level of 0.01."
   ]
  },
  {
   "cell_type": "code",
   "execution_count": 20,
   "id": "4a87a032-9c74-4844-a7bf-45c48b7fe48a",
   "metadata": {},
   "outputs": [
    {
     "name": "stdout",
     "output_type": "stream",
     "text": [
      "Test Statistic (z-score): -2.0000000000000018\n",
      "Critical Value: 2.3263478740408408\n",
      "P-value: 0.0227501319481791\n",
      "z test is less than critical value, Accept the null hypothesis\n",
      "fail to reject null hypothesis\n"
     ]
    }
   ],
   "source": [
    "import numpy as np\n",
    "from scipy.stats import norm\n",
    "\n",
    "     # Sample statistics\n",
    "sample_mean = 4.8\n",
    "hypothesized_mean = 5\n",
    "population_std = 0.5\n",
    "sample_size = 25\n",
    "\n",
    "     # We use the z-distribution since the population standard deviation is known\n",
    "     # one tailed test\n",
    "\n",
    "     #Null hypothesis (H0): The true mean weight of the products is equal to or greater than 5 pounds.\n",
    "     # Alternative hypothesis (Ha):.0 The true mean weight of the products is less than 5 pounds.\n",
    "\n",
    "     # Calculate the test statistic (z-score)\n",
    "z_statistic = (sample_mean - hypothesized_mean) / (population_std / np.sqrt(sample_size))\n",
    "\n",
    "     # Calculate the critical value\n",
    "alpha = 0.01\n",
    "critical_value = norm.isf(alpha)\n",
    "\n",
    "     # Calculate the p-value\n",
    "p_value = norm.cdf(z_statistic)\n",
    "\n",
    "     # Print the results\n",
    "print(\"Test Statistic (z-score):\", z_statistic)\n",
    "print(\"Critical Value:\", critical_value)\n",
    "print(\"P-value:\", p_value)\n",
    "\n",
    "     # Make a conclusion\n",
    "if abs(z_statistic) > critical_value:\n",
    "    print(\" z test is greater than critical value,  Reject the null hypothesis\")\n",
    "else:\n",
    "    print(\"z test is less than critical value, Accept the null hypothesis\")\n",
    "    \n",
    "     # Compare p-value with the significance level\n",
    "if p_value < alpha:\n",
    "    print(\"Reject the null hypothesis.\")\n",
    "else:\n",
    "    print( \"fail to reject null hypothesis\")\n",
    "\n"
   ]
  },
  {
   "cell_type": "markdown",
   "id": "09a46ca4-268d-4eec-977c-b72acbed790e",
   "metadata": {},
   "source": [
    "Conclusion:\n",
    "1. The true mean weight of the products is less than 5 pounds.\n",
    "2. The average weight of the product seems to be decreasing based on sample data."
   ]
  },
  {
   "cell_type": "markdown",
   "id": "7f013b94-92ef-4655-b7c1-676fb055b433",
   "metadata": {},
   "source": [
    "## Q16. Two groups of students are given different study materials to prepare for a test. The first group (n1 = 30) has a mean score of 80 with a standard deviation of 10, and the second group (n2 = 40) has a mean score of 75 with a standard deviation of 8. Test the hypothesis that the population means for the two groups are equal with a significance level of 0.01."
   ]
  },
  {
   "cell_type": "code",
   "execution_count": 19,
   "id": "853f8856-7a47-46f1-ae0a-c0bea0063ee4",
   "metadata": {},
   "outputs": [
    {
     "name": "stdout",
     "output_type": "stream",
     "text": [
      "Test statistic: 2.323967729699292\n",
      "p-value: 0.023123013413725912\n",
      "Critical value: 2.6500812928169553\n",
      "t test is less than critical value, Accept the null hypothesis\n",
      "fail to reject null hypothesis\n"
     ]
    }
   ],
   "source": [
    "import numpy as np\n",
    "from scipy.stats import t\n",
    "\n",
    "    #sample statistics\n",
    "n1 = 30\n",
    "n2 = 40\n",
    "mean1 = 80\n",
    "mean2 = 75\n",
    "var1 = 100\n",
    "var2 = 64\n",
    "alpha=0.01\n",
    "    \n",
    "    # We use the t-distribution since the population standard deviation is unknown\n",
    "    # two tailed - two sample test\n",
    "    # Calculate the test statistic\n",
    "pooled_var = ((n1 - 1) * var1 + (n2 - 1) * var2) / (n1 + n2 - 2)\n",
    "t_statistic = (mean1 - mean2) / np.sqrt(pooled_var * (1/n1 + 1/n2))\n",
    "\n",
    "    # Calculate the degrees of freedom\n",
    "df = n1 + n2 - 2\n",
    "\n",
    "    # Calculate the critical value for two-tailed test\n",
    "critical_value = t.ppf(1 - alpha/2, df)\n",
    "\n",
    "    # Calculate the p-value\n",
    "p_value = 2 * (1 - t.cdf(abs(t_stat), df))\n",
    "\n",
    "    #print the result\n",
    "print(\"Test statistic:\", t_statistic)\n",
    "print(\"p-value:\", p_value)\n",
    "print(\"Critical value:\", critical_value)\n",
    "\n",
    "    # make a conclusion \n",
    "if abs(t_statistic) > critical_value:\n",
    "    print(\" t test is greater than critical value,  Reject the null hypothesis\")\n",
    "else:\n",
    "    print(\"t test is less than critical value, Accept the null hypothesis\")\n",
    "    \n",
    "  # Compare p-value with the significance level\n",
    "if p_value < alpha:\n",
    "    print(\"Reject the null hypothesis.\")\n",
    "else:\n",
    "    print( \"fail to reject null hypothesis\")\n"
   ]
  },
  {
   "cell_type": "markdown",
   "id": "eef8dbf8-e13d-49c3-9d9c-a51318d0ad3a",
   "metadata": {},
   "source": [
    "Conclusion: the population means for the two groups are equal"
   ]
  },
  {
   "cell_type": "markdown",
   "id": "5943b30f-7578-4bfe-9dfd-d26cbd4004c0",
   "metadata": {},
   "source": [
    "## Q17. A marketing company wants to estimate the average number of ads watched by viewers during a TV program. They take a random sample of 50 viewers and find that the sample mean is 4 with a standard deviation of 1.5. Estimate the population mean with a 99% confidence interval."
   ]
  },
  {
   "cell_type": "code",
   "execution_count": 29,
   "id": "4fb3a0a5-771e-48df-b72c-a2291f8a3f9a",
   "metadata": {},
   "outputs": [
    {
     "name": "stdout",
     "output_type": "stream",
     "text": [
      "Sample mean: 4\n",
      "Sample Standard deviation: 1.5\n",
      "Sample size: 50\n",
      "Critical value: 2.680\n",
      "Standard error: 0.212\n",
      "Margin of Error: 0.569\n",
      "95% Confidence Interval: (3.431, 4.569)\n"
     ]
    }
   ],
   "source": [
    "import math\n",
    "\n",
    "    #sample statistics\n",
    "sample_mean = 4\n",
    "sample_std = 1.5\n",
    "sample_size = 50\n",
    "confidence_level = 0.99\n",
    "alpha = 0.01\n",
    "\n",
    "     # Calculate the degrees of freedom\n",
    "df = sample_size-1\n",
    "\n",
    "     # Calculate the standard error\n",
    "standard_error = sample_std_dev / math.sqrt(sample_size)\n",
    "\n",
    "\n",
    "     #  Find the critical value (using z-table for a large sample size)\n",
    "critical_value =  t.ppf(1 - alpha/2, df)\n",
    "\n",
    "     #  Calculate the margin of error\n",
    "margin_of_error = critical_value * standard_error\n",
    "\n",
    "    # Confidence interval\n",
    "confidence_interval = (sample_mean - margin_of_error, sample_mean + margin_of_error)\n",
    "\n",
    " # Print the results\n",
    "print(f\"Sample mean: {sample_mean}\")\n",
    "print(f\"Sample Standard deviation: {sample_std}\")\n",
    "print(f\"Sample size: {sample_size}\")\n",
    "print(f\"Critical value: {critical_value:.3f}\")\n",
    "print(f\"Standard error: {standard_error:.3f}\")\n",
    "print(f\"Margin of Error: {margin_of_error:.3f}\")\n",
    "print(f\"95% Confidence Interval: ({confidence_interval[0]:.3f}, {confidence_interval[1]:.3f})\")\n"
   ]
  },
  {
   "cell_type": "code",
   "execution_count": null,
   "id": "dd07925f-affa-4bf7-9bf5-f96b64886083",
   "metadata": {},
   "outputs": [],
   "source": []
  }
 ],
 "metadata": {
  "kernelspec": {
   "display_name": "Python 3 (ipykernel)",
   "language": "python",
   "name": "python3"
  },
  "language_info": {
   "codemirror_mode": {
    "name": "ipython",
    "version": 3
   },
   "file_extension": ".py",
   "mimetype": "text/x-python",
   "name": "python",
   "nbconvert_exporter": "python",
   "pygments_lexer": "ipython3",
   "version": "3.10.8"
  }
 },
 "nbformat": 4,
 "nbformat_minor": 5
}
