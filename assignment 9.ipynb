{
 "cells": [
  {
   "cell_type": "markdown",
   "id": "1a8b1a52-85ce-495f-9bb4-0b62892c5530",
   "metadata": {},
   "source": [
    "# Q1. Explain the assumptions required to use ANOVA and provide examples of violations that could impact the validity of the results."
   ]
  },
  {
   "cell_type": "markdown",
   "id": "3c56ec1b-f719-420e-a865-bb62ac7223bd",
   "metadata": {},
   "source": [
    "### Assumptions in ANOVA and examples of potential violations:\n",
    "1. Independence : Violations of independence occur when there is a dependency or correlation between observations.\n",
    "\n",
    "   Violation  - Repeated measures: When measurements are taken from the same subjects multiple times, the observations within each subject are correlated.\n",
    "\n",
    "2. Normality: The dependent variable within each group should follow a normal distribution. Departure from normality can affect the accuracy of p-values and confidence intervals. \n",
    "\n",
    "   Violations may include: Skewness or heavy-tailed distributions & Outliers\n",
    "\n",
    "3. Homogeneity of Variance: The variance of the dependent variable should be equal across all groups.\n",
    "\n",
    "   Unequal variances: If the variance differs substantially between groups, it violates the assumption of homogeneity of variance.\n",
    "   Heteroscedasticity: When the variability of the dependent variable increases or decreases systematically across the levels of the independent variable.\n"
   ]
  },
  {
   "cell_type": "markdown",
   "id": "ba3ba9c6-3bf6-4eec-a4b3-af988a46d802",
   "metadata": {},
   "source": [
    "## Q2. What are the three types of ANOVA, and in what situations would each be used?"
   ]
  },
  {
   "cell_type": "markdown",
   "id": "cf1d48e6-104a-4344-91d5-2b28101fc883",
   "metadata": {},
   "source": [
    "1. One-Way ANOVA:\n",
    "\n",
    "Situation: One-Way ANOVA is used when you have one factor with two or more levels and you want to compare the means of a continuous dependent variable across those groups.\n",
    "Example: Comparing the average test scores of students across different grade levels (e.g., 9th grade, 10th grade, 11th grade, and 12th grade).\n",
    "\n",
    "2. Two-Way ANOVA:\n",
    "\n",
    "Situation: Two-Way ANOVA is used when you have two factors and one continuous dependent variable. It allows you to examine the main effects of each independent variable and their interaction effect on the dependent variable.\n",
    "Example: Investigating the effect of both gender (male vs. female) and treatment (drug A vs. drug B) on blood pressure levels.\n",
    "\n",
    "3. Three-Way ANOVA:\n",
    "\n",
    "Situation: Three-Way ANOVA is used when you have three categorical independent variables (factors) and one continuous dependent variable. It allows you to examine the main effects of each independent variable, as well as their interactions.\n",
    "Example: Analyzing the impact of factors like temperature (low, medium, high), humidity (low, medium, high), and time of day (morning, afternoon, evening) on crop yield."
   ]
  },
  {
   "cell_type": "markdown",
   "id": "edfec0d9-25a2-41a1-97d2-9d8d58c149e6",
   "metadata": {
    "tags": []
   },
   "source": [
    "## Q3. What is the partitioning of variance in ANOVA, and why is it important to understand this concept?"
   ]
  },
  {
   "cell_type": "markdown",
   "id": "9547cb2f-7d4b-42fb-9312-05f0bb73da15",
   "metadata": {},
   "source": [
    "1. The partitioning of variance in ANOVA refers to the decomposition of the total variation in the data into different sources of variation.\n",
    "2. It involves dividing the total sum of squares (SST) into several components, such as the sum of squares between groups (SSB) and the sum of squares within groups (SSW). \n",
    "3. Understanding this concept is important because it provides valuable insights into the sources of variability and helps in interpreting the results of ANOVA.\n",
    "Imagine you have a group of people, and you want to understand why their heights are different. \n",
    "      1. total variation  \"total sum of squares.\" = It represents all the differences in heights among the people.\n",
    "      2. \"sum of squares between groups,\" tells you how much of the variation in height comes from differences between            specific groups of people (like males and females).\n",
    "      3. \"sum of squares within groups,\" tells you how much of the variation in height comes from differences within each          group (like individual differences within the male or female group).\n",
    "      4. By understanding this partitioning, you can see how much of the total height variation is due to differences              between groups and how much is due to differences within groups."
   ]
  },
  {
   "cell_type": "markdown",
   "id": "6f582d0f-a282-487d-8189-534800558399",
   "metadata": {},
   "source": [
    "## Q4. How would you calculate the total sum of squares (SST), explained sum of squares (SSE), and residual sum of squares (SSR) in a one-way ANOVA using Python?"
   ]
  },
  {
   "cell_type": "markdown",
   "id": "599ce0e3-532b-4d52-b6ba-01506d055844",
   "metadata": {},
   "source": [
    "1. Total Sum of Squares (SST):\n",
    "    1. Formula: SST = Σ(y - ȳ)²\n",
    "    2. Calculation: Sum the squared differences between each individual value (y) and the overall mean (ȳ) across all            observations. \n",
    "\n",
    "2. Explained Sum of Squares (SSE):\n",
    "   1. Formula: SSE = Σ(nᵢ(ȳᵢ - ȳ)²)\n",
    "   2. Calculation: For each group, calculate the squared difference between the group mean (ȳᵢ) and the overall mean (ȳ),       and multiply it by the number of observations (nᵢ) in that group. Sum these values across all groups.\n",
    "\n",
    "3. Residual Sum of Squares (SSR):\n",
    "    1. Formula: SSR = SST - SSE\n",
    "    2. Calculation: Subtract the explained sum of squares (SSE) from the total sum of squares (SST) to obtain the                residual sum of squares (SSR)."
   ]
  },
  {
   "cell_type": "markdown",
   "id": "5be88654-9fb8-4fc3-bf63-2599cd2e1304",
   "metadata": {},
   "source": [
    "## Q5. In a two-way ANOVA, how would you calculate the main effects and interaction effects using Python?"
   ]
  },
  {
   "cell_type": "code",
   "execution_count": 2,
   "id": "3d28466f-61ef-4987-9866-a01135c1f360",
   "metadata": {},
   "outputs": [
    {
     "name": "stdout",
     "output_type": "stream",
     "text": [
      "Main Effect of Factor 1:\n",
      "1.0000000000000004\n",
      "Main Effect of Factor 2:\n",
      "2.9999999999999973\n",
      "Interaction Effect:\n",
      "5.075018748098689e-16\n"
     ]
    }
   ],
   "source": [
    "import pandas as pd\n",
    "import statsmodels.api as sm\n",
    "from statsmodels.formula.api import ols\n",
    "\n",
    "# Create a DataFrame with the data\n",
    "data = pd.DataFrame({'factor1': ['A', 'A', 'B', 'B', 'C', 'C'],\n",
    "                     'factor2': ['X', 'Y', 'X', 'Y', 'X', 'Y'],\n",
    "                     'values': [5, 8, 6, 9, 7, 10]})\n",
    "\n",
    "# Fit the two-way ANOVA model\n",
    "model = ols('values ~ C(factor1) + C(factor2) + C(factor1):C(factor2)', data=data).fit()\n",
    "\n",
    "# Print the main effects\n",
    "print(\"Main Effect of Factor 1:\")\n",
    "print(model.params['C(factor1)[T.B]'])\n",
    "print(\"Main Effect of Factor 2:\")\n",
    "print(model.params['C(factor2)[T.Y]'])\n",
    "\n",
    "# Print the interaction effect\n",
    "print(\"Interaction Effect:\")\n",
    "print(model.params['C(factor1)[T.B]:C(factor2)[T.Y]'])\n"
   ]
  },
  {
   "cell_type": "markdown",
   "id": "d4390662-2b7a-4754-8647-ee443c4c2e7d",
   "metadata": {},
   "source": [
    "## Q6. Suppose you conducted a one-way ANOVA and obtained an F-statistic of 5.23 and a p-value of 0.02.vWhat can you conclude about the differences between the groups, and how would you interpret thesevresults?"
   ]
  },
  {
   "cell_type": "markdown",
   "id": "b9ab6997-b0e5-4e4e-b50d-cbca796826e9",
   "metadata": {},
   "source": [
    "1. The F-statistic measures the ratio of the between-group variability to the within-group variability. \n",
    "2. A larger F-statistic suggests that the between-group variability is relatively larger compared to the within-group variability.\n",
    "3. In this case, the obtained F-statistic of 5.23 indicates that there are substantial differences between the groups.\n",
    "4.  A p-value of 0.02 indicates that there is strong evidence against the null hypothesis of no differences between the groups.\n",
    "5. In general, with an F-statistic of 5.23 and a p-value of 0.02, we can conclude that there are statistically significant differences between the groups. This means that at least one of the groups is different from the others in terms of the variable being analyzed."
   ]
  },
  {
   "cell_type": "markdown",
   "id": "c4c4a424-cb48-44a4-8848-ed1334212c12",
   "metadata": {},
   "source": [
    "## Q7. In a repeated measures ANOVA, how would you handle missing data, and what are the potential consequences of using different methods to handle missing data?"
   ]
  },
  {
   "cell_type": "markdown",
   "id": "3dec6135-c5d9-454a-981b-e69df342322b",
   "metadata": {},
   "source": [
    "#### Common approaches for dealing with missing data in a repeated measures ANOVA and their potential consequences:\n",
    "1. Listwise deletion: \n",
    "      1. cases with missing data on any variable involved in the analysis are completely removed from the dataset.\n",
    "      2. This can affect potential loss of statistical power and potential bias if the missingness is not random.\n",
    "2. Pairwise deletion: \n",
    "      1. It involves using all available data for each pairwise comparison within the repeated measures design.\n",
    "      2. It can lead to an unbalanced design with different sample sizes for each comparison. \n",
    "      3. This can affect the precision of estimates and statistical power.\n",
    "3. Mean imputation:\n",
    "      1. Mean imputation replaces missing values with the mean of the observed values for that variable\n",
    "      2. Assume missing values are missing completely at random (MCAR)\n",
    "      3. It can also artificially reduce the variability of the data, leading to underestimated standard errors and potentially invalid inferences.\n",
    "4. Multiple imputation: \n",
    "      1. It generates several plausible values for each missing data point based on the observed data and their relationships.\n",
    "      2.  it can be computationally intensive and requires assumptions about the missing data mechanism."
   ]
  },
  {
   "cell_type": "markdown",
   "id": "f4c772cd-8be7-473b-8ae6-6f52b3b920f0",
   "metadata": {},
   "source": [
    "## Q8. What are some common post-hoc tests used after ANOVA, and when would you use each one? Provide an example of a situation where a post-hoc test might be necessary."
   ]
  },
  {
   "cell_type": "markdown",
   "id": "04b8c5c5-cdcb-4bbc-a076-24bf2f001978",
   "metadata": {},
   "source": [
    "#### 1. Tukey's Honestly Significant Difference (HSD): \n",
    "    Tukey's HSD is often used when the sample sizes across groups are equal, and it provides a conservative approach to control the familywise error rate. It compares all possible pairs of group means and identifies significant differences while considering the overall significance level.\n",
    "    Example: Let's say you conducted an ANOVA to compare the effectiveness of three different teaching methods on student performance. The ANOVA revealed a significant overall effect. To determine which specific pairs of teaching methods differ significantly, you can use Tukey's HSD\n",
    "#### 2. Bonferroni correction: \n",
    "    The Bonferroni correction is a conservative method that adjusts the significance level for multiple comparisons. It divides the desired significance level (e.g., α = 0.05) by the number of pairwise comparisons being made. It is suitable when there are many pairwise comparisons, but it may be overly conservative and reduce power.\n",
    "     Example: Suppose you conducted an ANOVA to examine the effects of a medication on various symptoms. You have four treatment groups, and you want to compare each pair of groups to identify significant differences. In this case, you can apply the Bonferroni correction to control for multiple comparisons.\n",
    "#### 3. Scheffé's test:\n",
    "    Scheffé's test is a conservative post-hoc test that can be used when there are unequal sample sizes or when the assumption of homogeneity of variances is violated. It controls the familywise error rate and provides a wider confidence interval, making it more suitable for situations with limited sample sizes.\n",
    "     Example: Consider a study comparing the mean scores of four different diets on weight loss. The ANOVA indicates a significant effect, and you want to determine which specific diet pairs have significantly different mean weight loss. In this scenario, you can utilize Scheffé's test to make the comparisons."
   ]
  },
  {
   "cell_type": "markdown",
   "id": "d61df209-756e-4e3e-8d2b-a8ec2f823813",
   "metadata": {},
   "source": [
    "## Q9. A researcher wants to compare the mean weight loss of three diets: A, B, and C. They collect data from 50 participants who were randomly assigned to one of the diets. Conduct a one-way ANOVA using Python to determine if there are any significant differences between the mean weight loss of the three diets. Report the F-statistic and p-value, and interpret the results."
   ]
  },
  {
   "cell_type": "code",
   "execution_count": 1,
   "id": "1981ecd8-1e5d-4c04-9135-68397a513dbd",
   "metadata": {},
   "outputs": [
    {
     "name": "stdout",
     "output_type": "stream",
     "text": [
      "F-Statistic: 15.513421604195475\n",
      "p-value: 7.711529407310787e-07\n"
     ]
    }
   ],
   "source": [
    "import numpy as np\n",
    "import scipy.stats as stats\n",
    "# as data is not given so we will consider random numbers\n",
    "# Set the random seed for reproducibility\n",
    "np.random.seed(42)\n",
    "\n",
    "# Generate random weight loss data for each diet\n",
    "diet_A = np.random.normal(loc=1.5, scale=0.5, size=50)  # Mean: 1.5, Standard Deviation: 0.5\n",
    "diet_B = np.random.normal(loc=2.0, scale=0.7, size=50)  # Mean: 2.0, Standard Deviation: 0.7\n",
    "diet_C = np.random.normal(loc=1.8, scale=0.6, size=50)  # Mean: 1.8, Standard Deviation: 0.6\n",
    "\n",
    "# Perform one-way ANOVA\n",
    "f_statistic, p_value = stats.f_oneway(diet_A, diet_B, diet_C)\n",
    "\n",
    "# Print the results\n",
    "print(\"F-Statistic:\", f_statistic)\n",
    "print(\"p-value:\", p_value)\n"
   ]
  },
  {
   "cell_type": "markdown",
   "id": "6113711c-4dca-4b45-878b-9fe0dd448299",
   "metadata": {},
   "source": [
    "1. The F-statistic measures the ratio of the between-group variance to the within-group variance. A higher F-statistic suggests a larger difference between the mean weight loss of the three diets. \n",
    "2. If the p-value < significance level, it suggests that there are significant differences between the mean weight loss of the three diets.\n",
    "3.  if the p-value > significance level, you fail to reject the null hypothesis, indicating no significant differences between the mean weight loss of the diets."
   ]
  },
  {
   "cell_type": "markdown",
   "id": "e72d46d8-b03d-497d-a427-2e3e570c622f",
   "metadata": {},
   "source": [
    "## Q10. A company wants to know if there are any significant differences in the average time it takes to complete a task using three different software programs: Program A, Program B, and Program C. They randomly assign 30 employees to one of the programs and record the time it takes each employee to complete the task. Conduct a two-way ANOVA using Python to determine if there are any main effects or interaction effects between the software programs and employee experience level (novice vs. experienced). Report the F-statistics and p-values, and interpret the results."
   ]
  },
  {
   "cell_type": "code",
   "execution_count": 2,
   "id": "8e05717d-9abd-490f-bdc3-ebc1733ee804",
   "metadata": {},
   "outputs": [
    {
     "name": "stdout",
     "output_type": "stream",
     "text": [
      "                      df     sum_sq    mean_sq         F    PR(>F)\n",
      "Program              2.0   1.233374   0.616687  0.236857  0.790927\n",
      "Experience           1.0  23.761035  23.761035  9.126114  0.005904\n",
      "Program:Experience   2.0   6.479781   3.239890  1.244374  0.306054\n",
      "Residual            24.0  62.487152   2.603631       NaN       NaN\n"
     ]
    }
   ],
   "source": [
    "import pandas as pd\n",
    "import statsmodels.api as sm\n",
    "from statsmodels.formula.api import ols\n",
    "import numpy as np\n",
    "\n",
    "# Set the random seed for reproducibility\n",
    "np.random.seed(42)\n",
    "\n",
    "# Generate random time data\n",
    "time_data = np.random.normal(loc=10, scale=2, size=30)  # Mean: 10, Standard Deviation: 2\n",
    "\n",
    "# Generate random software program assignments\n",
    "program_data = np.random.choice(['A', 'B', 'C'], size=30)\n",
    "\n",
    "# Generate random experience levels\n",
    "experience_data = np.random.choice(['Novice', 'Experienced'], size=30)\n",
    "\n",
    "# Create a DataFrame with the random data\n",
    "data = pd.DataFrame({\n",
    "    'Time': time_data,\n",
    "    'Program': program_data,\n",
    "    'Experience': experience_data\n",
    "})\n",
    "\n",
    "# Fit the two-way ANOVA model\n",
    "model = ols('Time ~ Program + Experience + Program:Experience', data=data).fit()\n",
    "anova_table = sm.stats.anova_lm(model)\n",
    "\n",
    "# Print the ANOVA table\n",
    "print(anova_table)\n"
   ]
  },
  {
   "cell_type": "markdown",
   "id": "32cbe162-a12d-45a7-8e8b-2dbaa0d70bfc",
   "metadata": {},
   "source": [
    "To interpret the results:\n",
    "1. p-value for a factor - Program  > 0.05 that is not significant which indicates that the program has not  significant main effect on the average time to complete the task.\n",
    "2. p-value for a factor -Experience < 0.05 that is significant which indicates that the Experienc has significant main effect on the average time to complete the task.\n",
    "3. If the p-value for the interaction term (Program:Experience) > 0.05 that is not significant, it suggests that there is no significant interaction effect between the software program and employee experience level. This means that the combined effect of the two factors is not significantly different from what would be expected based on the individual main effects alone."
   ]
  },
  {
   "cell_type": "markdown",
   "id": "5e47a65e-7099-4138-86b8-a9b747196b75",
   "metadata": {},
   "source": [
    "## Q11. An educational researcher is interested in whether a new teaching method improves student test scores. They randomly assign 100 students to either the control group (traditional teaching method) or the experimental group (new teaching method) and administer a test at the end of the semester. Conduct a two-sample t-test using Python to determine if there are any significant differences in test scores between the two groups. If the results are significant, follow up with a post-hoc test to determine which group(s) differ significantly from each other."
   ]
  },
  {
   "cell_type": "code",
   "execution_count": 3,
   "id": "94da06b4-97db-4fdb-bce8-0477e53e1381",
   "metadata": {},
   "outputs": [
    {
     "name": "stdout",
     "output_type": "stream",
     "text": [
      "t-statistic: -4.316398519082441\n",
      "p-value: 2.5039591073846333e-05\n",
      "  Multiple Comparison of Means - Tukey HSD, FWER=0.05   \n",
      "========================================================\n",
      " group1    group2    meandiff p-adj lower  upper  reject\n",
      "--------------------------------------------------------\n",
      "Control Experimental   6.3061   0.0 3.4251 9.1872   True\n",
      "--------------------------------------------------------\n"
     ]
    }
   ],
   "source": [
    "import numpy as np\n",
    "from scipy import stats\n",
    "from statsmodels.stats.multicomp import pairwise_tukeyhsd\n",
    "\n",
    "# Set the random seed for reproducibility\n",
    "np.random.seed(42)\n",
    "\n",
    "# Generate random test scores for the control group (mean: 75, standard deviation: 10)\n",
    "control_group = np.random.normal(loc=75, scale=10, size=100)\n",
    "\n",
    "# Generate random test scores for the experimental group (mean: 80, standard deviation: 12)\n",
    "experimental_group = np.random.normal(loc=80, scale=12, size=100)\n",
    "\n",
    "# Perform two-sample t-test\n",
    "t_statistic, p_value = stats.ttest_ind(control_group, experimental_group)\n",
    "\n",
    "# Print the t-statistic and p-value\n",
    "print(\"t-statistic:\", t_statistic)\n",
    "print(\"p-value:\", p_value)\n",
    "\n",
    "# Perform HSD test\n",
    "data = np.concatenate((control_group, experimental_group))\n",
    "group_labels = ['Control'] * len(control_group) + ['Experimental'] * len(experimental_group)\n",
    "hsd = pairwise_tukeyhsd(data, group_labels)\n",
    "\n",
    "# Print the HSD test results\n",
    "print(hsd)\n"
   ]
  },
  {
   "cell_type": "markdown",
   "id": "87d89d93-5c3b-4a39-9f60-e47ee9df8cd4",
   "metadata": {},
   "source": [
    "1. p-value < 0.05, it indicates a statistically significant difference in test scores between the two groups.\n",
    "2.  focus on the \"reject\" column, which indicates the significant pairwise comparisons. If the value is True, it means there is a significant difference between the corresponding groups."
   ]
  },
  {
   "cell_type": "markdown",
   "id": "ea0cd5ed-0e36-479b-ac7a-a0c481b5867c",
   "metadata": {},
   "source": [
    "## Q12. A researcher wants to know if there are any significant differences in the average daily sales of three retail stores: Store A, Store B, and Store C. They randomly select 30 days and record the sales for each store on those days. Conduct a repeated measures ANOVA using Python to determine if there are any significant differences in sales between the three stores. If the results are significant, follow up with a post- hoc test to determine which store(s) differ significantly from each other."
   ]
  },
  {
   "cell_type": "code",
   "execution_count": 4,
   "id": "489ce249-b536-4146-a079-71a9f4a68fc4",
   "metadata": {},
   "outputs": [
    {
     "name": "stdout",
     "output_type": "stream",
     "text": [
      "                sum_sq    df         F    PR(>F)\n",
      "Store      4332.335994   2.0  5.976977  0.003696\n",
      "Residual  31530.424628  87.0       NaN       NaN\n",
      " Multiple Comparison of Means - Tukey HSD, FWER=0.05 \n",
      "=====================================================\n",
      "group1 group2 meandiff p-adj   lower    upper  reject\n",
      "-----------------------------------------------------\n",
      "     A      B  10.7339 0.0797  -0.9868 22.4546  False\n",
      "     A      C  -6.0438 0.4391 -17.7645  5.6769  False\n",
      "     B      C -16.7777 0.0028 -28.4984  -5.057   True\n",
      "-----------------------------------------------------\n"
     ]
    }
   ],
   "source": [
    "import pandas as pd\n",
    "import statsmodels.api as sm\n",
    "from statsmodels.formula.api import ols\n",
    "from statsmodels.stats.multicomp import pairwise_tukeyhsd\n",
    "\n",
    "# Set the random seed for reproducibility\n",
    "np.random.seed(42)\n",
    "\n",
    "# Generate random daily sales data for Store A, B, and C\n",
    "store_a_sales = np.random.normal(loc=100, scale=20, size=30)\n",
    "store_b_sales = np.random.normal(loc=110, scale=25, size=30)\n",
    "store_c_sales = np.random.normal(loc=90, scale=15, size=30)\n",
    "\n",
    "# Combine the sales data into a single DataFrame\n",
    "data = pd.DataFrame({\n",
    "    'Sales': np.concatenate([store_a_sales, store_b_sales, store_c_sales]),\n",
    "    'Store': np.repeat(['A', 'B', 'C'], 30)\n",
    "})\n",
    "\n",
    "# Convert the Store column to categorical\n",
    "data['Store'] = pd.Categorical(data['Store'])\n",
    "\n",
    "# Fit the repeated measures ANOVA model\n",
    "model = ols('Sales ~ Store', data=data).fit()\n",
    "\n",
    "# Perform the repeated measures ANOVA\n",
    "anova_table = sm.stats.anova_lm(model, typ=2)\n",
    "\n",
    "# Print the ANOVA table\n",
    "print(anova_table)\n",
    "\n",
    "# Perform post-hoc test (e.g., Tukey's HSD)\n",
    "posthoc = pairwise_tukeyhsd(data['Sales'], data['Store'])\n",
    "\n",
    "# Print the post-hoc test results\n",
    "print(posthoc)\n"
   ]
  },
  {
   "cell_type": "markdown",
   "id": "f24a48b4-6ea3-4766-ae82-7cb8c3383fe6",
   "metadata": {},
   "source": [
    "1. Repeated Measures ANOVA:\n",
    " p-value < 0.05, is significant, you can conclude that there are significant differences in the average daily sales between at least two of the stores.\n",
    "2. Post-hoc Test (e.g., Tukey's HSD):\n",
    "p-value < 0.05 between Store B and Store C, it suggests that there is a significant difference in the average daily sales between Store B and Store C."
   ]
  }
 ],
 "metadata": {
  "kernelspec": {
   "display_name": "Python 3 (ipykernel)",
   "language": "python",
   "name": "python3"
  },
  "language_info": {
   "codemirror_mode": {
    "name": "ipython",
    "version": 3
   },
   "file_extension": ".py",
   "mimetype": "text/x-python",
   "name": "python",
   "nbconvert_exporter": "python",
   "pygments_lexer": "ipython3",
   "version": "3.10.8"
  }
 },
 "nbformat": 4,
 "nbformat_minor": 5
}
