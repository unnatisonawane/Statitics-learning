{
 "cells": [
  {
   "cell_type": "markdown",
   "id": "d5c6c6ea-02b7-4619-b1ce-7f58da9f459e",
   "metadata": {},
   "source": [
    "# Confidence interval"
   ]
  },
  {
   "cell_type": "markdown",
   "id": "a7e06449-c802-4707-882b-e44d6256d561",
   "metadata": {},
   "source": [
    "1. Help to estimate what actual value of the unknown population mean is\n",
    "2. It is likely range for the true score of your entire population"
   ]
  },
  {
   "cell_type": "markdown",
   "id": "c11d5fcc-91e5-46b1-90fd-f91068cd3b15",
   "metadata": {},
   "source": [
    "# Margin of error"
   ]
  },
  {
   "cell_type": "markdown",
   "id": "252a7640-bc3e-46b4-8b8a-fd2bae13d38f",
   "metadata": {},
   "source": [
    "1. It indicates the range around the point estimate within which the true population parameter is likely to lie.\n",
    "2. Margin of Error for a Population Mean (Large Sample Size):\n",
    "Margin of Error = z * (population_std_dev / sqrt(sample_size))\n",
    "3. Margin of Error for a Population Proportion:\n",
    "Margin of Error = z * sqrt((sample_proportion * (1 - sample_proportion)) / sample_size)\n",
    "4. large sample size - less error\n",
    "5. It is halp of CI"
   ]
  },
  {
   "cell_type": "markdown",
   "id": "3befea1e-f55d-49b3-a72d-7648b0c37b59",
   "metadata": {},
   "source": [
    "### CI formula\n",
    "1. Confidence Interval for a Population Mean (Large Sample Size, Known Population Standard Deviation):\n",
    "1. Formula: Confidence Interval = sample_mean ± (z * (population_std_dev / sqrt(sample_size)))\n",
    "\n",
    "2. Confidence Interval for a Population Mean (Large Sample Size, Unknown Population Standard Deviation):\n",
    "2. Formula: Confidence Interval = sample_mean ± (z * (sample_std_dev / sqrt(sample_size)))\n",
    "\n",
    "3. Confidence Interval for a Population Proportion:\n",
    "3. Formula: Confidence Interval =sample_proportion ± (z * sqrt((sample_proportion * (1 - sample_proportion)) / sample_size))"
   ]
  },
  {
   "cell_type": "code",
   "execution_count": 1,
   "id": "edce6570-08bb-430a-81b0-8bdcd0ad74ce",
   "metadata": {},
   "outputs": [
    {
     "name": "stdout",
     "output_type": "stream",
     "text": [
      "90% Confidence Interval: [63.1032, 66.8968]\n"
     ]
    }
   ],
   "source": [
    "import scipy.stats as stats\n",
    "\n",
    "population_mean = 60\n",
    "population_std = 8\n",
    "sample_size = 50\n",
    "sample_mean = 65\n",
    "confidence_level = 0.9\n",
    "\n",
    "standard_error = population_std / (sample_size ** 0.5)\n",
    "\n",
    "critical_value = stats.t.isf((1 - confidence_level) / 2, df=sample_size - 1)\n",
    "\n",
    "# Calculate the margin of error\n",
    "margin_of_error = critical_value * standard_error\n",
    "\n",
    "# Calculate the lower and upper bounds of the confidence interval\n",
    "lower_bound = sample_mean - margin_of_error\n",
    "upper_bound = sample_mean + margin_of_error\n",
    "\n",
    "# Print the confidence interval\n",
    "print(\"90% Confidence Interval: [{:.4f}, {:.4f}]\".format(lower_bound, upper_bound))\n"
   ]
  },
  {
   "cell_type": "markdown",
   "id": "0cfb15b9-0444-4624-87b4-89dfb93ddce9",
   "metadata": {},
   "source": [
    "# Bayes Theorem"
   ]
  },
  {
   "cell_type": "markdown",
   "id": "0a8ed1f1-fa45-4cac-8432-0f820c8f5510",
   "metadata": {},
   "source": [
    "It allows us to update our beliefs or probabilities based on new evidence.\n",
    "The theorem can be stated as follows:\n",
    "\n",
    "P(A|B) = (P(B|A) * P(A)) / P(B)\n",
    "\n",
    "Where:\n",
    "\n",
    "1. P(A|B) is the posterior probability of event A given event B has occurred.\n",
    "2. P(B|A) is the likelihood of event B given that event A has occurred.\n",
    "3. P(A) is the prior probability of event A.\n",
    "4. P(B) is the prior probability of event B.\n"
   ]
  },
  {
   "cell_type": "markdown",
   "id": "5f42ba15-8cb5-4642-a59e-b0d8a48fdf4e",
   "metadata": {},
   "source": [
    "### example \n",
    "Suppose there are two machines on a factory floor, Machine A and Machine B. Machine A produces 80% of the total output, while Machine B produces the remaining 20%. It is known that Machine A has a defect rate of 2%, while Machine B has a defect rate of 5%.\n",
    "\n",
    "Now, let's say an item is randomly selected from the factory floor, and it is found to be defective. We want to calculate the probability that the item came from Machine A given this information."
   ]
  },
  {
   "cell_type": "code",
   "execution_count": 2,
   "id": "fd094197-a8d0-46b0-9e85-3ce7460bcf32",
   "metadata": {},
   "outputs": [
    {
     "name": "stdout",
     "output_type": "stream",
     "text": [
      "Probability that the item came from Machine A given it is defective: 0.6153846153846153\n",
      "Probability that the item came from Machine B given it is defective: 0.3846153846153847\n"
     ]
    }
   ],
   "source": [
    "# Prior probabilities\n",
    "p_machine_a = 0.8  # Probability of selecting Machine A\n",
    "p_machine_b = 0.2  # Probability of selecting Machine B\n",
    "\n",
    "# Likelihoods\n",
    "p_defect_given_a = 0.02  # Probability of defect given Machine A\n",
    "p_defect_given_b = 0.05  # Probability of defect given Machine B\n",
    "\n",
    "# Calculate the denominator (evidence) using the law of total probability\n",
    "p_defect = (p_machine_a * p_defect_given_a) + (p_machine_b * p_defect_given_b)\n",
    "\n",
    "# Calculate the posterior probability using Bayes' theorem\n",
    "p_a_given_defect = (p_machine_a * p_defect_given_a) / p_defect\n",
    "\n",
    "print(\"Probability that the item came from Machine A given it is defective:\", p_a_given_defect)\n",
    "print(\"Probability that the item came from Machine B given it is defective:\", 1 - p_a_given_defect)\n"
   ]
  },
  {
   "cell_type": "markdown",
   "id": "237dca29-6494-4204-b9fc-085d39451fa9",
   "metadata": {},
   "source": [
    "The result shows that there is approximately a 61.54% probability that the defective item came from Machine A, and a 38.46% probability that it came from Machine B."
   ]
  },
  {
   "cell_type": "markdown",
   "id": "54271a7a-397e-412c-ae07-80c8f90f243a",
   "metadata": {},
   "source": [
    "# Type I error and Type II error"
   ]
  },
  {
   "cell_type": "markdown",
   "id": "675c1ba4-00a1-467a-a5f1-a4ecaa679c2b",
   "metadata": {},
   "source": [
    "1. Type I Error: A Type I error, also known as a false positive, occurs when the null hypothesis is rejected even though it is true\n",
    "2. example , This means concluding that the drug is effective when it has no actual effect.\n",
    "3. Type II Error: A Type II error, also known as a false negative, occurs when the null hypothesis is not rejected even though it is false. \n",
    "4. example, This means failing to recognize the effectiveness of the drug and missing out on the potential benefits it could provide to patients. \n",
    "5. By setting a lower significance level (α), the probability of a Type I error decreases, but it increases the probability of a Type II error. Conversely, by setting a higher significance level, the probability of a Type II error decreases, but it increases the probability of a Type I error."
   ]
  },
  {
   "cell_type": "code",
   "execution_count": null,
   "id": "dcf648aa-9bba-4886-8c50-998ed2c6f8dc",
   "metadata": {},
   "outputs": [],
   "source": []
  }
 ],
 "metadata": {
  "kernelspec": {
   "display_name": "Python 3 (ipykernel)",
   "language": "python",
   "name": "python3"
  },
  "language_info": {
   "codemirror_mode": {
    "name": "ipython",
    "version": 3
   },
   "file_extension": ".py",
   "mimetype": "text/x-python",
   "name": "python",
   "nbconvert_exporter": "python",
   "pygments_lexer": "ipython3",
   "version": "3.10.8"
  }
 },
 "nbformat": 4,
 "nbformat_minor": 5
}
