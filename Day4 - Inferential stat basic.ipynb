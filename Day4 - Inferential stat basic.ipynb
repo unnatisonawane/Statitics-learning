{
 "cells": [
  {
   "cell_type": "markdown",
   "id": "2b6e1cae-1ee5-4304-9ec5-ce8d2e5777cf",
   "metadata": {},
   "source": [
    "## Inferential Statistics"
   ]
  },
  {
   "cell_type": "markdown",
   "id": "f4160474-8c38-4016-9de2-cbb341c4309b",
   "metadata": {},
   "source": [
    "Inferential statistics is a branch of statistics that involves making inferences or conclusions about a population based on a sample of data."
   ]
  },
  {
   "cell_type": "markdown",
   "id": "f6cb2b02-509e-42c0-9ed8-e19f540c8a92",
   "metadata": {},
   "source": [
    "## Estimation "
   ]
  },
  {
   "cell_type": "markdown",
   "id": "f8bbad7a-0bbd-4c15-8d11-f04103031fc1",
   "metadata": {},
   "source": [
    "It is the process of estimating unknown population parameters based on sample data."
   ]
  },
  {
   "cell_type": "markdown",
   "id": "dd137ba9-0623-4d14-aec5-195c8a07bdb4",
   "metadata": {},
   "source": [
    "## Hypothesis Testing"
   ]
  },
  {
   "cell_type": "markdown",
   "id": "f5336c5c-1428-4e6e-9981-2277877a530b",
   "metadata": {},
   "source": [
    "### 1. Formulating the null and alternative hypotheses:\n",
    "1. The null hypothesis (H₀): there is no significant difference or relationship between variables.\n",
    "2. The alternative hypothesis (H₁): the presence of a significant difference or relationship between variables."
   ]
  },
  {
   "cell_type": "markdown",
   "id": "cadc7ca6-5c97-4a7c-af37-170011528041",
   "metadata": {},
   "source": [
    "### 2. Selecting the significance level (α):\n",
    "\n",
    "The significance level (α) determines the threshold for deciding whether to reject the null hypothesis. It represents the probability of rejecting the null hypothesis when it is actually true.\n",
    "Commonly used significance levels are 0.05 (5%) and 0.01 (1%)."
   ]
  },
  {
   "cell_type": "markdown",
   "id": "fbfb475c-a876-4555-bf32-278caaaa3de1",
   "metadata": {},
   "source": [
    "### 3. Choosing an appropriate test statistic:\n",
    "\n",
    "The choice of test statistic depends on the nature of the data and the research question.\n",
    "Examples of test statistics include t-tests, z-tests, chi-square tests, ANOVA, correlation coefficients, etc"
   ]
  },
  {
   "cell_type": "markdown",
   "id": "54b2df39-64b8-4498-8709-a3e592ae8ddb",
   "metadata": {},
   "source": [
    "### 4.Computing the test statistic:\n",
    "\n",
    "The test statistic is calculated based on the sample data and is used to assess the evidence against the null hypothesis."
   ]
  },
  {
   "cell_type": "markdown",
   "id": "bee13e51-55da-4615-8b07-b09ac6b9382f",
   "metadata": {},
   "source": [
    "### 5. Determining the critical region:\n",
    " It helps establish a clear criterion for rejecting the null hypothesis based on the observed data and the chosen significance level."
   ]
  },
  {
   "cell_type": "markdown",
   "id": "a86bf8f7-9509-470d-9c8d-2b60f921db97",
   "metadata": {},
   "source": [
    "### 6. Calculating the p-value:\n",
    "The p-value is the probability of obtaining a test statistic as extreme as, or more extreme than, the observed test statistic, assuming that the null hypothesis is true"
   ]
  },
  {
   "cell_type": "markdown",
   "id": "f46f4032-92df-4c33-938b-dedd7d894862",
   "metadata": {},
   "source": [
    "### 7. Making a decision:\n",
    "\n",
    "1. If the p-value is less than the significance level (p-value < α), the null hypothesis is rejected in favor of the alternative hypothesis.\n",
    "2. If the p-value is greater than or equal to the significance level (p-value ≥ α), there is insufficient evidence to reject the null hypothesis.\n",
    "\n",
    "3. If the test statistic is greater than critical value, the null hypothesis is rejected\n",
    "4. If the test statistic is less than critical value, the null hypothesis is not rejected"
   ]
  },
  {
   "cell_type": "markdown",
   "id": "ed1a4517-b804-44cc-b334-4ab129b9a5a3",
   "metadata": {},
   "source": [
    "## Confidence Interval"
   ]
  },
  {
   "cell_type": "markdown",
   "id": "d6342992-923d-4c34-87b2-f3a7ff93c818",
   "metadata": {},
   "source": [
    "1. It gives us a range of values that is likely to contain the true population parameter, based on the sample data and a chosen level of confidence.\n",
    "2. The general form of a confidence interval is:\n",
    "   1. Estimate ± Margin of Error\n",
    "   2. Estimate : It could be the sample mean, sample proportion, or any other estimate depending on the context.\n",
    "   3. Margin of error : the amount added and subtracted to the estimate to form the interval. \n",
    "3. The level of confidence associated with the interval is typically expressed as a percentage, such as 95% or 99%.\n",
    "4. A larger sample size or lower variability generally leads to a narrower confidence interval."
   ]
  },
  {
   "cell_type": "markdown",
   "id": "6110fc14-d438-4fab-b0d2-3a80338b6c4f",
   "metadata": {},
   "source": [
    "## Types of hypothesis tesing"
   ]
  },
  {
   "cell_type": "markdown",
   "id": "6d3aea0d-4529-41c8-b1f2-5187891e40ff",
   "metadata": {
    "tags": []
   },
   "source": [
    "One-tail tests and two-tail tests are types of hypothesis tests\n",
    "### 1. One-Tail Test (also known as a one-sided test):\n",
    "    The critical region is located entirely in one tail of the probability distribution.\n",
    "\n",
    "#### 1. Right-Sided Test (Upper-Tail Test):\n",
    "    1. The critical region is located in the right tail of the probability distribution.\n",
    "    2. finding the critical value in the upper tail of the standard normal distribution use 1-zα\n",
    "    3. we subtract the CDF from 1 to obtain the p-value.\n",
    "1. Null hypothesis (H₀): μ ≤ μ0 (less than or equal to)\n",
    "2. Alternative hypothesis (Ha): μ > μ0 (greater than)\n",
    "\n",
    "\n",
    "#### 2. Left-Sided Test (Lower-Tail Test):\n",
    "    1. The critical region is located in the left tail of the probability distribution.\n",
    "    2. finding the critical value in the lower tail of the standard normal distribution use zα\n",
    "    3. we directly use the CDF value as the p-value.\n",
    "1. Null hypothesis (H₀): μ ≥ μ0 (greater than or equal to)\n",
    "2. Alternative hypothesis (Ha): μ < μ0 (less than)"
   ]
  },
  {
   "cell_type": "markdown",
   "id": "3d816c6b-c5f6-48e9-91ce-ba2dd6c8fdf0",
   "metadata": {},
   "source": [
    "### 2. Two-Tail Test (also known as a two-sided test):\n",
    "    1. The critical region is divided equally between the two tails of the probability distribution.\n",
    "    2. finding the critical value in the lower tail of the standard normal distribution use zα/2\n",
    "1. Null hypothesis (H₀): μ = μ0 (equal to) \n",
    "2. Alternative hypothesis (Ha): μ ≠ μ0 (not equal to)"
   ]
  },
  {
   "cell_type": "markdown",
   "id": "07c2e611-3d9c-4344-8ae8-1517d34d422d",
   "metadata": {},
   "source": [
    "Extra note : In a left-tailed test, we use only alpha because it represents the maximum probability of Type I error in the left tail, while in a right-tailed test, we use 1-alpha because it represents the probability to the right of the critical value."
   ]
  },
  {
   "cell_type": "code",
   "execution_count": null,
   "id": "609e26ee-d01d-48ec-bb52-370f6f2af7f3",
   "metadata": {},
   "outputs": [],
   "source": []
  }
 ],
 "metadata": {
  "kernelspec": {
   "display_name": "Python 3 (ipykernel)",
   "language": "python",
   "name": "python3"
  },
  "language_info": {
   "codemirror_mode": {
    "name": "ipython",
    "version": 3
   },
   "file_extension": ".py",
   "mimetype": "text/x-python",
   "name": "python",
   "nbconvert_exporter": "python",
   "pygments_lexer": "ipython3",
   "version": "3.10.8"
  }
 },
 "nbformat": 4,
 "nbformat_minor": 5
}
