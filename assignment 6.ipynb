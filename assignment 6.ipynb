{
 "cells": [
  {
   "cell_type": "markdown",
   "id": "12bd402b-93b8-4003-863b-a49f9b528833",
   "metadata": {},
   "source": [
    "## Q1: What is the difference between a t-test and a z-test? Provide an example scenario where you would use each type of test."
   ]
  },
  {
   "cell_type": "markdown",
   "id": "91547e1c-a55e-48a0-af4b-55e08d2c1e4d",
   "metadata": {},
   "source": [
    "1. A t-test is used when the population standard deviation is unknown or when the sample size is small (typically less than 30).\n",
    "2. A z-test, on the other hand, is used when the population standard deviation is known or when the sample size is large (typically greater than 30).\n",
    "\n",
    "Example scenario for t-test:\n",
    "Suppose you want to compare the mean heights of two different groups of individuals, Group A and Group B. You collect a small sample of heights from each group (less than 30 individuals per group). Since the population standard deviation is unknown and the sample size is small, you would use a t-test to assess whether there is a significant difference in the mean heights between the two groups.\n",
    "\n",
    "Example scenario for z-test:\n",
    "Consider a scenario where you want to compare the mean scores of two different groups on a standardized test. You have a large sample size for each group (greater than 30 individuals per group) and the population standard deviations are known or assumed to be equal. In this case, you can use a z-test to determine if there is a significant difference in the mean scores between the two groups."
   ]
  },
  {
   "cell_type": "markdown",
   "id": "19c6d8bf-4598-4411-ae89-d7a34952ab9d",
   "metadata": {},
   "source": [
    "## Q2: Differentiate between one-tailed and two-tailed tests."
   ]
  },
  {
   "cell_type": "markdown",
   "id": "ec5f984f-d2b2-4d1b-b21d-057ceffc9538",
   "metadata": {},
   "source": [
    "One-tail tests and two-tail tests are types of hypothesis tests\n",
    "### 1. One-Tail Test (also known as a one-sided test):\n",
    "    The critical region is located entirely in one tail of the probability distribution.\n",
    "\n",
    "#### 1. Right-Sided Test (Upper-Tail Test):\n",
    "    1. The critical region is located in the right tail of the probability distribution.\n",
    "    2. finding the critical value in the upper tail of the standard normal distribution use 1-zα\n",
    "    3. we subtract the CDF from 1 to obtain the p-value.\n",
    "1. Null hypothesis (H₀): μ ≤ μ0 (less than or equal to)\n",
    "2. Alternative hypothesis (Ha): μ > μ0 (greater than)\n",
    "\n",
    "\n",
    "#### 2. Left-Sided Test (Lower-Tail Test):\n",
    "    1. The critical region is located in the left tail of the probability distribution.\n",
    "    2. finding the critical value in the lower tail of the standard normal distribution use zα\n",
    "    3. we directly use the CDF value as the p-value.\n",
    "1. Null hypothesis (H₀): μ ≥ μ0 (greater than or equal to)\n",
    "2. Alternative hypothesis (Ha): μ < μ0 (less than)\n",
    "\n",
    "### 2. Two-Tail Test (also known as a two-sided test):\n",
    "    1. The critical region is divided equally between the two tails of the probability distribution.\n",
    "    2. finding the critical value in the lower tail of the standard normal distribution use zα/2\n",
    "1. Null hypothesis (H₀): μ = μ0 (equal to) \n",
    "2. Alternative hypothesis (Ha): μ ≠ μ0 (not equal to)"
   ]
  },
  {
   "cell_type": "markdown",
   "id": "a4e3487c-b09a-4570-acc6-128b2eff004d",
   "metadata": {},
   "source": [
    "## Q3: Explain the concept of Type 1 and Type 2 errors in hypothesis testing. Provide an example scenario for each type of error."
   ]
  },
  {
   "cell_type": "markdown",
   "id": "d6ea0236-401b-4ed5-afbe-72e89cf1e3d6",
   "metadata": {},
   "source": [
    "Type 1 Error:\n",
    "1. A Type 1 error, also known as a false positive, occurs when the null hypothesis (H0) is rejected when it is actually true. \n",
    "2. This error indicates that we have concluded there is a significant effect or relationship when there isn't one.\n",
    "3. Example Scenario for Type 1 Error: Let's say a pharmaceutical company is testing a new drug to determine if it reduces blood pressure. The null hypothesis (H0) would be that the drug has no effect on blood pressure. However, due to a random variation in the sample data, the data suggests a significant decrease in blood pressure. If the researchers reject the null hypothesis and conclude that the drug is effective in reducing blood pressure, but in reality, the drug has no effect, it would be a Type 1 error.\n",
    "\n",
    "Type 2 Error:\n",
    "1. A Type 2 error, also known as a false negative, occurs when the null hypothesis (H0) is not rejected when it is actually false. \n",
    "2. This error indicates that we have failed to identify a significant effect or relationship when one actually exists.\n",
    "3. Example Scenario for Type 2 Error: Continuing from the previous example, let's say the drug being tested does have a true effect on blood pressure, but the sample data fails to provide enough evidence to reject the null hypothesis. In this case, the researchers would fail to reject the null hypothesis that the drug has no effect on blood pressure, even though it does. This would result in a Type 2 error, as they missed identifying the true effect of the drug."
   ]
  },
  {
   "cell_type": "markdown",
   "id": "42b62a58-704e-41f4-b033-7f523cfd2055",
   "metadata": {},
   "source": [
    "## Q4: Explain Bayes's theorem with an example."
   ]
  },
  {
   "cell_type": "markdown",
   "id": "7f5692cc-4844-485a-98ea-dd5cb5b0ae21",
   "metadata": {},
   "source": [
    "1.  It describes how to update or revise the probability of a hypothesis based on new evidence.\n",
    "2. Mathematically expresses the relationship between conditional probabilities, allowing us to incorporate prior knowledge and new data to make more accurate probability assessments.\n",
    "3. Bayes's theorem is given as follows:\n",
    "\n",
    "    P(A|B) = (P(B|A) * P(A)) / P(B)\n",
    "\n",
    " Where:\n",
    "\n",
    "    P(A|B) - posterior probability, which is the probability of event A given that event B has occurred.\n",
    "    P(B|A - likelihood, which is the probability of event B given that event A has occurred.\n",
    "    P(A) & P(B) - prior probability,Independent probability of A & B\n",
    "\n",
    "4. Suppose we have two box, box A and box B. box A contains 5 red balls and 3 blue balls, while box B contains 4 red balls and 6 blue balls. We randomly select one of the box (with equal probability) and draw a ball from it. We draw a red ball. Now, we want to determine the probability that the ball was drawn from box A.\n",
    "\n",
    "5. (P(A)): The probability of selecting box A is 1/2\n",
    "6. (P(R|A)): The probability of drawing a red ball (event R) given that the ball is from box A is the proportion of red balls in box A, which is 5/8.\n",
    "7. (P(R)): To calculate this, we need to consider both box. The probability of drawing a red ball from box A is (1/2 * 5/8), and the probability of drawing a red ball from box B is (1/2 * 4/10). Adding these probabilities gives us P(R).\n",
    " \n",
    "P(A|R) = (P(R|A) * P(A)) / P(R)\n",
    "\n",
    "P(R) = (1/2 * 5/8) + (1/2 * 4/10)\n",
    "= 41/80\n",
    "\n",
    "P(A|R) = (P(R|A) * P(A)) / P(R)\n",
    "= (5/8 * 1/2) / (41/80)\n",
    "= 0.61\n",
    "\n"
   ]
  },
  {
   "cell_type": "markdown",
   "id": "1767454b-50b3-481d-9f25-aa216488725c",
   "metadata": {},
   "source": [
    "## Q5: What is a confidence interval? How to calculate the confidence interval, explain with an example."
   ]
  },
  {
   "cell_type": "markdown",
   "id": "325904fd-9020-4f27-9529-eaa17f4de6bf",
   "metadata": {},
   "source": [
    "1. It is a range of values that provides an estimated range of plausible values for an unknown population parameter, such as the mean or proportion.\n",
    "2. The confidence interval expresses the level of confidence, typically specified as a percentage, that the interval contains the true population parameter.\n",
    "3. To calculate a confidence interval,we need three key components: the sample data, the sample statistic (e.g., mean or proportion), and the desired level of confidence.\n",
    "\n",
    "4. For example, Suppose you want to estimate the average height of students in a university. You collect a random sample of 100 students and measure their heights. The sample mean height is found to be 170 cm, with a sample standard deviation of 5 cm. Now, you want to calculate a 95% confidence interval for the population mean height.\n",
    "\n",
    "    Given Data:\n",
    "C.I = 95%\n",
    "1-C.I= 0.05\n",
    "here n>30 , use z test\n",
    "\n",
    "n = 100, sample mean = 170, sigma = 5 \n",
    "\n",
    "The standard error measures the average distance between the sample mean and the true population mean.\n",
    "SE = 5 / √(100) = 0.5\n",
    "\n",
    "Critical value = 1.96\n",
    "\n",
    "The margin of error represents the range around the sample mean within which the true population mean is                  likely to fall.\n",
    "Margin of Error = Critical value * Standard error\n",
    "= 1.96 * 0.5\n",
    "= 0.98\n",
    "\n",
    "Confidence Interval = Sample mean ± Margin of Error\n",
    "= 170 ± 0.98\n",
    "= (169.02, 170.98)"
   ]
  },
  {
   "cell_type": "markdown",
   "id": "7e1f7302-5e1c-4576-ac59-1782a0dfe298",
   "metadata": {},
   "source": [
    "## Q6. Use Bayes' Theorem to calculate the probability of an event occurring given prior knowledge of the event's probability and new evidence. Provide a sample problem and solution."
   ]
  },
  {
   "cell_type": "markdown",
   "id": "dfceae2a-2967-4a78-92fa-98ac731e622f",
   "metadata": {},
   "source": [
    "Problem:\n",
    "In a certain city, 20% of the residents own a car. A survey was conducted, and it was found that 70% of car owners are men. If a randomly chosen resident from the city is a man, what is the probability that he owns a car?"
   ]
  },
  {
   "cell_type": "code",
   "execution_count": 1,
   "id": "39009816-66ed-4a68-a904-d1c6ee5e4d6d",
   "metadata": {},
   "outputs": [
    {
     "name": "stdout",
     "output_type": "stream",
     "text": [
      "Probability of being a car owner given that the person is a man: 0.13999999999999999\n"
     ]
    }
   ],
   "source": [
    "# Define the prior probabilities and likelihood\n",
    "P_car_owner = 0.20  # Prior probability of being a car owner\n",
    "P_man_given_car_owner = 0.70  # Likelihood of being a man given car ownership\n",
    "P_man = 1  # Probability of being a man (since we are considering only men)\n",
    "\n",
    "# Calculate the probability of being a car owner given that the person is a man using Bayes' Theorem\n",
    "P_car_owner_given_man = (P_man_given_car_owner * P_car_owner) / P_man\n",
    "\n",
    "# Print the result\n",
    "print(\"Probability of being a car owner given that the person is a man:\", P_car_owner_given_man)"
   ]
  },
  {
   "cell_type": "markdown",
   "id": "02cb272d-e91d-4594-994d-dcc6ad5e6ea3",
   "metadata": {},
   "source": [
    "## Q7. Calculate the 95% confidence interval for a sample of data with a mean of 50 and a standard deviation of 5. Interpret the results."
   ]
  },
  {
   "cell_type": "code",
   "execution_count": 9,
   "id": "12a0609b-4859-4c48-b1ad-3f89be19ba81",
   "metadata": {},
   "outputs": [
    {
     "ename": "SyntaxError",
     "evalue": "invalid syntax (908989054.py, line 4)",
     "output_type": "error",
     "traceback": [
      "\u001b[0;36m  Cell \u001b[0;32mIn[9], line 4\u001b[0;36m\u001b[0m\n\u001b[0;31m    sample size =???\u001b[0m\n\u001b[0m           ^\u001b[0m\n\u001b[0;31mSyntaxError\u001b[0m\u001b[0;31m:\u001b[0m invalid syntax\n"
     ]
    }
   ],
   "source": [
    "Confidence_level = 0.95\n",
    "sample_mean = 50\n",
    "sample_std = 5\n",
    "sample size =???\n",
    "# sample size is not known in this case\n",
    "\n",
    "# Calculate the standard error\n",
    "standard_error = sample_std / (sample_size ** 0.5)\n",
    "\n",
    "# Calculate the margin of error\n",
    "margin_of_error = stats.norm.isf(1 - confidence_level) * standard_error\n",
    "\n",
    "# Calculate the lower and upper bounds of the confidence interval\n",
    "lower_bound = sample_mean - margin_of_error\n",
    "upper_bound = sample_mean + margin_of_error\n"
   ]
  },
  {
   "cell_type": "markdown",
   "id": "9f0f67ad-650a-41af-97dc-32ad7ef671a7",
   "metadata": {},
   "source": [
    "Interpretation:\n",
    "The resulting C.I. represents a range of values within which we can be 95% confident that the true population mean lies. In this case, we can say with 95% confidence that the population mean falls within the range provided by the confidence interval [lower_bound, upper_bound]. "
   ]
  },
  {
   "cell_type": "markdown",
   "id": "2f9c431a-b645-4e8d-9c19-c42b08d9d423",
   "metadata": {},
   "source": [
    "## Q8. What is the margin of error in a confidence interval? How does sample size affect the margin of error? Provide an example of a scenario where a larger sample size would result in a smaller margin of error."
   ]
  },
  {
   "cell_type": "markdown",
   "id": "16a26b53-d1c3-4f13-b586-c43f7add07eb",
   "metadata": {},
   "source": [
    "1. The margin of error in a confidence interval represents the maximum amount of error or uncertainty expected in estimating a population parameter based on a sample.\n",
    "2. It quantifies the range within which the true population parameter is likely to fall.\n",
    "3. The margin of error is influenced by several factors, including the sample size. Generally, as the sample size increases, the margin of error decreases.\n",
    "4. A company wants to estimate the average age of its customers. They take two samples: Sample A with a size of 50 and Sample B with a size of 200. The mean ages in the two samples are 35 years and 38 years, respectively. Both samples have the same standard deviation of 5 years."
   ]
  },
  {
   "cell_type": "code",
   "execution_count": 10,
   "id": "787150fd-efce-49ea-b935-6574c37eaf7f",
   "metadata": {},
   "outputs": [
    {
     "name": "stdout",
     "output_type": "stream",
     "text": [
      "Margin of Error - Sample A: 1.42\n",
      "Margin of Error - Sample B: 0.70\n"
     ]
    }
   ],
   "source": [
    "import scipy.stats as stats\n",
    "\n",
    "# Sample A\n",
    "sample_size_A = 50\n",
    "sample_mean_A = 35\n",
    "standard_error_A = 5 / (sample_size_A ** 0.5)\n",
    "margin_of_error_A = stats.t.ppf(0.975, df=sample_size_A - 1) * standard_error_A\n",
    "\n",
    "# Sample B\n",
    "sample_size_B = 200\n",
    "sample_mean_B = 38\n",
    "standard_error_B = 5 / (sample_size_B ** 0.5)\n",
    "margin_of_error_B = stats.t.ppf(0.975, df=sample_size_B - 1) * standard_error_B\n",
    "\n",
    "print(\"Margin of Error - Sample A: {:.2f}\".format(margin_of_error_A))\n",
    "print(\"Margin of Error - Sample B: {:.2f}\".format(margin_of_error_B))"
   ]
  },
  {
   "cell_type": "markdown",
   "id": "fef376bc-3059-4bbd-bf01-ad635dce5335",
   "metadata": {},
   "source": [
    "This demonstrates that increasing the sample size reduces the margin of error and provides a more precise estimate of the population mean."
   ]
  },
  {
   "cell_type": "markdown",
   "id": "5b42278a-9b52-430d-926b-c2623c0a116a",
   "metadata": {},
   "source": [
    "## Q9. Calculate the z-score for a data point with a value of 75, a population mean of 70, and a population standard deviation of 5. Interpret the results."
   ]
  },
  {
   "cell_type": "code",
   "execution_count": 12,
   "id": "7d9782cb-0f3f-42e6-af38-a2bddf4114ff",
   "metadata": {},
   "outputs": [
    {
     "name": "stdout",
     "output_type": "stream",
     "text": [
      "z score for x = 75: 1.0\n"
     ]
    }
   ],
   "source": [
    "x = 75\n",
    "popl_mean = 70\n",
    "popl_std = 5\n",
    "\n",
    "z_score = (x-popl_mean)/popl_std\n",
    "\n",
    "print(\"z score for x = 75:\",z_score)"
   ]
  },
  {
   "cell_type": "markdown",
   "id": "9e88c51f-91d7-4818-acfa-36a560b201e9",
   "metadata": {},
   "source": [
    "The resulting z-score tells us how many standard deviations the data point is away from the population mean. A positive z-score indicates that the data point is above the mean, while a negative z-score indicates that the data point is below the mean.\n",
    "In this case, if the z-score is calculated to be 1, it means that the data point of 75 is 1 standard deviation above the population mean of 70."
   ]
  },
  {
   "cell_type": "markdown",
   "id": "45247df8-2b64-4547-aa79-ed7f8b74c92d",
   "metadata": {},
   "source": [
    "## Q10. In a study of the effectiveness of a new weight loss drug, a sample of 50 participants lost an average of 6 pounds with a standard deviation of 2.5 pounds. Conduct a hypothesis test to determine if the drug is significantly effective at a 95% confidence level using a t-test."
   ]
  },
  {
   "cell_type": "code",
   "execution_count": 16,
   "id": "7e4cac56-fd0f-4a77-9806-546a979d9541",
   "metadata": {},
   "outputs": [
    {
     "name": "stdout",
     "output_type": "stream",
     "text": [
      "Fail to reject the null hypothesis. The weight loss drug is not significantly effective.\n",
      "fail to reject null hypothesis\n"
     ]
    }
   ],
   "source": [
    "import numpy as np\n",
    "import scipy.stats as stats\n",
    "from scipy.stats import t\n",
    "\n",
    "# sample statistics\n",
    "n= 50\n",
    "mu = 6\n",
    "std = 2.5\n",
    "C_I_= 0.95\n",
    "alpha = 0.05\n",
    "df = n-1\n",
    "# test Hypothesis\n",
    "# H0 : The weight loss drug is not significantly effective  μ = 0\n",
    "# H1 : The weight loss drug is significantly effective μ ≠ 0\n",
    "\n",
    "t_statistic = (mu - 0)/(std*np.sqrt(n))\n",
    "\n",
    "critical_value = stats.t.isf(alpha/2, df)\n",
    "\n",
    "p_value = 2 * (1 - t.cdf(abs(t_statistic), df))\n",
    "\n",
    "# Compare the t-statistic with the critical value\n",
    "if abs(t_statistic) > critical_value:\n",
    "    print(\"Reject the null hypothesis. The weight loss drug is significantly effective.\")\n",
    "else:\n",
    "    print(\"Fail to reject the null hypothesis. The weight loss drug is not significantly effective.\")\n",
    "    \n",
    "# Compare the p value with the level of significance\n",
    "if p_value < alpha:\n",
    "    print('reject the null hypothesis')\n",
    "else:\n",
    "    print('fail to reject null hypothesis')"
   ]
  },
  {
   "cell_type": "markdown",
   "id": "8ea0327d-3487-4fd0-a5c5-ad992983d4f2",
   "metadata": {},
   "source": [
    "## Q11. In a survey of 500 people, 65% reported being satisfied with their current job. Calculate the 95% confidence interval for the true proportion of people who are satisfied with their job."
   ]
  },
  {
   "cell_type": "code",
   "execution_count": 17,
   "id": "9eb0962b-06e0-435d-a477-356eebbc6a4a",
   "metadata": {},
   "outputs": [
    {
     "name": "stdout",
     "output_type": "stream",
     "text": [
      "95% Confidence Interval: [0.6082, 0.6918]\n"
     ]
    }
   ],
   "source": [
    "import scipy.stats as stats\n",
    "\n",
    "sample_size = 500\n",
    "sample_proportion = 0.65\n",
    "confidence_level = 0.95\n",
    "alpha = 0.05\n",
    "standard_error = (sample_proportion * (1 - sample_proportion) / sample_size) ** 0.5\n",
    "\n",
    "margin_of_error = stats.norm.isf(alpha / 2) * standard_error\n",
    "\n",
    "# Calculate the lower and upper bounds of the confidence interval\n",
    "lower_bound = sample_proportion - margin_of_error\n",
    "upper_bound = sample_proportion + margin_of_error\n",
    "\n",
    "# Print the confidence interval\n",
    "print(\"95% Confidence Interval: [{:.4f}, {:.4f}]\".format(lower_bound, upper_bound))"
   ]
  },
  {
   "cell_type": "markdown",
   "id": "41174d92-5ff1-465c-a962-d8c9854bd59c",
   "metadata": {},
   "source": [
    "## Q12. A researcher is testing the effectiveness of two different teaching methods on student performance. Sample A has a mean score of 85 with a standard deviation of 6, while sample B has a mean score of 82 with a standard deviation of 5. Conduct a hypothesis test to determine if the two teaching methods have a significant difference in student performance using a t-test with a significance level of 0.01."
   ]
  },
  {
   "cell_type": "markdown",
   "id": "ea480426-d76f-4e8d-bbf7-c8a89358d922",
   "metadata": {},
   "source": [
    "x1 = 85\n",
    "s1 = 6\n",
    "x2 = 82\n",
    "s2 = 5\n",
    "alpha = 0.01\n",
    "\n",
    "In the given problem, the sample sizes for samples A and B were not provided. Without the sample sizes, it is not possible to calculate the degrees of freedom and perform the t-test accurately."
   ]
  },
  {
   "cell_type": "markdown",
   "id": "29bcf669-2393-48ee-acdd-9d374ff876f1",
   "metadata": {},
   "source": [
    "## Q13. A population has a mean of 60 and a standard deviation of 8. A sample of 50 observations has a mean of 65. Calculate the 90% confidence interval for the true population mean."
   ]
  },
  {
   "cell_type": "code",
   "execution_count": 18,
   "id": "3031f616-8957-4327-b357-b388efed6791",
   "metadata": {},
   "outputs": [
    {
     "name": "stdout",
     "output_type": "stream",
     "text": [
      "90% Confidence Interval: [63.1032, 66.8968]\n"
     ]
    }
   ],
   "source": [
    "import scipy.stats as stats\n",
    "\n",
    "population_mean = 60\n",
    "population_std = 8\n",
    "sample_size = 50\n",
    "sample_mean = 65\n",
    "confidence_level = 0.9\n",
    "\n",
    "standard_error = population_std / (sample_size ** 0.5)\n",
    "\n",
    "critical_value = stats.t.isf((1 - confidence_level) / 2, df=sample_size - 1)\n",
    "\n",
    "# Calculate the margin of error\n",
    "margin_of_error = critical_value * standard_error\n",
    "\n",
    "# Calculate the lower and upper bounds of the confidence interval\n",
    "lower_bound = sample_mean - margin_of_error\n",
    "upper_bound = sample_mean + margin_of_error\n",
    "\n",
    "# Print the confidence interval\n",
    "print(\"90% Confidence Interval: [{:.4f}, {:.4f}]\".format(lower_bound, upper_bound))\n"
   ]
  },
  {
   "cell_type": "markdown",
   "id": "df0d1207-3f27-4c06-977d-06ff245c6456",
   "metadata": {},
   "source": [
    "## Q14. In a study of the effects of caffeine on reaction time, a sample of 30 participants had an average reaction time of 0.25 seconds with a standard deviation of 0.05 seconds. Conduct a hypothesis test to determine if the caffeine has a significant effect on reaction time at a 90% confidence level using a t-test."
   ]
  },
  {
   "cell_type": "code",
   "execution_count": 7,
   "id": "fe633035-6841-4989-96f4-d647996d02b4",
   "metadata": {},
   "outputs": [
    {
     "name": "stdout",
     "output_type": "stream",
     "text": [
      "Fail to reject the null hypothesis. caffeine has a no significant effect on reaction time \n",
      "fail to reject null hypothesis\n"
     ]
    }
   ],
   "source": [
    "from scipy.stats import t\n",
    "import numpy as np\n",
    "\n",
    "# sample statistics\n",
    "sample_size = 30\n",
    "sample_mean = 0.25\n",
    "sample_std = 0.05\n",
    "C_I = 0.90\n",
    "alpha = 0.1\n",
    "df = sample_size - 1\n",
    "# Hypotheses\n",
    "# H0 : caffeine has a no significant effect on reaction time\n",
    "# H1 :  caffeine has a significant effect on reaction time\n",
    "\n",
    "t_stats = (sample_mean -0)/(sample_std*np.sqrt(sample_size))\n",
    "\n",
    "critical_value = t.isf(alpha/2,df)\n",
    "\n",
    "p_value = 2*(1 - t.cdf(abs(t_stats),df))\n",
    "\n",
    "#Testing\n",
    "if abs(t_stats) > critical_value or p_value < alpha:\n",
    "    print(\"Reject the null hypothesis.caffeine has a significant effect on reaction time\")\n",
    "else:\n",
    "    print(\"Fail to reject the null hypothesis. caffeine has a no significant effect on reaction time \")\n",
    "    \n",
    "# Compare the p value with the level of significance\n",
    "if p_value < alpha:\n",
    "    print('reject the null hypothesis')\n",
    "else:\n",
    "    print('fail to reject null hypothesis')\n",
    "    "
   ]
  },
  {
   "cell_type": "code",
   "execution_count": null,
   "id": "54d45b2e-eec3-4db2-bc7d-95dd3a838f52",
   "metadata": {},
   "outputs": [],
   "source": []
  }
 ],
 "metadata": {
  "kernelspec": {
   "display_name": "Python 3 (ipykernel)",
   "language": "python",
   "name": "python3"
  },
  "language_info": {
   "codemirror_mode": {
    "name": "ipython",
    "version": 3
   },
   "file_extension": ".py",
   "mimetype": "text/x-python",
   "name": "python",
   "nbconvert_exporter": "python",
   "pygments_lexer": "ipython3",
   "version": "3.10.8"
  }
 },
 "nbformat": 4,
 "nbformat_minor": 5
}
