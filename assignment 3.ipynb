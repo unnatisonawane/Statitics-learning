{
 "cells": [
  {
   "cell_type": "markdown",
   "id": "7b99dbc7-50e2-48f8-9456-b3a7f48b6bd9",
   "metadata": {},
   "source": [
    "## Q1. What is the Probability density function?"
   ]
  },
  {
   "cell_type": "markdown",
   "id": "6c20f564-b9d0-4377-9656-280671f22af9",
   "metadata": {},
   "source": [
    "1. It describes the probability distribution of a continuous random variable.\n",
    "2. For a continuous random variable X, the PDF is denoted as f(x), and it is defined as the derivative of the cumulative distribution function (CDF)\n",
    "3. It does not give actual probability of single value since probability of single point in continuos distribution is zero.\n",
    "4. Hence, give probability falling within a specific range 0 to 1.\n",
    "5. The total area under the PDF curve over its entire range is equal to 1."
   ]
  },
  {
   "cell_type": "markdown",
   "id": "f15acb91-668d-45ef-9b06-95c64c8a527e",
   "metadata": {},
   "source": [
    "## Q2. What are the types of Probability distribution?"
   ]
  },
  {
   "cell_type": "markdown",
   "id": "9d490173-d326-4add-909b-4d60c676f234",
   "metadata": {},
   "source": [
    "Discrete distribution:\n",
    "1. Bernoulli distribution\n",
    "2. Binomial distribution\n",
    "3. Poisson distribution\n",
    "4. Uniform distribution\n",
    "5. Geometric distribution, etc\n",
    "\n",
    "Continous distribution:\n",
    "1. Normal Distribution (Gaussian Distribution)\n",
    "2. Uniform Distribution\n",
    "3. Exponential Distribution\n",
    "4. Gamma Distribution\n",
    "5. Beta Distribution, etc\n"
   ]
  },
  {
   "cell_type": "markdown",
   "id": "9718cc5d-89aa-4983-8caa-68b51d5c919c",
   "metadata": {},
   "source": [
    "## Q3. Write a Python function to calculate the probability density function of a normal distribution with given mean and standard deviation at a given point."
   ]
  },
  {
   "cell_type": "code",
   "execution_count": 1,
   "id": "4c8898d6-fd40-4392-b205-0984b941fc55",
   "metadata": {},
   "outputs": [
    {
     "name": "stdout",
     "output_type": "stream",
     "text": [
      "PDF at x = 2.5 : 0.01752830049356854\n"
     ]
    }
   ],
   "source": [
    "from scipy.stats import norm\n",
    "\n",
    "mean = 0\n",
    "std_dev = 1\n",
    "x = 2.5\n",
    "\n",
    "pdf_value = norm.pdf(x, mean, std_dev)\n",
    "print(\"PDF at x =\", x, \":\", pdf_value)"
   ]
  },
  {
   "cell_type": "markdown",
   "id": "ad2ec3d4-cea9-4179-aad5-5b7492526e3d",
   "metadata": {},
   "source": [
    "## Q4. What are the properties of Binomial distribution? Give two examples of events where binomial distribution can be applied."
   ]
  },
  {
   "cell_type": "markdown",
   "id": "c1f6dad0-ecfb-433f-8f95-a9f5900ae348",
   "metadata": {},
   "source": [
    "1. It is nothing but the number of successes in a sequence of n (fixed number) independent trail.\n",
    "2. Each trial is independent and has only two possible outcomes: success ('p') or failure ('q', where q = 1 - p).\n",
    "3. Each trial follows a Bernoulli distribution.\n",
    "4. The trials are assumed to be independent of each other.\n",
    "5. The Binomial distribution deals with discrete outcomes, as it counts the number of successes in 'n' trials.\n",
    "6. The pmf of the probability of observing exactly 'k' successes in 'n' trials, and it is given by the formula:                P(X = k) = C(n, k) * p^k * q^(n-k)\n",
    "\n",
    "Events:\n",
    "1. Tossing a Coin: Consider flipping a fair coin multiple times and counting the number of heads obtained.\n",
    "2. Exam Pass/Fail Rates: By analyzing the number of students who pass in a fixed number of exams, you can model the pass/fail rates using the Binomial distribution."
   ]
  },
  {
   "cell_type": "markdown",
   "id": "5ff50b8d-ad51-4682-82ab-68cc4eb43001",
   "metadata": {},
   "source": [
    "## Q5. Generate a random sample of size 1000 from a binomial distribution with probability of success 0.4 and plot a histogram of the results using matplotlib."
   ]
  },
  {
   "cell_type": "code",
   "execution_count": 6,
   "id": "ac177621-ec24-4d93-907d-9a3cf9bd9b84",
   "metadata": {},
   "outputs": [
    {
     "data": {
      "image/png": "[encoded data removed]",
      "text/plain": [
       "<Figure size 640x480 with 1 Axes>"
      ]
     },
     "metadata": {},
     "output_type": "display_data"
    }
   ],
   "source": [
    "import numpy as np\n",
    "import matplotlib.pyplot as plt\n",
    "\n",
    "# Set the parameters\n",
    "n = 1000  # Number of trials\n",
    "p = 0.4  # Probability of success\n",
    "\n",
    "# Generate the random sample\n",
    "sample = np.random.binomial(n, p, size=1000)\n",
    "\n",
    "# Plot the histogram\n",
    "plt.hist(sample, bins='auto', alpha=0.9, rwidth=0.50)\n",
    "plt.grid(axis='y', alpha=0.5)\n",
    "plt.xlabel('Number of Successes')\n",
    "plt.ylabel('Frequency')\n",
    "plt.title('Histogram of Binomial Distribution')\n",
    "plt.show()\n"
   ]
  },
  {
   "cell_type": "markdown",
   "id": "16dd96d1-b4df-4279-b4ea-d441b8db31ce",
   "metadata": {},
   "source": [
    "## Q6. Write a Python function to calculate the cumulative distribution function of a Poisson distribution with given mean at a given point."
   ]
  },
  {
   "cell_type": "code",
   "execution_count": 8,
   "id": "4a66a9bb-f85a-459f-ac54-ee10d4780bcc",
   "metadata": {},
   "outputs": [
    {
     "name": "stdout",
     "output_type": "stream",
     "text": [
      "CDF at x = 1.5 : 0.40600584970983794\n"
     ]
    }
   ],
   "source": [
    "from scipy.stats import poisson\n",
    "\n",
    "mean = 2\n",
    "x=1.5\n",
    "cdf_value = poisson.cdf(x, mean)\n",
    "print(\"CDF at x =\", x, \":\", cdf_value)"
   ]
  },
  {
   "cell_type": "markdown",
   "id": "69d20b32-d047-4cca-9363-46f21c5ac6c7",
   "metadata": {},
   "source": [
    "## Q7. How Binomial distribution different from Poisson distribution?"
   ]
  },
  {
   "cell_type": "markdown",
   "id": "a68839c3-b285-443c-a2b5-cac2e03ecc31",
   "metadata": {},
   "source": [
    "Binomial distribution:\n",
    "1. It is defined for a fixed number of independent trials (n), where each trial has two possible outcomes: success or failure.\n",
    "2. The probability of success (p) is constant for each trial. The probability of failure (q) is complementary to p.\n",
    "3. It is typically skewed, with a shape that depends on the values of n and p. It becomes more symmetric as n increases.\n",
    "4. It deals with a fixed number of discrete events\n",
    "5. It is defined for a finite number of trials (0, 1, 2, ..., n).\n",
    "\n",
    "Poisson distribution:\n",
    "1. It models the number of events occurring in a fixed interval of time or space.\n",
    "2. It is characterized by a single parameter, which is the average rate (λ) at which events occur.\n",
    "3. It deals with the occurrence of rare events over a continuous interval. The events are typically random and independent.\n",
    "4. It is defined for an infinite number of events (0, 1, 2, ...).\n",
    "5. It is typically skewed to the right.\n"
   ]
  },
  {
   "cell_type": "markdown",
   "id": "386f990e-9192-425a-889c-bd450fda3197",
   "metadata": {},
   "source": [
    "## Q8. Generate a random sample of size 1000 from a Poisson distribution with mean 5 and calculate the sample mean and variance."
   ]
  },
  {
   "cell_type": "code",
   "execution_count": 4,
   "id": "5021ead9-f52a-48d1-9477-3b29b91b8ff2",
   "metadata": {},
   "outputs": [
    {
     "name": "stdout",
     "output_type": "stream",
     "text": [
      "[ 4  6  6  6  3  6  6  2  3  3  5  5  2  8  9  4  2  5  8  3  6  5  6  8\n",
      "  5  4  3  4  4  6  6  9  2  0  6  3  5  5  2  4  7  8  5  5  3  9  5  3\n",
      "  6  3  8  3  7  6  7  5  6  6  3  7  5  8  6  4  4  4  2  4  4  5  3  1\n",
      "  3  5  7  3  9  8  4  4  9  6  2  7  5  5  2  2  2  7  6  7  4  8  4  4\n",
      "  7  4  5  5  6  5  7  7  5  8  5  5  8  9  7  2  8  3  2  2  5  6  4  9\n",
      "  3  2  3  2  9  4  8  4  6  8  5  7  3  3  8  4  4  3  5  7  4  4  3 11\n",
      "  6 10  5 10  3  2  7  5  1  4  6  9  3  6  7  3  2  5  4  6  4  5  6  7\n",
      "  4  4  2  5  6  3  3  5  5  2  3  1  4  2  5  5  5  6  4  1  5  6  6  8\n",
      "  3  3  5  4  8  4  6  9  3  7  6  6  3  2  5  9  9  7  3  2  3  7  0  2\n",
      "  3  2  4  4  6  6  3  3  6  4  5  7  9  4  8  3 11  3  6  8  2  9  4  2\n",
      "  5  6  6  4  5  3  3  6  6  2  6  4  3  5  6  3  7  5  6  7  5 11  6 10\n",
      "  8 11  8  4  4  3  9  9  7  4  5  9  9  6  9  6  5  7  5  5  7  4  3  5\n",
      "  4  7  5  4  4  7  7  6  3  2  6  8  8  6  7  4  3  5  7  6  4  2  3  5\n",
      "  3  8  6  3  4  3  7  1  5  3  4  3  7  3  7  7  8  5  5  4  7  3  1  9\n",
      "  7  3  8  7  8  6  5  8  1  5  4  5  6  5  6  4  2  3  2  8  9  3  6  5\n",
      "  3  6  4  7  9  6  6  2  1  6  8  4  2  8  8  5  4  5  7  8  7  4  6  6\n",
      "  4  3  2  4  1  4  8  5  7  7  3  4  8  4  6  4  6  7  4  5  7  2  3  4\n",
      "  4  4  5  5  5  5  6  4  7  7  7  5  6  1  4 10  1  4  5  3  6  6  6  4\n",
      "  6  5  2  4  6  2  5  6  3  7  5  3  4  5  3  3  8  3  5  4  5  7  7  9\n",
      "  2  9  6  2  5  4  8  4 10  7  6  6  6  6  2  4  5  9  8  4  2  2  5  4\n",
      "  4 10  6  5  5  4  5  2  5  6  3  8  3  5  4  6  2  2  5  7  5  3  8  4\n",
      "  4  4  4  3  6  5  8  3  5  6  8  3  7  6  9  2  2  2  3  9  3  5  4  5\n",
      "  6  8  3  3  7  7  2  4  3  7  3  6  5  3  5  2  4  6  7  7  5  3  4  8\n",
      "  4 10  6  3  3  4  5  3  6  7  3  3  5  4  6  4  3  7  7  7  3 12  5  5\n",
      "  5  6  4  6  5  7  4  4  4  6  5  5  7  5  6  8  4  2  2  5  6  9  3  4\n",
      "  4  1  7  6  7  2  4  4  4  8  7  5  5  3  6  5  6  7  4  8  5 10  3  3\n",
      "  3  6 10  5  6  4 11  5  2  6  6  3  5  1  7  4  1 11  5  5  6  5  4  5\n",
      "  3  6  5  2  1  4  3 11  5  4  8  8  4  4  6  4  6  0  5  3  3  3  3  3\n",
      "  6  4  6  3  4  2  5  5  3  9  4  7  4  8  6  4  5  3  6  7  7  3  8  7\n",
      "  5  4  8  5  8  7  6  3  2  3  5  3  6  6  6  8  7  5  5  3 10  4  2  5\n",
      "  4  4  9  3  7  3  5  7  6  7  2  6  3  5  2  5  4  4  7  9  2  9  6  3\n",
      "  6  6  7  6  3  2  4  4  3  9  6  1  3  5  4  2  4  7  4  5  3  2  7  2\n",
      "  7  4  8  3  4  5  4  6  7  2  4  9  7  7  2  3  7  3  5  6  6  7  5  4\n",
      "  5  2  2  5  5  5  7 11  4  7  3  2  2  4  6  5  6  4  3 10  6  4  5  2\n",
      "  8  3  3  6  5  6  2  5  3  7  2  7  5  8  5  4  1  7  2  7  6  3  4  4\n",
      "  6  7  4  4  4  9  7  9  4  4  4  3  6  0  4  9  2  5  6  2  4  4  5  2\n",
      "  6  3  2  4  5  4 10  8  6  3  4  6  6  4  5  6  6  8  2  7  6  0  6  3\n",
      "  2  7  3  3  4  7  5  2  3  6  3  6  5  6  5  6  5  6  5  5  4  8  5  2\n",
      "  4  5  6  6  3  2  5  5  7  5  5  5  7  7  6  3  6  3  6  2  8  8  5  5\n",
      "  5  4  4  3  6  4  8  9  6  8  2  4 12  4  4  4  9  5  3  8  7  6  7  7\n",
      "  6  5  4  6  6  6  5  9  6  6  5  2  4  6  5  3  3  5  8  6  8  6  4  3\n",
      "  7  5  1  4  6  7  3  4  5  6  2  2  4  6  6  3]\n",
      "sample mean: 5.038\n",
      "sample variance: 4.476556\n"
     ]
    }
   ],
   "source": [
    "from numpy import random\n",
    "import numpy as np\n",
    "\n",
    "x = random.poisson(lam=5, size=1000)\n",
    "\n",
    "mean= np.mean(x)\n",
    "variance= np.var(x)\n",
    "\n",
    "print(x)\n",
    "print('sample mean:',mean)\n",
    "print('sample variance:',variance)"
   ]
  },
  {
   "cell_type": "markdown",
   "id": "ea838168-61a6-4bd7-83f0-c6fa1e05ead5",
   "metadata": {},
   "source": [
    "## Q9. How mean and variance are related in Binomial distribution and Poisson distribution?"
   ]
  },
  {
   "cell_type": "markdown",
   "id": "20303b19-5eeb-44da-a178-947cb15ec7aa",
   "metadata": {},
   "source": [
    " for both the binomial distribution and the Poisson distribution, the mean and variance have the same value. This characteristic makes them \"equidispersed\" distributions, where the spread of the distribution is determined solely by the average rate or probability."
   ]
  },
  {
   "cell_type": "markdown",
   "id": "f3296208-4ae0-4e6e-8b06-1e7d7da8e20b",
   "metadata": {},
   "source": [
    "## Q10. In normal distribution with respect to mean position, where does the least frequent data appear?"
   ]
  },
  {
   "cell_type": "markdown",
   "id": "4ca5af7a-a30a-42c0-a7a8-28b7728a3e7c",
   "metadata": {},
   "source": [
    "in a normal distribution, approximately 68% of the data falls within one standard deviation of the mean, 95% falls within two standard deviations, and 99.7% falls within three standard deviations. The remaining 0.3% is distributed in the tails, with 0.15% in each tail. This means that the data in the tails, which are farthest from the mean, are the least frequent occurrences in a normal distribution."
   ]
  },
  {
   "cell_type": "code",
   "execution_count": null,
   "id": "35a51eeb-3ad5-474f-8667-985ca2b8326b",
   "metadata": {},
   "outputs": [],
   "source": []
  }
 ],
 "metadata": {
  "kernelspec": {
   "display_name": "Python 3 (ipykernel)",
   "language": "python",
   "name": "python3"
  },
  "language_info": {
   "codemirror_mode": {
    "name": "ipython",
    "version": 3
   },
   "file_extension": ".py",
   "mimetype": "text/x-python",
   "name": "python",
   "nbconvert_exporter": "python",
   "pygments_lexer": "ipython3",
   "version": "3.10.8"
  }
 },
 "nbformat": 4,
 "nbformat_minor": 5
}
