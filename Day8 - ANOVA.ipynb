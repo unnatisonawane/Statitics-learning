{
 "cells": [
  {
   "cell_type": "markdown",
   "id": "9742c6c2-de1a-4328-9638-8421bfd713c9",
   "metadata": {},
   "source": [
    "# ANOVA"
   ]
  },
  {
   "cell_type": "markdown",
   "id": "959c1f88-794e-4161-a0c6-f6c4ebb352b4",
   "metadata": {},
   "source": [
    "It is commonly used when comparing means from three or more groups."
   ]
  },
  {
   "cell_type": "markdown",
   "id": "42adc2ba-ad38-42d2-9623-27bb1c827213",
   "metadata": {},
   "source": [
    "## Factors and Levels"
   ]
  },
  {
   "cell_type": "markdown",
   "id": "c60d285b-f7b8-44cc-8be9-4320f80f9807",
   "metadata": {},
   "source": [
    "1. Factor:  It is the independent variable that defines the groups or conditions being compared.\n",
    "    \n",
    "2. Levels:  levels represent the categories or values within each factor that define the groups or conditions being                   compared in the ANOVA analysis.\n",
    "    \n",
    "3. Example:Suppose a researcher wants to investigate the effect of different doses of a drug (Factor A).\n",
    "Factor A (Drug Dose) with three levels:Low Dose,Medium Dose,High Dose"
   ]
  },
  {
   "cell_type": "markdown",
   "id": "94f48ed9-6641-4cee-9335-a2fb222147e8",
   "metadata": {},
   "source": [
    "## Assumption "
   ]
  },
  {
   "cell_type": "markdown",
   "id": "003b4a78-abee-4b67-81a6-a476ec1dcdfe",
   "metadata": {},
   "source": [
    "1. Normality of sampling distribution of mean :\n",
    "The distribution of sampling mean is normally distributed\n",
    "2. Absence of outlier :\n",
    "Outlying score need to be removed from dataset\n",
    "3. Homogeneity of variance :\n",
    "Population variance in diferent levels of each independent(factor) variable are equal\n",
    "4. Samples are independent and random\n"
   ]
  },
  {
   "cell_type": "markdown",
   "id": "68ed0cda-a52e-4a8e-8c76-75204ec589ee",
   "metadata": {},
   "source": [
    "## Types of ANOVA"
   ]
  },
  {
   "cell_type": "markdown",
   "id": "3372cdc5-7d1c-4243-b8c9-36a084d5958f",
   "metadata": {},
   "source": [
    "#### 1. One-Way ANOVA:\n",
    "    1. Situation: One-Way ANOVA is used when you have one factor with two or more levels and you want to compare the means of a continuous dependent variable across those groups.\n",
    "    2. Example: Comparing the average test scores of students across different grade levels (e.g., 9th grade, 10th grade, 11th grade, and 12th grade).\n",
    "\n",
    "#### 2. Two-Way ANOVA:\n",
    "\n",
    "    1. Situation: Two-Way ANOVA is used when you have two factors and one continuous dependent variable. It allows you to examine the main effects of each independent variable and their interaction effect on the dependent variable.\n",
    "    2. Example: Investigating the effect of both gender (male vs. female) and treatment (drug A vs. drug B) on blood pressure levels.\n",
    "\n",
    "#### 3. Three-Way ANOVA:\n",
    "\n",
    "    1. Situation: Three-Way ANOVA is used when you have three categorical independent variables (factors) and one continuous dependent variable. It allows you to examine the main effects of each independent variable, as well as their interactions.\n",
    "    2. Example: Analyzing the impact of factors like temperature (low, medium, high), humidity (low, medium, high), and time of day (morning, afternoon, evening) on crop yield.\n",
    "\n",
    "#### 4. Repeated Measure ANOVA\n",
    "    1. One factor with at least two levels, levels are dependent.\n",
    "    2. also known as within-subjects ANOVA, is used when the same subjects are measured under different conditions or at different time points.\n",
    "    3. Example :\n",
    "    Suppose a researcher wants to study the effect of different training interventions on the running speed of athletes hree consecutive days.For each day, the running speed of each athlete is recorded.\n",
    "    By utilizing a repeated measures design, the researcher can assess the changes in running speed within each athlete across the three consecutive days, taking into account their individual performance and potential improvements resulting from the different training interventions.\n",
    "    \n",
    "#### 4. Factorial ANOVA\n",
    "    1. Two or more factors( each of which with atleast) 2 levels, levels can be independdent and dependent.\n",
    "    2. Factorial ANOVA is used when there are two or more independent variables (factors) that are studied simultaneously to determine their effects on the dependent variable.\n",
    "    3. Example :Suppose a researcher wants to investigate the effect of two independent variables, \"Type of Exercise\" and \"Gender,\" on participants' heart rate. They measure the heart rate of participants after engaging in different types of exercises.\n",
    "\n",
    "       Factor A: Type of Exercise\n",
    "       Exercise 1: Cardiovascular Exercise\n",
    "       Exercise 2: Strength Training\n",
    "       Factor B: Gender\n",
    "       Male\n",
    "       Female\n",
    "       The researcher randomly assigns 40 participants to one of the four groups:\n",
    "       Group 1: Cardiovascular Exercise - Male\n",
    "       Group 2: Cardiovascular Exercise - Female\n",
    "       Group 3: Strength Training - Male\n",
    "       Group 4: Strength Training - Female\n",
    "       Participants engage in the assigned exercise, and their heart rate is recorded immediately afterward."
   ]
  },
  {
   "cell_type": "markdown",
   "id": "b3a812b0-325e-498a-9c97-f4227e6927fd",
   "metadata": {},
   "source": [
    "## Partitioning in ANOVA "
   ]
  },
  {
   "cell_type": "markdown",
   "id": "6cfa1ff2-c778-41a8-8162-f1d74927dc2e",
   "metadata": {},
   "source": [
    "1.  It is the decomposition of the total variation in the data into different components or sources of variation.\n",
    "2.  the total variation in the dependent variable is partitioned into three main components:\n",
    "\n",
    "    1. Between-Group Variation: This component represents the variation in the dependent variable that is due to differences between the groups or levels of the independent variable. It measures the effect of the independent variable on the dependent variable.\n",
    "\n",
    "    2. Within-Group Variation: Also known as the residual or error variation, this component represents the variation in the dependent variable that cannot be explained by the independent variable. It reflects the random variation or noise in the data that is not accounted for by the model.\n",
    "\n",
    "    3. Total Variation: This is the overall variation in the dependent variable, which is the sum of the between-group and within-group variations. It represents the total variability in the data.\n",
    "    \n",
    "3. The ratio of the between-group variation to the within-group variation is used to compute the F-statistic, which is used to test the statistical significance of the group differences. If the between-group variation is large relative to the within-group variation, it suggests that there are significant differences between the groups."
   ]
  },
  {
   "cell_type": "markdown",
   "id": "a2160339-2fa1-43a6-8cc2-875264a7e4c5",
   "metadata": {},
   "source": [
    "## Main Effect and Interaction Effect "
   ]
  },
  {
   "cell_type": "markdown",
   "id": "9f575939-a4b8-4432-a458-0f725fb62f39",
   "metadata": {
    "tags": []
   },
   "source": [
    "It is important concepts used to understand the relationships between independent variables (factors) and the dependent variable.\n",
    "#### 1. Main Effect:\n",
    "      1. A main effect in ANOVA refers to the effect of a single independent variable on the dependent variable, ignoring the effects of other independent variables. \n",
    "      2. It represents the average difference in the dependent variable across the levels of that particular independent variable.\n",
    "      3. For example, in a two-way ANOVA with independent variables A and B, the main effect of A represents the difference in the dependent variable between the levels of A, regardless of the levels of B. \n",
    "      \n",
    "##### 2. Interaction Effect:\n",
    "       1. An interaction effect in ANOVA occurs when the effect of one independent variable on the dependent variable depends on the level of another independent variable. \n",
    "       2. In other words, the relationship between the independent variables and the dependent variable is not simply additive but varies based on the combination of levels of the independent variables.\n",
    "       3. For example, in a two-way ANOVA, an interaction effect between variables A and B suggests that the effect of A on the dependent variable differs across the levels of B, and vice versa."
   ]
  },
  {
   "cell_type": "markdown",
   "id": "91042de3-7bc0-4981-a6e6-0d608c057c49",
   "metadata": {},
   "source": [
    "## Post Hoc Test ANOVA"
   ]
  },
  {
   "cell_type": "markdown",
   "id": "9a87bdad-ef88-497d-b0bc-a3482dcdfcfe",
   "metadata": {
    "jp-MarkdownHeadingCollapsed": true,
    "tags": []
   },
   "source": [
    "### Importance\n",
    "It provide additional insights and clarifying the nature of significant differences between groups\n",
    "1. Identifying Specific Group Differences: Post hoc tests allow for pairwise comparisons between groups, helping to identify the specific groups that exhibit significant differences.\n",
    "\n",
    "2. Avoiding Type I Errors: Post hoc tests adjust the p-values or confidence intervals for multiple comparisons, controlling the overall experimentwise error rate and reducing the risk of incorrectly concluding significant differences. \n",
    "\n",
    "3. Providing Detailed Insights: They offer mean differences, confidence intervals, and p-values for pairwise comparisons, allowing for a more detailed understanding of the magnitude and direction of the differences between groups.\n",
    "\n",
    "4. Supporting Decision-Making: In various fields such as medicine, education, and business, post hoc tests assist in making informed decisions based on the specific group differences observed. \n",
    "\n",
    "5. Enhancing Interpretability"
   ]
  },
  {
   "cell_type": "markdown",
   "id": "fb8d9327-c3d8-43c6-8b27-2758d8f6602e",
   "metadata": {},
   "source": [
    "### Types of Post-hoc test"
   ]
  },
  {
   "cell_type": "markdown",
   "id": "6a0d2e47-48f1-44e0-abfd-fdf9b5709304",
   "metadata": {},
   "source": [
    "1. Tukey's Honestly Significant Difference (HSD) Test:\n",
    "   This test is widely used and compares all possible pairs of means while controlling the familywise error rate. \n",
    "2. Bonferroni Correction: This approach adjusts the significance level for each individual comparison to control the familywise error rate.  \n",
    "3. Dunnett's Test: This test is used when comparing multiple treatment groups against a control group. It controls the overall experimentwise error rate by comparing each treatment group to the control group while accounting for the correlation among the comparisons.\n",
    "4. Fisher's Least Significant Difference (LSD) Test: The LSD test compares pairs of means using the standard error of the differences. \n",
    "5. Scheffe's Test: This test is robust and can be used for both planned and unplanned comparisons"
   ]
  },
  {
   "cell_type": "markdown",
   "id": "d13bb980-a54f-47bb-8ed9-282d143d064f",
   "metadata": {},
   "source": [
    "#### Example1: One way anova\n",
    "A researcher wants to compare the average test scores of students from three different schools (School A, School B, and School C) to determine if there are any significant differences. The researcher collects test scores from a random sample of students from each school. Conduct a one-way ANOVA using Python to determine if there are any significant differences in test scores between the three schools."
   ]
  },
  {
   "cell_type": "code",
   "execution_count": 1,
   "id": "dab3ac96-6c6e-4428-9161-29d30c2b61d6",
   "metadata": {},
   "outputs": [
    {
     "name": "stdout",
     "output_type": "stream",
     "text": [
      "One-Way ANOVA Result:\n",
      "F-Statistic: 10.102272727272725\n",
      "p-value: 0.012003941180973709\n"
     ]
    }
   ],
   "source": [
    "import pandas as pd\n",
    "import scipy.stats as stats\n",
    "\n",
    "# Create a DataFrame with the test scores and corresponding schools\n",
    "data = {'School': ['A', 'A', 'A', 'B', 'B', 'B', 'C', 'C', 'C'],\n",
    "        'TestScore': [85, 92, 88, 78, 82, 80, 90, 88, 95]}\n",
    "df = pd.DataFrame(data)\n",
    "\n",
    "# Perform one-way ANOVA\n",
    "anova_result = stats.f_oneway(df[df['School'] == 'A']['TestScore'],\n",
    "                              df[df['School'] == 'B']['TestScore'],\n",
    "                              df[df['School'] == 'C']['TestScore'])\n",
    "\n",
    "# Print the ANOVA result\n",
    "print(\"One-Way ANOVA Result:\")\n",
    "print(\"F-Statistic:\", anova_result.statistic)\n",
    "print(\"p-value:\", anova_result.pvalue)\n"
   ]
  },
  {
   "cell_type": "markdown",
   "id": "17e833dc-35df-4e2c-92e8-01166500a131",
   "metadata": {},
   "source": [
    "p-value < 0.05, we can conclude that there are significant differences in test scores between at least two of the schools."
   ]
  },
  {
   "cell_type": "markdown",
   "id": "578f0a0f-4306-4af6-aca9-37bef8183992",
   "metadata": {},
   "source": [
    "#### Example2 : two way anova"
   ]
  },
  {
   "cell_type": "markdown",
   "id": "ead6aa33-c0b5-4337-97b6-fa5b58137c03",
   "metadata": {},
   "source": [
    "A researcher wants to investigate the effect of two factors, gender and age group, on the performance of individuals in a cognitive task. The researcher randomly assigns participants to four groups: males in the young age group, males in the old age group, females in the young age group, and females in the old age group. The researcher measures the performance scores of participants in the cognitive task. Conduct a two-way ANOVA using Python to determine if there are any main effects or interaction effects between gender and age group on the performance scores."
   ]
  },
  {
   "cell_type": "code",
   "execution_count": 6,
   "id": "f6e344c4-3f46-4aaa-a605-cd81b7d1ab69",
   "metadata": {},
   "outputs": [
    {
     "name": "stdout",
     "output_type": "stream",
     "text": [
      "Two-Way ANOVA Result:\n",
      "                     sum_sq   df          F    PR(>F)\n",
      "Gender           396.750000  1.0  11.843284  0.008806\n",
      "AgeGroup          10.083333  1.0   0.300995  0.598233\n",
      "Gender:AgeGroup   14.083333  1.0   0.420398  0.534902\n",
      "Residual         268.000000  8.0        NaN       NaN\n"
     ]
    }
   ],
   "source": [
    "import pandas as pd\n",
    "import statsmodels.api as sm\n",
    "from statsmodels.formula.api import ols\n",
    "\n",
    "# Create a DataFrame with the performance scores, gender, and age group\n",
    "data = {'Performance': [78, 84, 70, 76, 92, 88, 65, 70, 85, 82, 79, 80],\n",
    "        'Gender': ['Male', 'Male', 'Female', 'Female', 'Male', 'Male', 'Female', 'Female',\n",
    "                   'Male', 'Male', 'Female', 'Female'],\n",
    "        'AgeGroup': ['Young', 'Old', 'Young', 'Old', 'Young', 'Old', 'Young', 'Old',\n",
    "                     'Young', 'Old', 'Young', 'Old']}\n",
    "df = pd.DataFrame(data)\n",
    "\n",
    "# Perform two-way ANOVA\n",
    "model = ols('Performance ~ Gender + AgeGroup + Gender:AgeGroup', data=df).fit()\n",
    "anova_table = sm.stats.anova_lm(model, typ=2)\n",
    "\n",
    "# Print the ANOVA table\n",
    "print(\"Two-Way ANOVA Result:\")\n",
    "print(anova_table)\n"
   ]
  },
  {
   "cell_type": "markdown",
   "id": "9a21499d-1b8a-4750-a2ad-1d2ef248efbe",
   "metadata": {},
   "source": [
    "1. Gender: p-value < 0.05, suggesting statistical significance, there is a relationship between gender and performance scores.\n",
    "2. AgeGroup: p-value > 0.05, indicating no significant difference between age groups in terms of performance scores.\n",
    "3. Gender:AgeGroup Interaction:  The p-value > 0.05, indicating no significant interaction effect."
   ]
  },
  {
   "cell_type": "markdown",
   "id": "1081e3ce-e373-461a-b02f-19d1b99a26e6",
   "metadata": {},
   "source": [
    "#### Example3 : Three way ANOVA"
   ]
  },
  {
   "cell_type": "code",
   "execution_count": 6,
   "id": "2dc888c4-5805-4c38-a588-ec14e6c1aaae",
   "metadata": {},
   "outputs": [
    {
     "name": "stdout",
     "output_type": "stream",
     "text": [
      "                                        sum_sq   df         F    PR(>F)\n",
      "C(Treatment)                         16.533333  2.0  1.503030  0.353018\n",
      "C(Gender)                             7.626984  1.0  1.386724  0.323874\n",
      "C(Age_Group)                          0.126984  1.0  0.023088  0.888872\n",
      "C(Treatment):C(Gender):C(Age_Group)  19.061905  7.0  0.495114  0.800169\n",
      "Residual                             16.500000  3.0       NaN       NaN\n"
     ]
    }
   ],
   "source": [
    "import pandas as pd\n",
    "import statsmodels.api as sm\n",
    "from statsmodels.formula.api import ols\n",
    "\n",
    "# Create a DataFrame with the data\n",
    "data = {\n",
    "    'Yield': [10, 12, 8, 11, 9, 13, 7, 10, 11, 9, 14, 12, 8, 10, 13],\n",
    "    'Treatment': ['A', 'B', 'C', 'A', 'B', 'C', 'A', 'B', 'C', 'A', 'B', 'C', 'A', 'B', 'C'],\n",
    "    'Gender': ['Male', 'Male', 'Male', 'Female', 'Female', 'Female', 'Male', 'Male', 'Male', 'Female', 'Female', 'Female', 'Male', 'Male', 'Male'],\n",
    "    'Age_Group': ['Young', 'Young', 'Young', 'Young', 'Young', 'Young', 'Old', 'Old', 'Old', 'Old', 'Old', 'Old', 'Young', 'Young', 'Young']\n",
    "}\n",
    "\n",
    "df = pd.DataFrame(data)\n",
    "\n",
    "# Perform three-way ANOVA\n",
    "formula = 'Yield ~ C(Treatment) + C(Gender) + C(Age_Group) + C(Treatment):C(Gender):C(Age_Group)'\n",
    "model = ols(formula, data=df).fit()\n",
    "anova_table = sm.stats.anova_lm(model, typ=2)\n",
    "\n",
    "# Print the ANOVA table\n",
    "print(anova_table)\n"
   ]
  },
  {
   "cell_type": "code",
   "execution_count": 9,
   "id": "3268f7e5-7385-430c-b22d-6de2d4da897c",
   "metadata": {},
   "outputs": [
    {
     "name": "stdout",
     "output_type": "stream",
     "text": [
      "  group1 group2  meandiff   p-adj   lower   upper  reject\n",
      "0      A      B       2.0  0.2573 -1.2014  5.2014   False\n",
      "1      A      C       2.4  0.1546 -0.8014  5.6014   False\n",
      "2      B      C       0.4  0.9409 -2.8014  3.6014   False\n"
     ]
    }
   ],
   "source": [
    "import statsmodels.stats.multicomp as mc\n",
    "# Perform Tukey's HSD test\n",
    "mc_results = mc.MultiComparison(df['Yield'], df['Treatment']).tukeyhsd()\n",
    "\n",
    "# Create a DataFrame to store the Tukey's HSD test results\n",
    "tukey_results = pd.DataFrame(data=mc_results._results_table.data[1:], columns=mc_results._results_table.data[0])\n",
    "\n",
    "# Print the Tukey's HSD test results\n",
    "print(tukey_results)"
   ]
  },
  {
   "cell_type": "markdown",
   "id": "65fa23f9-48e8-40a4-901d-6909d83fff2f",
   "metadata": {},
   "source": [
    "1. -value > 0.05, indicating no significant difference between treatment and yeild, gender and yeild, age group and yeild.\n",
    "2. from tukey result, see reject column ,indicating no significant difference"
   ]
  },
  {
   "cell_type": "markdown",
   "id": "c5176f43-c217-4ee6-b116-790f5a4ec9f0",
   "metadata": {
    "tags": []
   },
   "source": [
    "#### example4 : repeated measure anova"
   ]
  },
  {
   "cell_type": "code",
   "execution_count": 5,
   "id": "e40aa7f0-3300-45e7-95fc-53c61a5486da",
   "metadata": {},
   "outputs": [
    {
     "name": "stdout",
     "output_type": "stream",
     "text": [
      "              Anova\n",
      "==================================\n",
      "     F Value Num DF  Den DF Pr > F\n",
      "----------------------------------\n",
      "drug 24.7589 3.0000 12.0000 0.0000\n",
      "==================================\n",
      "\n"
     ]
    }
   ],
   "source": [
    "import numpy as np\n",
    "import pandas as pd\n",
    "from statsmodels.stats.anova import AnovaRM\n",
    "\n",
    "#create data\n",
    "df = pd.DataFrame({'patient': np.repeat([1, 2, 3, 4, 5], 4),\n",
    "                   'drug': np.tile([1, 2, 3, 4], 5),\n",
    "                   'response': [30, 28, 16, 34,\n",
    "                                14, 18, 10, 22,\n",
    "                                24, 20, 18, 30,\n",
    "                                38, 34, 20, 44, \n",
    "                                26, 28, 14, 30]})\n",
    "\n",
    "#perform the repeated measures ANOVA\n",
    "print(AnovaRM(data=df, depvar='response', subject='patient', within=['drug']).fit())\n"
   ]
  },
  {
   "cell_type": "markdown",
   "id": "e573d85f-94cc-41e1-94b6-a9ca2092c43c",
   "metadata": {},
   "source": [
    "Since this p-value is less than 0.05, we reject the null hypothesis and conclude that there is a statistically significant difference in mean response times between the four drugs.\n",
    "A one-way repeated measures ANOVA was conducted on 5 individuals to examine the effect that four different drugs had on response time.\n",
    "Results showed that the type of drug used lead to statistically significant differences in response time (F(3, 12) = 24.75887, p < 0.001)."
   ]
  },
  {
   "cell_type": "markdown",
   "id": "c0c469cf-0519-4b55-aba1-6a2e0bbcd056",
   "metadata": {},
   "source": [
    "#### Example 5 : Facotial anova"
   ]
  },
  {
   "cell_type": "markdown",
   "id": "cc64e849-9a3d-42f9-a4bd-adaaaeff75fc",
   "metadata": {},
   "source": [
    " A company wants to evaluate the effectiveness of three different marketing strategies (A, B, and C) in increasing sales revenue. They randomly select 60 customers and divide them equally into three groups. Each group is exposed to one of the marketing strategies (A, B, or C). After one month, they record the sales revenue generated by each customer. The company wants to determine if there is a significant difference in sales revenue among the three marketing strategies."
   ]
  },
  {
   "cell_type": "code",
   "execution_count": 2,
   "id": "c8abcd70-ed23-4ccd-9ba6-c39bd239d270",
   "metadata": {},
   "outputs": [
    {
     "name": "stdout",
     "output_type": "stream",
     "text": [
      "Factorial ANOVA Results:\n",
      "          sum_sq    df          F    PR(>F)\n",
      "Strategy  4225.0   2.0  24.852941  0.000017\n",
      "Residual  1275.0  15.0        NaN       NaN\n"
     ]
    }
   ],
   "source": [
    "import pandas as pd\n",
    "import statsmodels.api as sm\n",
    "from statsmodels.formula.api import ols\n",
    "\n",
    "# Sales revenue data for each marketing strategy\n",
    "strategy_A = [100, 110, 95, 120, 105, 115]\n",
    "strategy_B = [90, 85, 95, 80, 75, 100]\n",
    "strategy_C = [120, 130, 110, 135, 125, 130]\n",
    "\n",
    "# Creating a DataFrame for the data\n",
    "data = pd.DataFrame({\n",
    "    'Strategy': ['A'] * len(strategy_A) + ['B'] * len(strategy_B) + ['C'] * len(strategy_C),\n",
    "    'Sales_Revenue': strategy_A + strategy_B + strategy_C\n",
    "})\n",
    "\n",
    "# Performing the factorial ANOVA\n",
    "model = ols('Sales_Revenue ~ Strategy', data=data).fit()\n",
    "anova_table = sm.stats.anova_lm(model, typ=2)\n",
    "\n",
    "# Printing the ANOVA table\n",
    "print(\"Factorial ANOVA Results:\")\n",
    "print(anova_table)\n"
   ]
  },
  {
   "cell_type": "markdown",
   "id": "b395488b-baa0-417e-90d7-4d44960dd4e4",
   "metadata": {},
   "source": [
    "Since the p-value is less than the significance level (0.05), there is a significant difference in sales revenue among the three marketing strategies (A, B, and C)."
   ]
  },
  {
   "cell_type": "code",
   "execution_count": 4,
   "id": "8d17246b-6eea-446e-b245-29d46a03e9c0",
   "metadata": {},
   "outputs": [
    {
     "name": "stdout",
     "output_type": "stream",
     "text": [
      "Tukey's HSD Test Results:\n",
      " Multiple Comparison of Means - Tukey HSD, FWER=0.05 \n",
      "=====================================================\n",
      "group1 group2 meandiff p-adj   lower    upper  reject\n",
      "-----------------------------------------------------\n",
      "     A      B    -20.0 0.0051 -33.8261 -6.1739   True\n",
      "     A      C     17.5  0.013   3.6739 31.3261   True\n",
      "     B      C     37.5    0.0  23.6739 51.3261   True\n",
      "-----------------------------------------------------\n"
     ]
    }
   ],
   "source": [
    "from statsmodels.stats.multicomp import MultiComparison\n",
    "# Performing Tukey's HSD test\n",
    "mc = MultiComparison(data['Sales_Revenue'], data['Strategy'])\n",
    "tukey_result = mc.tukeyhsd()\n",
    "\n",
    "# Printing the Tukey's HSD test results\n",
    "print(\"Tukey's HSD Test Results:\")\n",
    "print(tukey_result)"
   ]
  },
  {
   "cell_type": "markdown",
   "id": "d0d2f387-96b7-43b1-b151-498adc4618fa",
   "metadata": {},
   "source": [
    "This means that the sales revenue among all three strategies (A, B, and C) is significantly different from each other."
   ]
  },
  {
   "cell_type": "markdown",
   "id": "47a32623-83d2-486b-bad4-d49ce133f09a",
   "metadata": {},
   "source": [
    "#### Example 6: partitioning of anova"
   ]
  },
  {
   "cell_type": "code",
   "execution_count": 6,
   "id": "67720df8-a708-4252-9d9c-eb432021c7f3",
   "metadata": {},
   "outputs": [
    {
     "name": "stdout",
     "output_type": "stream",
     "text": [
      "Partitioning Results:\n",
      "Total Sum of Squares: 5499.999999999995\n",
      "Sum of Squares - Strategy: 4224.999999999995\n",
      "Sum of Squares - Residual: 1275.0\n",
      "Proportion of Variance - Strategy: 0.768181818181818\n",
      "Proportion of Variance - Residual: 0.231818181818182\n"
     ]
    }
   ],
   "source": [
    "import pandas as pd\n",
    "import statsmodels.api as sm\n",
    "from statsmodels.formula.api import ols\n",
    "\n",
    "# Sales revenue data for each marketing strategy\n",
    "strategy_A = [100, 110, 95, 120, 105, 115]\n",
    "strategy_B = [90, 85, 95, 80, 75, 100]\n",
    "strategy_C = [120, 130, 110, 135, 125, 130]\n",
    "\n",
    "# Creating a DataFrame for the data\n",
    "data = pd.DataFrame({\n",
    "    'Strategy': ['A'] * len(strategy_A) + ['B'] * len(strategy_B) + ['C'] * len(strategy_C),\n",
    "    'SalesRevenue': strategy_A + strategy_B + strategy_C\n",
    "})\n",
    "\n",
    "# Performing the partitioning in ANOVA\n",
    "model = ols('SalesRevenue ~ Strategy', data=data).fit()\n",
    "anova_table = sm.stats.anova_lm(model, typ=2)\n",
    "\n",
    "# Extracting the sum of squares\n",
    "ss_total = anova_table['sum_sq']['Residual'] + anova_table['sum_sq']['Strategy']\n",
    "ss_strategy = anova_table['sum_sq']['Strategy']\n",
    "ss_residual = anova_table['sum_sq']['Residual']\n",
    "\n",
    "# Computing the proportion of variance explained by the strategy\n",
    "prop_var_strategy = ss_strategy / ss_total # independent\n",
    "\n",
    "# Computing the proportion of variance unexplained (residual variance)\n",
    "prop_var_residual = ss_residual / ss_total\n",
    "\n",
    "# Printing the partitioning results\n",
    "print(\"Partitioning Results:\")\n",
    "print(\"Total Sum of Squares:\", ss_total)\n",
    "print(\"Sum of Squares - Strategy:\", ss_strategy)\n",
    "print(\"Sum of Squares - Residual:\", ss_residual)\n",
    "print(\"Proportion of Variance - Strategy:\", prop_var_strategy)\n",
    "print(\"Proportion of Variance - Residual:\", prop_var_residual)\n"
   ]
  },
  {
   "cell_type": "markdown",
   "id": "6f50bf34-2aaf-408a-90cc-36e15ef9e4b4",
   "metadata": {},
   "source": [
    "The proportion of variance explained by the strategy indicates the proportion of total variability in the dependent variable (sales revenue) that is accounted for by the strategy."
   ]
  },
  {
   "cell_type": "code",
   "execution_count": null,
   "id": "8193eb44-223d-4361-b952-ce031d4e773a",
   "metadata": {},
   "outputs": [],
   "source": []
  }
 ],
 "metadata": {
  "kernelspec": {
   "display_name": "Python 3 (ipykernel)",
   "language": "python",
   "name": "python3"
  },
  "language_info": {
   "codemirror_mode": {
    "name": "ipython",
    "version": 3
   },
   "file_extension": ".py",
   "mimetype": "text/x-python",
   "name": "python",
   "nbconvert_exporter": "python",
   "pygments_lexer": "ipython3",
   "version": "3.10.8"
  }
 },
 "nbformat": 4,
 "nbformat_minor": 5
}
