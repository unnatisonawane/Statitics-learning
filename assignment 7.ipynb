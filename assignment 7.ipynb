{
 "cells": [
  {
   "cell_type": "markdown",
   "id": "0b743e0c-5898-454a-af0d-ef591094c8ec",
   "metadata": {},
   "source": [
    "## Q1. Calculate the 95% confidence interval for a sample of data with a mean of 50 and a standard deviation of 5 using Python. Interpret the results."
   ]
  },
  {
   "cell_type": "code",
   "execution_count": 3,
   "id": "43dfd2d8-ff5f-47dd-a292-d7b101792bc8",
   "metadata": {},
   "outputs": [],
   "source": [
    "# to construct or calculate Confidence Interval we need sample size.\n",
    "# given statistics:\n",
    "xbar = 50\n",
    "std = 5\n",
    "cofidence_level = 0.95\n",
    "alpha = 0.05\n",
    "\n",
    "# for Confidence internal we need to calculate standard error which require sample size.\n",
    "# simply i can interpret it as We can say with 95% confidence that the true population mean falls within the range\n",
    "# provided by the confidence interval [lower_bound, upper_bound]."
   ]
  },
  {
   "cell_type": "markdown",
   "id": "cace7d41-f1f4-4717-9988-311e96039cbe",
   "metadata": {},
   "source": [
    "## Q2. Conduct a chi-square goodness of fit test to determine if the distribution of colors of M&Ms in a bag matches the expected distribution of 20% blue, 20% orange, 20% green, 10% yellow, 10% red, and 20% brown. Use Python to perform the test with a significance level of 0.05."
   ]
  },
  {
   "cell_type": "code",
   "execution_count": 10,
   "id": "8a45e7dd-b1e6-40db-9d35-e703f4261fc2",
   "metadata": {},
   "outputs": [
    {
     "name": "stdout",
     "output_type": "stream",
     "text": [
      "chi square test statistics: 23.941860465116278\n",
      "p value: 0.00022276983531641266\n",
      "critical value: 11.070497693516351\n",
      "Reject the null hypothesis, the distribution of colors of M&Ms in a bag does not matches the expected distribution\n"
     ]
    }
   ],
   "source": [
    "import scipy.stats as stats\n",
    "import numpy as np\n",
    "\n",
    "#observed frequency are not given so we will select randomly\n",
    "Observed_freq = np.array([12,14,10,18,17,15])\n",
    "expected_freq = np.array([0.2,0.2,0.2,0.1,0.1,0.2]) * np.sum(Observed_freq) \n",
    "significance = 0.05\n",
    "dof = len(Observed_freq)-1\n",
    "\n",
    "#hypotheses\n",
    "# H0:  the distribution of colors of M&Ms in a bag does not matches the expected distribution\n",
    "# H1 : the distribution of colors of M&Ms in a bag matches the expected distribution\n",
    "\n",
    "#chi_square_test\n",
    "chi_square_statistics,p_value=stats.chisquare(Observed_freq,expected_freq)\n",
    "\n",
    "#critical value\n",
    "critical_value = stats.chi2.ppf(1-significance,dof)\n",
    "\n",
    "print(\"chi square test statistics:\",chi_square_statistics)\n",
    "print(\"p value:\",p_value)\n",
    "print(\"critical value:\",critical_value)\n",
    "\n",
    "# make conclusion\n",
    "if chi_square_statistics > critical_value or p_value < significance:\n",
    "    print(\"Reject the null hypothesis, the distribution of colors of M&Ms in a bag does not matches the expected distribution\")\n",
    "else:\n",
    "    print(\"Fail to reject null hypothesis, the distribution of colors of M&Ms in a bag matches the expected distribution\")"
   ]
  },
  {
   "cell_type": "markdown",
   "id": "866ce997-9c36-459b-bdfe-afe14b3c0d09",
   "metadata": {},
   "source": [
    "## Q3. Use Python to calculate the chi-square statistic and p-value for a contingency table with the following data:"
   ]
  },
  {
   "cell_type": "code",
   "execution_count": 18,
   "id": "ca5af7b8-c6b5-4530-9089-a60297105b6b",
   "metadata": {},
   "outputs": [],
   "source": [
    "#######Group A Group B\n",
    "#Outcome 1  20      15\n",
    "#Outcome 2  10      25\n",
    "#Outcome 3  15      20\n"
   ]
  },
  {
   "cell_type": "code",
   "execution_count": 23,
   "id": "85356685-a581-4dfd-8d42-ba222c854060",
   "metadata": {},
   "outputs": [
    {
     "name": "stdout",
     "output_type": "stream",
     "text": [
      "Chi-square statistic: 5.833333333333334\n",
      "p-value: 0.05411376622282158\n"
     ]
    }
   ],
   "source": [
    "import numpy as np\n",
    "import scipy.stats as stats\n",
    "\n",
    "# Define the contingency table\n",
    "observed = np.array([[20, 15], [10, 25], [15, 20]])\n",
    "\n",
    "# Perform the chi-square test\n",
    "chi2, p_value, _,_ = stats.chi2_contingency(observed)\n",
    "\n",
    "# Print the test results\n",
    "print(\"Chi-square statistic:\", chi2)\n",
    "print(\"p-value:\", p_value)\n"
   ]
  },
  {
   "cell_type": "markdown",
   "id": "dd46f0ad-c58b-4800-9d1f-47de6f0bb01b",
   "metadata": {},
   "source": [
    "## Q4. A study of the prevalence of smoking in a population of 500 individuals found that 60 individuals smoked. Use Python to calculate the 95% confidence interval for the true proportion of individuals in the population who smoke."
   ]
  },
  {
   "cell_type": "code",
   "execution_count": 26,
   "id": "2587734c-bfc5-476d-a2e7-075b397fb367",
   "metadata": {},
   "outputs": [
    {
     "name": "stdout",
     "output_type": "stream",
     "text": [
      "95% Confidence Interval: (0.092, 0.148)\n"
     ]
    }
   ],
   "source": [
    "import statsmodels.stats.proportion as proportion\n",
    "\n",
    "sample_size = 500\n",
    "smokers = 60\n",
    "\n",
    "# Calculate the proportion of smokers in the sample\n",
    "smoker_proportion = smokers / sample_size\n",
    "\n",
    "# Calculate the confidence interval\n",
    "confidence_interval = proportion.proportion_confint(smokers, sample_size, alpha=0.05, method='normal')\n",
    "\n",
    "print(f\"95% Confidence Interval: ({confidence_interval[0]:.3f}, {confidence_interval[1]:.3f})\")"
   ]
  },
  {
   "cell_type": "markdown",
   "id": "b61e256f-c1ab-4e6d-ad32-9e0ae40540f5",
   "metadata": {},
   "source": [
    "## Q5. Calculate the 90% confidence interval for a sample of data with a mean of 75 and a standard deviation of 12 using Python. Interpret the results."
   ]
  },
  {
   "cell_type": "code",
   "execution_count": 30,
   "id": "b96f80ea-4274-4934-aa9a-360181082c09",
   "metadata": {},
   "outputs": [
    {
     "name": "stdout",
     "output_type": "stream",
     "text": [
      "90% Confidence Interval: (73.026,76.974)\n"
     ]
    }
   ],
   "source": [
    "import scipy.stats as stats\n",
    "import numpy as np\n",
    "\n",
    "sample_mean = 75\n",
    "sample_std = 12\n",
    "sample_size = 100  # Assuming a sample size of 100\n",
    "\n",
    "# Calculate the standard error\n",
    "standard_error = sample_std / np.sqrt(sample_size)\n",
    "\n",
    "# Calculate the confidence interval\n",
    "confidence_interval = stats.norm.interval(0.90, loc=sample_mean, scale=standard_error)\n",
    "\n",
    "# Print the confidence interval\n",
    "print(f\"90% Confidence Interval: ({confidence_interval[0]:.3f},{confidence_interval[1]:.3f})\")\n"
   ]
  },
  {
   "cell_type": "markdown",
   "id": "41cae84f-1196-4ce1-9f85-5add0a948483",
   "metadata": {},
   "source": [
    "## Q6. Use Python to plot the chi-square distribution with 10 degrees of freedom. Label the axes and shade the area corresponding to a chi-square statistic of 15."
   ]
  },
  {
   "cell_type": "code",
   "execution_count": 35,
   "id": "ed5efd3a-1371-43fa-9e4a-9b3102b09be2",
   "metadata": {},
   "outputs": [
    {
     "data": {
      "image/png": "[encoded data removed]",
      "text/plain": [
       "<Figure size 640x480 with 1 Axes>"
      ]
     },
     "metadata": {},
     "output_type": "display_data"
    }
   ],
   "source": [
    "import numpy as np\n",
    "import matplotlib.pyplot as plt\n",
    "import scipy.stats as stats\n",
    "\n",
    "# Define the degrees of freedom\n",
    "df = 10\n",
    "\n",
    "# Generate x values for the chi-square distribution\n",
    "x = np.linspace(0, 30, 500)\n",
    "\n",
    "# Calculate the chi-square probability density function (PDF)\n",
    "chi2_pdf = stats.chi2.pdf(x, df)\n",
    "\n",
    "# Plot the chi-square distribution\n",
    "plt.plot(x, chi2_pdf, label=f'Chi-square distribution (df={df})')\n",
    "\n",
    "# Shade the area corresponding to a chi-square statistic of 15\n",
    "x_fill = np.linspace(0, 30, 500)\n",
    "y_fill = stats.chi2.pdf(x_fill, df)\n",
    "mask = x_fill > 15\n",
    "plt.fill_between(x_fill[mask], y_fill[mask], color='gray', alpha=0.5, label='Area (Chi-square > 15)')\n",
    "\n",
    "# Label the axes\n",
    "plt.xlabel('Chi-square statistic')\n",
    "plt.ylabel('Probability Density Function')\n",
    "plt.title('Chi-square Distribution')\n",
    "\n",
    "# Show the legend\n",
    "plt.legend()\n",
    "\n",
    "# Show the plot\n",
    "plt.show()\n"
   ]
  },
  {
   "cell_type": "markdown",
   "id": "40807f6d-f5cd-4951-a314-962c625ee81f",
   "metadata": {},
   "source": [
    "## Q7. A random sample of 1000 people was asked if they preferred Coke or Pepsi. Of the sample, 520 preferred Coke. Calculate a 99% confidence interval for the true proportion of people in the population who prefer Coke."
   ]
  },
  {
   "cell_type": "code",
   "execution_count": 36,
   "id": "45f756a7-d99d-4676-b0c3-156a72ece7cb",
   "metadata": {},
   "outputs": [
    {
     "name": "stdout",
     "output_type": "stream",
     "text": [
      "95% Confidence Interval: (0.479, 0.561)\n"
     ]
    }
   ],
   "source": [
    "sample_size = 1000\n",
    "coke_lover = 520\n",
    "\n",
    "# Calculate the proportion of smokers in the sample\n",
    "smoker_proportion = coke_lover / sample_size\n",
    "\n",
    "# Calculate the confidence interval\n",
    "confidence_interval = proportion.proportion_confint(coke_lover, sample_size, alpha=0.01, method='normal')\n",
    "\n",
    "print(f\"95% Confidence Interval: ({confidence_interval[0]:.3f}, {confidence_interval[1]:.3f})\")"
   ]
  },
  {
   "cell_type": "markdown",
   "id": "dd31d3c1-b885-4a49-bfec-04a5a771dba9",
   "metadata": {},
   "source": [
    "## Q8. A researcher hypothesizes that a coin is biased towards tails. They flip the coin 100 times and observe 45 tails. Conduct a chi-square goodness of fit test to determine if the observed frequencies match the expected frequencies of a fair coin. Use a significance level of 0.05."
   ]
  },
  {
   "cell_type": "code",
   "execution_count": 43,
   "id": "97c99452-1e06-49dc-98c1-60e54994973a",
   "metadata": {},
   "outputs": [
    {
     "name": "stdout",
     "output_type": "stream",
     "text": [
      "chi square statistics: 1.0\n",
      "p value: 0.31731050786291115\n",
      "fail to reject the null hypothesis and do not have sufficient evidence to conclude that the observed frequencies differ significantly from the expected frequencies\n"
     ]
    }
   ],
   "source": [
    "import numpy as np\n",
    "from scipy.stats import chisquare\n",
    "\n",
    "#No. of head and tails are observed\n",
    "observed_freq = np.array([45,55])\n",
    "# as expected coin is fair\n",
    "expected_freq = np.array([50,50])\n",
    "\n",
    "chi_square_statistics,p_value = chisquare(observed_freq,expected_freq)\n",
    "print(\"chi square statistics:\",chi_square_statistics)\n",
    "print(\"p value:\",p_value)\n",
    "\n",
    "if p_value <0.05 :\n",
    "    print(\"reject the null hypothesis and conclude that the observed frequencies significantly differ from the expected frequencies\")\n",
    "else:\n",
    "    print(\"fail to reject the null hypothesis and do not have sufficient evidence to conclude that the observed frequencies differ significantly from the expected frequencies\")"
   ]
  },
  {
   "cell_type": "markdown",
   "id": "5f81908e-244c-4e60-8aea-b3ae5d106f66",
   "metadata": {},
   "source": [
    "## Q9. A study was conducted to determine if there is an association between smoking status (smoker or non-smoker) and lung cancer diagnosis (yes or no). The results are shown in the contingency table below. Conduct a chi-square test for independence to determine if there is a significant association between smoking status and lung cancer diagnosis.\n",
    "Use a significance level of 0.05."
   ]
  },
  {
   "cell_type": "code",
   "execution_count": 48,
   "id": "38ad0892-d672-4596-b764-ef9838d7059c",
   "metadata": {},
   "outputs": [],
   "source": [
    "#Lung Cancer: Yes   No\n",
    "#Smoker         60   140\n",
    "#Non-smoker     30   170\n"
   ]
  },
  {
   "cell_type": "code",
   "execution_count": 50,
   "id": "38f55932-39cd-4c97-9983-048003d66447",
   "metadata": {},
   "outputs": [
    {
     "name": "stdout",
     "output_type": "stream",
     "text": [
      "Chi-square statistic: 12.057347670250895\n",
      "p-value: 0.0005158863863703744\n",
      "Degrees of freedom: 1\n",
      "Expected frequencies:\n",
      "[[ 45. 155.]\n",
      " [ 45. 155.]]\n",
      "reject the null hypothesis and conclude that there is a significant association between smoking status and lung cancer diagnosis.\n"
     ]
    }
   ],
   "source": [
    "import numpy as np\n",
    "from scipy.stats import chi2_contingency\n",
    "\n",
    "# Create the contingency table\n",
    "observed_freq = np.array([[60,140], [30,170]])\n",
    "\n",
    "# Perform the chi-square test for independence\n",
    "chi2_stat, p_value, dof, expected_freq = chi2_contingency(observed_freq)\n",
    "\n",
    "# Print the results\n",
    "print(\"Chi-square statistic:\", chi2_stat)\n",
    "print(\"p-value:\", p_value)\n",
    "print(\"Degrees of freedom:\", dof)\n",
    "print(\"Expected frequencies:\")\n",
    "print(expected_freq)\n",
    "\n",
    "if p_value <0.05:\n",
    "    print(\"reject the null hypothesis and conclude that there is a significant association between smoking status and lung cancer diagnosis.\")\n",
    "else:\n",
    "    print(\"fail to reject the null hypothesis and do not have sufficient evidence to conclude that there is a significant association.\")"
   ]
  },
  {
   "cell_type": "markdown",
   "id": "6c04ec48-ef47-4654-a203-c78e431deb87",
   "metadata": {},
   "source": [
    "## Q10. A study was conducted to determine if the proportion of people who prefer milk chocolate, dark chocolate, or white chocolate is different in the U.S. versus the U.K. A random sample of 500 people from the U.S. and a random sample of 500 people from the U.K. were surveyed. The results are shown in the contingency table below. Conduct a chi-square test for independence to determine if there is a significant association between chocolate preference and country of origin.\n",
    "Use a significance level of 0.01."
   ]
  },
  {
   "cell_type": "code",
   "execution_count": 51,
   "id": "21049eb3-75e3-4459-8af4-2f142f65b80f",
   "metadata": {},
   "outputs": [],
   "source": [
    "#            Milk Chocolate Dark Chocolate White Chocolate\n",
    "#U.S.(n=500)     200               150             150\n",
    "#U.K.(n=500)     225               175              100\n"
   ]
  },
  {
   "cell_type": "code",
   "execution_count": 58,
   "id": "9ee3f56c-488a-4689-b51b-e271fd71ee48",
   "metadata": {},
   "outputs": [
    {
     "name": "stdout",
     "output_type": "stream",
     "text": [
      "Chi-square statistic: 13.393665158371041\n",
      "p-value: 0.0012348168997745918\n",
      "reject the null hypothesis and conclude that there is a significant association between chocolate preference and country of origin\n"
     ]
    }
   ],
   "source": [
    "import numpy as np\n",
    "import scipy.stats as stats\n",
    "\n",
    "# Define the contingency table\n",
    "observed = np.array([[200,150,150], [225,175,100]])\n",
    "\n",
    "# Perform the chi-square test\n",
    "chi2, p_value, _,_ = stats.chi2_contingency(observed)\n",
    "\n",
    "# Print the test results\n",
    "print(\"Chi-square statistic:\", chi2)\n",
    "print(\"p-value:\", p_value)\n",
    "\n",
    "if p_value < 0.01:\n",
    "    print(\"reject the null hypothesis and conclude that there is a significant association between chocolate preference and country of origin\")\n",
    "else:\n",
    "    print(\"fail to reject the null hypothesis and do not have sufficient evidence to conclude that there is a significant association\")"
   ]
  },
  {
   "cell_type": "markdown",
   "id": "3bddb993-695d-429f-b867-f0dc45b95b51",
   "metadata": {},
   "source": [
    "## Q11. A random sample of 30 people was selected from a population with an unknown mean and standard deviation. The sample mean was found to be 72 and the sample standard deviation was found to be 10. Conduct a hypothesis test to determine if the population mean is significantly different from 70. Use a significance level of 0.05."
   ]
  },
  {
   "cell_type": "code",
   "execution_count": 57,
   "id": "c008b742-55b7-4adf-83a9-2006cdae96bd",
   "metadata": {},
   "outputs": [
    {
     "name": "stdout",
     "output_type": "stream",
     "text": [
      "t statistic : -0.03651483716701107\n",
      "critical value: 2.0452296421327034\n",
      "p value: 0.9711220456529077\n",
      "fail to rejet null hypothesis and conclude that population mean is not significantly different from 70\n"
     ]
    }
   ],
   "source": [
    "import numpy as np\n",
    "from scipy.stats import t\n",
    "\n",
    "#sample statistcis\n",
    "sample_size = 30\n",
    "sample_mean = 72\n",
    "sample_std = 10\n",
    "alpha = 0.05\n",
    "xbar = 70\n",
    "df = sample_size-1\n",
    "# t statistic\n",
    "t_stat = (xbar - sample_mean)/(sample_std * np.sqrt(sample_size))\n",
    "\n",
    "# critical value \n",
    "critical_value =t.isf(alpha / 2, df)\n",
    "\n",
    "#p_value\n",
    "p_value=2 * (1-t.cdf(abs(t_stat),df))\n",
    "\n",
    "print(\"t statistic :\",t_stat)\n",
    "print(\"critical value:\",critical_value)\n",
    "print(\"p value:\",p_value)\n",
    "\n",
    "if abs(t_stat) > critical_value or p_value < alpha:\n",
    "    print(\"reject null hypothesis and conclude that population mean is significantly different from 70\")\n",
    "else:\n",
    "    print(\"fail to rejet null hypothesis and conclude that population mean is not significantly different from 70\")"
   ]
  },
  {
   "cell_type": "code",
   "execution_count": null,
   "id": "ac9a18d4-ae8e-4484-b965-a5e1a05b8f80",
   "metadata": {},
   "outputs": [],
   "source": []
  }
 ],
 "metadata": {
  "kernelspec": {
   "display_name": "Python 3 (ipykernel)",
   "language": "python",
   "name": "python3"
  },
  "language_info": {
   "codemirror_mode": {
    "name": "ipython",
    "version": 3
   },
   "file_extension": ".py",
   "mimetype": "text/x-python",
   "name": "python",
   "nbconvert_exporter": "python",
   "pygments_lexer": "ipython3",
   "version": "3.10.8"
  }
 },
 "nbformat": 4,
 "nbformat_minor": 5
}
