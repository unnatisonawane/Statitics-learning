{
 "cells": [
  {
   "cell_type": "markdown",
   "id": "e5fc6bba-8611-41c0-beb8-3472a2e8fe96",
   "metadata": {},
   "source": [
    "##  Statistical Tests"
   ]
  },
  {
   "cell_type": "markdown",
   "id": "8e1db6ac-3218-455e-b497-3e92d6af0452",
   "metadata": {},
   "source": [
    "One-sample and two-sample tests are types of statistical tests\n",
    "### 1. One-Sample Test:\n",
    "1. A one-sample test is used when you have a single sample and want to compare it to a known value or a hypothesized population parameter.\n",
    "2. Alternative hypothesis (Ha): μ > μ₀ (greater than), or μ < μ₀ (less than), or μ ≠ μ₀ (not equal to)\n",
    "3. Null hypothesis (H₀): μ = μ₀ (equal to)\n",
    "\n",
    "### 2. Two-Sample Test:\n",
    "1. In a two-sample test, you are comparing two independent samples to each other. \n",
    "2. Alternative hypothesis (Ha): μ₁ > μ₂ (greater than), or μ₁ < μ₂ (less than), or μ₁ ≠ μ₂ (not equal to)\n",
    "3. Null hypothesis (H₀): μ₁ = μ₂ (equal to)"
   ]
  },
  {
   "cell_type": "markdown",
   "id": "a80b69b5-9ec9-4fbd-a3fc-cbd68d78efbb",
   "metadata": {},
   "source": [
    "# Z test"
   ]
  },
  {
   "cell_type": "markdown",
   "id": "82cd56cf-2ed0-487e-9377-cd1b349b4c6f",
   "metadata": {},
   "source": [
    "1. Assume that population parameter follow normal distribution\n",
    "2. population standard deviation (σ) is known. \n",
    "3. sample sizes are small (typically, less than 30). However, for larger sample sizes, the central limit theorem often allows for approximate normality, even if the population is not perfectly normal.\n",
    "4. Equal Population Standard Deviations (for independent samples z-test) i.e. (σ₁ = σ₂)"
   ]
  },
  {
   "cell_type": "markdown",
   "id": "f53c7dca-404d-48c0-a442-40cf2f93f9a4",
   "metadata": {},
   "source": [
    "### Example1:\n",
    "Write a Python function to estimate the population mean using a sample mean and standard deviation."
   ]
  },
  {
   "cell_type": "code",
   "execution_count": 13,
   "id": "bc4763de-f937-466c-a8f3-929209e04d5d",
   "metadata": {},
   "outputs": [],
   "source": [
    "from scipy.stats import norm\n",
    "\n",
    "    #define a function\n",
    "def estimate_population_mean(sample_mean, sample_std, sample_size):\n",
    "    \n",
    "    standard_error = sample_std / (sample_size ** 0.5) # Calculate the standard error \n",
    "    margin_of_error =  1.96  * standard_error # Calculate the margin of error (use 95% confidence interval)\n",
    "    lower_bound = sample_mean - margin_of_error   # Calculate the lower and upper bounds of the confidence interval\n",
    "    upper_bound = sample_mean + margin_of_error   \n",
    "    estimated_population_mean = (lower_bound + upper_bound) / 2# Calculate the estimated population mean\n",
    "    \n",
    "    return estimated_population_mean , (lower_bound, upper_bound) # Return the estimated population mean and the confidence interval"
   ]
  },
  {
   "cell_type": "code",
   "execution_count": 14,
   "id": "068e02fe-6a79-4244-87ec-1683f12098b3",
   "metadata": {},
   "outputs": [
    {
     "name": "stdout",
     "output_type": "stream",
     "text": [
      "Estimated Population Mean:75.200\n",
      "Estimated Population: (73.514, 76.886)\n"
     ]
    }
   ],
   "source": [
    "#use above function to get values\n",
    "sample_mean = 75.2\n",
    "sample_std = 8.6\n",
    "sample_size = 100\n",
    "\n",
    "estimated_mean, confidence_interval = estimate_population_mean(sample_mean, sample_std, sample_size)\n",
    "\n",
    "print(f\"Estimated Population Mean:{estimated_mean:.3f}\")\n",
    "print(f\"Estimated Population: ({confidence_interval[0]:.3f}, {confidence_interval[1]:.3f})\")"
   ]
  },
  {
   "cell_type": "markdown",
   "id": "7ed82713-d096-41db-ac3b-5b8a2be3662c",
   "metadata": {},
   "source": [
    "### Example 2 - one tailed right sided test"
   ]
  },
  {
   "cell_type": "markdown",
   "id": "7c34a1e3-993d-4ed2-a602-a90ea310f02d",
   "metadata": {},
   "source": [
    "Suppose we have a sample of 50 students, and we want to test whether their average height, based on the sample mean of 170 cm, is greater than the population average height of 165 cm. We know the population standard deviation is 10 cm. We will use a significance level (alpha) of 0.05."
   ]
  },
  {
   "cell_type": "code",
   "execution_count": 22,
   "id": "1f9bc020-863f-4e4d-83cf-b768c4325698",
   "metadata": {},
   "outputs": [
    {
     "name": "stdout",
     "output_type": "stream",
     "text": [
      "Test Statistic (z-score): 3.5355339059327378\n",
      "Critical Value: -0.6448536269514729\n",
      "P-value: 0.00020347600872250293\n",
      "z test is greater than critical value,  Reject the null hypothesis\n",
      "Reject the null hypothesis.\n"
     ]
    }
   ],
   "source": [
    "import numpy as np\n",
    "from scipy.stats import norm\n",
    "\n",
    "#sample statistics\n",
    "n = 50\n",
    "popl_mean=165\n",
    "sample_mean= 170\n",
    "std=10\n",
    "\n",
    "alpha=0.05\n",
    "\n",
    "# state hypothesis\n",
    "# H0: mu <= 165\n",
    "# H1: mu > 165\n",
    "\n",
    "# calculate z statistics\n",
    "z_statistic = (sample_mean-popl_mean)/(std/np.sqrt(n))\n",
    "\n",
    "# calculate critical value \n",
    "#Since it is a one-tailed right-sided test, we use the 1- z_alpha critical value.\n",
    "critical_value = 1- norm.isf(alpha)\n",
    "\n",
    "# calculate p value\n",
    "p_value = 1- norm.cdf(z_statistic)\n",
    "\n",
    "# Print the results\n",
    "print(\"Test Statistic (z-score):\", z_statistic)\n",
    "print(\"Critical Value:\", critical_value)\n",
    "print(\"P-value:\", p_value)\n",
    "\n",
    "# Make a conclusion\n",
    "if abs(z_statistic) > critical_value:\n",
    "    print(\"z test is greater than critical value,  Reject the null hypothesis\")\n",
    "else:\n",
    "    print(\"z test is less than critical value, Accept the null hypothesis\")\n",
    "    \n",
    " # Compare p-value with the significance level\n",
    "if p_value < alpha:\n",
    "    print(\"Reject the null hypothesis.\")\n",
    "else:\n",
    "    print( \"fail to reject null hypothesis\")"
   ]
  },
  {
   "cell_type": "code",
   "execution_count": null,
   "id": "95d6df03-61ee-45ca-bc53-5fc8e0a9929f",
   "metadata": {},
   "outputs": [],
   "source": []
  },
  {
   "cell_type": "markdown",
   "id": "3f6279fe-505a-444c-95d1-d084d80027fa",
   "metadata": {},
   "source": [
    "### Example 3:  one tailed left sided test"
   ]
  },
  {
   "cell_type": "markdown",
   "id": "6110ef09-4f7f-4af9-9090-0e2befb74e99",
   "metadata": {},
   "source": [
    "Suppose we want to test whether a new teaching method improves students' test scores. We have a sample of 40 students who were taught using the new method, and we want to determine if their average test score is significantly lower than the population average test score of 75. We know that the population standard deviation is 5."
   ]
  },
  {
   "cell_type": "code",
   "execution_count": 23,
   "id": "277db4d4-0710-4850-94d2-bbd2bf8b284e",
   "metadata": {},
   "outputs": [
    {
     "name": "stdout",
     "output_type": "stream",
     "text": [
      "Test Statistic (z-score): -3.7947331922020555\n",
      "Critical Value: 1.6448536269514729\n",
      "P-value: 7.390115516722686e-05\n",
      "z test is greater than critical value,  Reject the null hypothesis\n",
      "Reject the null hypothesis.\n"
     ]
    }
   ],
   "source": [
    "import numpy as np\n",
    "from scipy.stats import norm\n",
    "\n",
    "#sample statistics\n",
    "n = 40\n",
    "popl_mean=75\n",
    "sample_mean= 72\n",
    "std=5\n",
    "alpha = 0.05\n",
    "\n",
    "# state hypothesis\n",
    "# H0: mu >= 75\n",
    "# H1: mu < 75\n",
    "\n",
    "# calculate z statistics\n",
    "z_statistic = (sample_mean-popl_mean)/(std/np.sqrt(n))\n",
    "\n",
    "# calculate critical value \n",
    "#Since it is a one-tailed left-sided test, we use the z_alpha critical value.\n",
    "critical_value = norm.isf(alpha)\n",
    "\n",
    "# calculate p value\n",
    "p_value =  norm.cdf(z_statistic)\n",
    "\n",
    "# Print the results\n",
    "print(\"Test Statistic (z-score):\", z_statistic)\n",
    "print(\"Critical Value:\", critical_value)\n",
    "print(\"P-value:\", p_value)\n",
    "\n",
    "# Make a conclusion\n",
    "if abs(z_statistic) > critical_value:\n",
    "    print(\"z test is greater than critical value,  Reject the null hypothesis\")\n",
    "else:\n",
    "    print(\"z test is less than critical value, Accept the null hypothesis\")\n",
    "    \n",
    " # Compare p-value with the significance level\n",
    "if p_value < alpha:\n",
    "    print(\"Reject the null hypothesis.\")\n",
    "else:\n",
    "    print( \"fail to reject null hypothesis\")"
   ]
  },
  {
   "cell_type": "markdown",
   "id": "b163667c-4864-40ce-af4f-3fd43a64bb2c",
   "metadata": {},
   "source": [
    "### Example 4 : Two Tailed test"
   ]
  },
  {
   "cell_type": "markdown",
   "id": "81b71148-0721-42a3-a44f-1b8c5373dea8",
   "metadata": {},
   "source": [
    "A school claims that their students have an average IQ score higher than the general population. The population mean IQ score is known to be 100 with a standard deviation of 15. The school collects a sample of 50 students and calculates their average IQ score to be 105."
   ]
  },
  {
   "cell_type": "code",
   "execution_count": 1,
   "id": "3019eb57-7e8a-4d1e-807c-8790a1c62c2e",
   "metadata": {},
   "outputs": [
    {
     "name": "stdout",
     "output_type": "stream",
     "text": [
      "Test Statistic (z-score): 2.3570226039551585\n",
      "Critical Value: 1.9599639845400545\n",
      "P-value: 0.018422125454099048\n",
      "z test is greater than critical value,  Reject the null hypothesis\n",
      "Reject the null hypothesis.\n"
     ]
    }
   ],
   "source": [
    "import numpy as np\n",
    "from scipy.stats import norm\n",
    "\n",
    "#sample statistics\n",
    "n = 50\n",
    "popl_mean=100\n",
    "sample_mean= 105\n",
    "std=15\n",
    "alpha = 0.05\n",
    "\n",
    "# state hypothesis\n",
    "# H0: mu = 105\n",
    "# H1: mu =!105\n",
    "\n",
    "# calculate z statistics\n",
    "z_statistic = (sample_mean-popl_mean)/(std/np.sqrt(n))\n",
    "\n",
    "# calculate critical value \n",
    "#Since it is a two-tailed left-sided test, we use the z_alpha/2 critical value.\n",
    "critical_value = norm.isf(alpha/2)\n",
    "\n",
    "# calculate p value\n",
    "p_value =  2*(1-norm.cdf(abs(z_statistic)))\n",
    "\n",
    "# Print the results\n",
    "print(\"Test Statistic (z-score):\", z_statistic)\n",
    "print(\"Critical Value:\", critical_value)\n",
    "print(\"P-value:\", p_value)\n",
    "\n",
    "# Make a conclusion\n",
    "if abs(z_statistic) > critical_value:\n",
    "    print(\"z test is greater than critical value,  Reject the null hypothesis\")\n",
    "else:\n",
    "    print(\"z test is less than critical value, Accept the null hypothesis\")\n",
    "    \n",
    " # Compare p-value with the significance level\n",
    "if p_value < alpha:\n",
    "    print(\"Reject the null hypothesis.\")\n",
    "else:\n",
    "    print( \"fail to reject null hypothesis\")"
   ]
  },
  {
   "cell_type": "markdown",
   "id": "9ab67e7a-e2af-43b9-ab0f-8905393d456c",
   "metadata": {},
   "source": [
    "### Example 5: One sided right two sample test"
   ]
  },
  {
   "cell_type": "markdown",
   "id": "61604382-286d-44b4-b864-03d56c1e7154",
   "metadata": {},
   "source": [
    "We will test whether the average heights of two populations, A and B, suggest that population B has a greater average height than population A."
   ]
  },
  {
   "cell_type": "code",
   "execution_count": 7,
   "id": "e85a512e-6e9e-420b-a2c5-f79c88992f4f",
   "metadata": {},
   "outputs": [
    {
     "name": "stdout",
     "output_type": "stream",
     "text": [
      "Test Statistic (z-score): 4.689090266090898\n",
      "Critical Value: -0.6448536269514729\n",
      "P-value: 1.3721116206566464e-06\n",
      "z test is greater than critical value,  Reject the null hypothesis\n",
      "Reject the null hypothesis.\n"
     ]
    }
   ],
   "source": [
    "import numpy as np\n",
    "from scipy.stats import norm\n",
    "\n",
    "# Given data\n",
    "x1= 170\n",
    "x2 = 175\n",
    "sigma1 = 5\n",
    "sigma2 = 6\n",
    "n1 = 50\n",
    "n2 = 60\n",
    "\n",
    "# state hypothesis\n",
    "# H0: mu1 = mu2\n",
    "# H1: mu2 > mu1\n",
    "\n",
    "# Calculate the pooled standard deviation\n",
    "pooled_std = ((n1 - 1) * sigma1 ** 2 + (n2 - 1) * sigma2 ** 2) / (n1 + n2 - 2)\n",
    "pooled_std = np.sqrt(pooled_std)\n",
    "\n",
    "# Calculate the test statistic (z-score)\n",
    "z = (x2 - x1) / (pooled_std * np.sqrt(1 / n1 + 1 / n2))\n",
    "\n",
    "# calculate critical value \n",
    "#Since it is a one-tailed right-sided two sample test, we use the z_alpha critical value.\n",
    "critical_value = 1 - norm.isf(alpha)\n",
    "\n",
    "# Calculate the p-value for a one-sided right-tailed test\n",
    "p_value = 1 - norm.cdf(z)\n",
    "\n",
    "# Print the results\n",
    "print(\"Test Statistic (z-score):\", z)\n",
    "print(\"Critical Value:\", critical_value)\n",
    "print(\"P-value:\", p_value)\n",
    "\n",
    "# Make a conclusion\n",
    "if abs(z) > critical_value:\n",
    "    print(\"z test is greater than critical value,  Reject the null hypothesis\")\n",
    "else:\n",
    "    print(\"z test is less than critical value, Accept the null hypothesis\")\n",
    "    \n",
    " # Compare p-value with the significance level\n",
    "if p_value < alpha:\n",
    "    print(\"Reject the null hypothesis.\")\n",
    "else:\n",
    "    print( \"fail to reject null hypothesis\")"
   ]
  },
  {
   "cell_type": "markdown",
   "id": "2691d2ee-0cfa-4b34-96ae-e3c46f3742f0",
   "metadata": {},
   "source": [
    "### Example 6 : One sided left two sample test"
   ]
  },
  {
   "cell_type": "markdown",
   "id": "526ddaf1-6b89-4d6f-97f1-b7cb0536f93e",
   "metadata": {},
   "source": [
    "We will test whether the average heights of two populations, A and B, suggest that population B has a smaller average height than population A."
   ]
  },
  {
   "cell_type": "code",
   "execution_count": 21,
   "id": "8701268e-db01-4983-845f-3109d6b7d559",
   "metadata": {},
   "outputs": [
    {
     "name": "stdout",
     "output_type": "stream",
     "text": [
      "Test Statistic (z-score): -14.301938838683883\n",
      "Critical Value: 1.6448536269514729\n",
      "P-value: 1.0639866372752082e-46\n",
      "z test is greater than critical value,  Reject the null hypothesis\n",
      "Reject the null hypothesis.\n"
     ]
    }
   ],
   "source": [
    "import numpy as np\n",
    "from scipy.stats import norm\n",
    "import scipy.stats as stats \n",
    "# Given data\n",
    "x1= 175\n",
    "x2 = 160\n",
    "sigma1 = 5\n",
    "sigma2 = 6\n",
    "n1 = 50\n",
    "n2 = 60\n",
    "\n",
    "# state hypothesis\n",
    "# H0: mu1 = mu2 \n",
    "# H1: mu2 < mu1\n",
    "\n",
    "# Calculate the test statistic (z-score)\n",
    "z = ((x2- x1))/ np.sqrt((sigma1 ** 2 / n1) + (sigma2 ** 2 / n2))\n",
    "\n",
    "# calculate critical value \n",
    "#Since it is a one-tailed left-sided two sample test, we use the z_alpha critical value.\n",
    "critical_value = norm.isf(alpha)\n",
    "\n",
    "# Calculate the p-value for a one-sided right-tailed test\n",
    "p_value = stats.norm.cdf(z)\n",
    "\n",
    "# Print the results\n",
    "print(\"Test Statistic (z-score):\", z)\n",
    "print(\"Critical Value:\", critical_value)\n",
    "print(\"P-value:\", p_value)\n",
    "\n",
    "# Make a conclusion\n",
    "if abs(z) > critical_value:\n",
    "    print(\"z test is greater than critical value,  Reject the null hypothesis\")\n",
    "else:\n",
    "    print(\"z test is less than critical value, Accept the null hypothesis\")\n",
    "    \n",
    " # Compare p-value with the significance level\n",
    "if p_value < alpha:\n",
    "    print(\"Reject the null hypothesis.\")\n",
    "else:\n",
    "    print( \"fail to reject null hypothesis\")"
   ]
  },
  {
   "cell_type": "code",
   "execution_count": null,
   "id": "5c8f9bf9-8b60-4dec-9840-2a9f1d26ac23",
   "metadata": {},
   "outputs": [],
   "source": []
  },
  {
   "cell_type": "code",
   "execution_count": null,
   "id": "6cea3fcc-11f3-4984-913b-79aec4cbbe69",
   "metadata": {},
   "outputs": [],
   "source": []
  },
  {
   "cell_type": "markdown",
   "id": "dbf322cd-a1c2-4277-b94c-db9d36c3d020",
   "metadata": {},
   "source": [
    "# T Test"
   ]
  },
  {
   "cell_type": "markdown",
   "id": "4cd75a90-b4bf-4190-bbf1-3f336a7c96b5",
   "metadata": {},
   "source": [
    "1. Assume that population parameter follow normal distribution\n",
    "2. population standard deviation (σ) is unknown. \n",
    "3. sample sizes are small (typically, less than 30)\n",
    "4. (Homogeneity of Variance): The variances of the two populations being compared are assumed to be equal."
   ]
  },
  {
   "cell_type": "markdown",
   "id": "6d4c7529-db8a-48da-9214-ddd4f2bc2a61",
   "metadata": {},
   "source": [
    "### Example1:  right sided one sample  "
   ]
  },
  {
   "cell_type": "markdown",
   "id": "edd6c6e9-31c4-4cc0-993c-6ebc93bd992e",
   "metadata": {},
   "source": [
    "Problem Statement:\n",
    "A researcher wants to investigate whether a new teaching method improves student performance in a specific subject. The researcher selects a random sample of 30 students and provides them with the new teaching method. The average score of the sample is calculated to be 82. The researcher wants to determine if there is sufficient evidence to conclude that the new teaching method leads to a higher average score compared to the population mean score of 78."
   ]
  },
  {
   "cell_type": "code",
   "execution_count": 23,
   "id": "e982515c-6df8-42b3-b2d5-c8b177bfea66",
   "metadata": {},
   "outputs": [
    {
     "name": "stdout",
     "output_type": "stream",
     "text": [
      "Sample mean: 82\n",
      "Null hypothesis (population mean): 78\n",
      "Test statistic (t-score): 2.1908902300206643\n",
      "Critical value: 1.6991270265334977\n",
      "p-value: 0.018322341974252643\n",
      "Reject the null hypothesis\n",
      "There is sufficient evidence to conclude that the new teaching method leads to a higher average score.\n"
     ]
    }
   ],
   "source": [
    "import scipy.stats as stats\n",
    "import numpy as np\n",
    "\n",
    "# Given data\n",
    "sample_mean = 82  # Sample mean\n",
    "sample_size = 30  # Sample size\n",
    "sample_std = 10  # Sample standard deviation (assumed)\n",
    "\n",
    "#Null Hypothesis (H0):(µ <= 78)\n",
    "#Alternative Hypothesis (H1):(µ > 78)\n",
    "\n",
    "# Perform one-tailed right-sided t-test\n",
    "null_mean = 78  # Null hypothesis: true population mean <= 78\n",
    "\n",
    "# Calculate the standard error of the mean\n",
    "standard_error = sample_std / np.sqrt(sample_size)\n",
    "\n",
    "# Calculate the t-statistic\n",
    "t_statistic = (sample_mean - null_mean) / standard_error\n",
    "\n",
    "# Calculate the degrees of freedom\n",
    "df = sample_size - 1\n",
    "\n",
    "# Calculate the p-value\n",
    "p_value = 1 - stats.t.cdf(t_statistic, df)\n",
    "\n",
    "# Calculate the critical value for the given alpha level (significance level)\n",
    "alpha = 0.05\n",
    "critical_value = stats.t.isf(alpha, df)\n",
    "\n",
    "print(\"Sample mean:\", sample_mean)\n",
    "print(\"Null hypothesis (population mean):\", null_mean)\n",
    "print(\"Test statistic (t-score):\", t_statistic)\n",
    "print(\"Critical value:\", critical_value)\n",
    "print(\"p-value:\", p_value)\n",
    "\n",
    "if t_statistic > critical_value and p_value < alpha:\n",
    "    print(\"Reject the null hypothesis\")\n",
    "    print(\"There is sufficient evidence to conclude that the new teaching method leads to a higher average score.\")\n",
    "else:\n",
    "    print(\"Fail to reject the null hypothesis\")\n",
    "    print(\"There is not enough evidence to conclude that the new teaching method leads to a higher average score.\")\n"
   ]
  },
  {
   "cell_type": "code",
   "execution_count": null,
   "id": "8aef21d1-ca55-4515-afab-92ba8af8be75",
   "metadata": {},
   "outputs": [],
   "source": []
  },
  {
   "cell_type": "markdown",
   "id": "2e97e934-63a0-4756-bfaa-928bbd203412",
   "metadata": {},
   "source": [
    "### Example 2: left sided one sample"
   ]
  },
  {
   "cell_type": "code",
   "execution_count": 24,
   "id": "9f941b39-0a63-4603-83cd-49e1bd8bf10f",
   "metadata": {},
   "outputs": [
    {
     "name": "stdout",
     "output_type": "stream",
     "text": [
      "Sample mean: 78.5\n",
      "Null hypothesis (population mean): 80\n",
      "Test statistic (t-score): -1.1569308512811145\n",
      "Critical value: -1.6848751194973992\n",
      "p-value: 0.12716896741350125\n",
      "Fail to reject the null hypothesis\n",
      "There is not enough evidence to conclude that the new treatment has a lower effect.\n"
     ]
    }
   ],
   "source": [
    "import scipy.stats as stats\n",
    "import numpy as np\n",
    "\n",
    "# Given data\n",
    "sample_mean = 78.5  # Sample mean\n",
    "sample_size = 40  # Sample size\n",
    "sample_std = 8.2  # Sample standard deviation (assumed)\n",
    "\n",
    "# Perform one-tailed left-sided t-test\n",
    "null_mean = 80  # Null hypothesis: true population mean >= 80\n",
    "\n",
    "# Calculate the standard error of the mean\n",
    "standard_error = sample_std / np.sqrt(sample_size)\n",
    "\n",
    "# Calculate the t-statistic\n",
    "t_statistic = (sample_mean - null_mean) / standard_error\n",
    "\n",
    "# Calculate the degrees of freedom\n",
    "df = sample_size - 1\n",
    "\n",
    "# Calculate the p-value\n",
    "p_value = stats.t.cdf(t_statistic, df)\n",
    "\n",
    "# Calculate the critical value for the given alpha level (significance level)\n",
    "alpha = 0.05\n",
    "critical_value = stats.t.isf(1-alpha, df)\n",
    "\n",
    "print(\"Sample mean:\", sample_mean)\n",
    "print(\"Null hypothesis (population mean):\", null_mean)\n",
    "print(\"Test statistic (t-score):\", t_statistic)\n",
    "print(\"Critical value:\", critical_value)\n",
    "print(\"p-value:\", p_value)\n",
    "\n",
    "if t_statistic < critical_value and p_value < alpha:\n",
    "    print(\"Reject the null hypothesis\")\n",
    "    print(\"There is sufficient evidence to conclude that the new treatment has a lower effect.\")\n",
    "else:\n",
    "    print(\"Fail to reject the null hypothesis\")\n",
    "    print(\"There is not enough evidence to conclude that the new treatment has a lower effect.\")\n"
   ]
  },
  {
   "cell_type": "code",
   "execution_count": null,
   "id": "2409f337-6f2a-430e-895f-a0d6e6e95d44",
   "metadata": {},
   "outputs": [],
   "source": []
  },
  {
   "cell_type": "markdown",
   "id": "f9e5f7dd-557c-42e8-b0eb-1032ea2d55f3",
   "metadata": {},
   "source": [
    "### Example 3 : two tailed one sample test"
   ]
  },
  {
   "cell_type": "markdown",
   "id": "94f4072c-5222-4b5f-829f-5fcc58a5548b",
   "metadata": {},
   "source": [
    "A manufacturer claims that the average weight of their cereal boxes is 500 grams. To test this claim, a random sample of 40 cereal boxes is selected, and their weights are recorded. Perform a two-tailed one-sample t-test to determine if there is sufficient evidence to support the manufacturer's claim. Use a significance level of 0.05."
   ]
  },
  {
   "cell_type": "code",
   "execution_count": 26,
   "id": "a5298133-1ce7-443c-8eb2-9da10ddd926f",
   "metadata": {},
   "outputs": [
    {
     "name": "stdout",
     "output_type": "stream",
     "text": [
      "Sample mean: 492\n",
      "Null hypothesis (population mean): 500\n",
      "Test statistic (t-score): -4.216370213557839\n",
      "Critical values: -2.0226909117347285 , 2.0226909117347285\n",
      "p-value: 0.00014263327560937178\n",
      "Reject the null hypothesis\n",
      "There is sufficient evidence to conclude that the average weight of the cereal boxes is different from 500 grams.\n"
     ]
    }
   ],
   "source": [
    "import scipy.stats as stats\n",
    "import numpy as np\n",
    "\n",
    "# Given data\n",
    "sample_mean = 492  # Sample mean\n",
    "sample_size = 40  # Sample size\n",
    "sample_std = 12  # Sample standard deviation\n",
    "\n",
    "# Perform two-tailed one-sample t-test\n",
    "null_mean = 500  # Null hypothesis: true population mean = 500\n",
    "\n",
    "# Calculate the standard error of the mean\n",
    "standard_error = sample_std / np.sqrt(sample_size)\n",
    "\n",
    "# Calculate the t-statistic\n",
    "t_statistic = (sample_mean - null_mean) / standard_error\n",
    "\n",
    "# Calculate the degrees of freedom\n",
    "df = sample_size - 1\n",
    "\n",
    "# Calculate the p-value\n",
    "p_value = 2 * (1 - stats.t.cdf(abs(t_statistic), df))\n",
    "\n",
    "# Calculate the critical values for the given alpha level (significance level)\n",
    "alpha = 0.05\n",
    "critical_value_right = stats.t.isf(alpha / 2, df)\n",
    "critical_value_left = -critical_value_right\n",
    "\n",
    "print(\"Sample mean:\", sample_mean)\n",
    "print(\"Null hypothesis (population mean):\", null_mean)\n",
    "print(\"Test statistic (t-score):\", t_statistic)\n",
    "print(\"Critical values:\", critical_value_left, \",\", critical_value_right)\n",
    "print(\"p-value:\", p_value)\n",
    "\n",
    "if t_statistic > critical_value_right or t_statistic < critical_value_left:\n",
    "    print(\"Reject the null hypothesis\")\n",
    "    print(\"There is sufficient evidence to conclude that the average weight of the cereal boxes is different from 500 grams.\")\n",
    "else:\n",
    "    print(\"Fail to reject the null hypothesis\")\n",
    "    print(\"There is not enough evidence to conclude that the average weight of the cereal boxes is different from 500 grams.\")\n"
   ]
  },
  {
   "cell_type": "markdown",
   "id": "ad3699a6-964c-481e-8406-8a2a01108846",
   "metadata": {},
   "source": [
    "### Example 4: Two sample two tailed test"
   ]
  },
  {
   "cell_type": "markdown",
   "id": "3a19d9e9-369e-4d26-ad48-c3fa8368d477",
   "metadata": {},
   "source": [
    "Problem Statement:\n",
    "A researcher wants to compare the mean scores of two groups, Group A and Group B, on a standardized test. A random sample of 40 students is selected from each group, and their test scores are recorded. Perform a two-sample t-test to determine if there is a significant difference in the mean scores between Group A and Group B. Use a significance level of 0.05."
   ]
  },
  {
   "cell_type": "code",
   "execution_count": 2,
   "id": "b9f7f759-b8aa-49d9-84ec-8810ce3b4ae4",
   "metadata": {},
   "outputs": [
    {
     "name": "stdout",
     "output_type": "stream",
     "text": [
      "Test statistic (t-score): -3.2893382368672035\n",
      "Critical values: -1.9908470685550523 , 1.9908470685550523\n",
      "p-value: 0.001508523763473324\n",
      "Reject the null hypothesis\n",
      "There is sufficient evidence to conclude that there is a significant difference in the mean scores between Group A and Group B\n"
     ]
    }
   ],
   "source": [
    "import scipy.stats as stats\n",
    "import numpy as np\n",
    "\n",
    "n1 = 40\n",
    "x1bar = 75\n",
    "s1 = 8.5\n",
    "n2 = 40\n",
    "x2bar = 81\n",
    "s2 = 7.8\n",
    "\n",
    "#Null hypothesis (H₀): Mean score for Group A (µ₁) = Mean score for Group B (µ₂)\n",
    "#Alternative hypothesis (H₁): Mean score for Group A (µ₁) ≠ Mean score for Group B (µ₂)\n",
    "\n",
    "# Calculate the standard error of the mean\n",
    "standard_error =np.sqrt((s1**2/n1)+(s2**2/n2))\n",
    "\n",
    "# Calculate the t-statistic\n",
    "t_statistic = (x1bar-x2bar)/ standard_error\n",
    "\n",
    "# Calculate the degrees of freedom\n",
    "df = n1+n2-2\n",
    "\n",
    "# Calculate the p-value\n",
    "p_value = 2 * (1 - stats.t.cdf(abs(t_statistic), df))\n",
    "\n",
    "# Calculate the critical values for the given alpha level (significance level)\n",
    "alpha = 0.05\n",
    "critical_value_right = stats.t.isf(alpha / 2, df)\n",
    "critical_value_left = -critical_value_right\n",
    "\n",
    "print(\"Test statistic (t-score):\", t_statistic)\n",
    "print(\"Critical values:\", critical_value_left, \",\", critical_value_right)\n",
    "print(\"p-value:\", p_value)\n",
    "\n",
    "if t_statistic > critical_value_right or t_statistic < critical_value_left:\n",
    "    print(\"Reject the null hypothesis\")\n",
    "    print(\"There is sufficient evidence to conclude that there is a significant difference in the mean scores between Group A and Group B\")\n",
    "else:\n",
    "    print(\"Fail to reject the null hypothesis\")\n",
    "    print(\"There is not enough evidence to conclude that there is a significant difference in the mean scores between Group A and Group B.\")\n",
    "\n",
    "\n"
   ]
  },
  {
   "cell_type": "code",
   "execution_count": null,
   "id": "d583fd41-4b24-4c12-b3bd-47c6d63d0da7",
   "metadata": {},
   "outputs": [],
   "source": []
  }
 ],
 "metadata": {
  "kernelspec": {
   "display_name": "Python 3 (ipykernel)",
   "language": "python",
   "name": "python3"
  },
  "language_info": {
   "codemirror_mode": {
    "name": "ipython",
    "version": 3
   },
   "file_extension": ".py",
   "mimetype": "text/x-python",
   "name": "python",
   "nbconvert_exporter": "python",
   "pygments_lexer": "ipython3",
   "version": "3.10.8"
  }
 },
 "nbformat": 4,
 "nbformat_minor": 5
}
