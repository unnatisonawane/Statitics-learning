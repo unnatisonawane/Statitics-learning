{
 "cells": [
  {
   "cell_type": "markdown",
   "id": "368d3015-3c6b-442b-bbd8-b564fa92c642",
   "metadata": {},
   "source": [
    "## Q1. What are the three measures of central tendency?\n",
    "\n",
    "    Mean, Median, Mode"
   ]
  },
  {
   "cell_type": "markdown",
   "id": "796c2879-c377-42d9-a3d3-ed9bf9313794",
   "metadata": {},
   "source": [
    "## Q2. What is the difference between the mean, median, and mode? How are they used to measure the central tendency of a dataset?"
   ]
  },
  {
   "cell_type": "markdown",
   "id": "50551b5e-1551-4e0e-aba7-20f93f8f1366",
   "metadata": {},
   "source": [
    "The mean, median, and mode are measures of central tendency used to describe the central or typical value of a dataset.\n",
    "\n",
    "Mean:\n",
    "1. The mean, also known as the average, is calculated by summing up all the values in a dataset and dividing by the total number of observations.\n",
    "2. Calculation: Mean = (Sum of all values) / (Total number of observations)\n",
    "3. It is commonly used when the dataset follows a roughly symmetrical distribution and there are no extreme outliers.\n",
    "\n",
    "Median:\n",
    "1. The median is the middle value in a dataset when the observations are arranged in ascending or descending order.\n",
    "2. Calculation: For an odd number of observations, the median is the middle value. For an even number of observations, the median is the average of the two middle values.\n",
    "3. The median is often used when the data contains outliers or is skewed. It is less sensitive to extreme values compared to the mean. The median represents the value below which 50% of the observations fall.\n",
    "\n",
    "Mode:\n",
    "1. The mode is the value(s) that appear most frequently in a dataset.\n",
    "2. The mode is determined by identifying the value(s) with the highest frequency.\n",
    "3. The mode is useful for categorical data or when identifying the most common response or occurrence in a dataset. It can be used for both discrete and continuous variables."
   ]
  },
  {
   "cell_type": "markdown",
   "id": "7957d2e8-87d0-4bcb-8ccf-4ec0c9d84aa5",
   "metadata": {},
   "source": [
    "## Q3. Measure the three measures of central tendency for the given height data:\n",
    "[178,177,176,177,178.2,178,175,179,180,175,178.9,176.2,177,172.5,178,176.5]"
   ]
  },
  {
   "cell_type": "markdown",
   "id": "1fae6639-7b78-4ed2-b660-b4a424077f63",
   "metadata": {},
   "source": [
    "1. Sum of all values = 2832.3\n",
    "\n",
    "    Total number of observations = 16\n",
    "    \n",
    "    Mean = 2832.3/16 \n",
    "    Mean = 177.01875\n",
    "\n",
    "2. Median = As the dataset contains 16 observations, the middle value is the eighth value, which is 177.\n",
    "\n",
    "   median = 177\n",
    "\n",
    "3. Mode = the value with the highest frequency as the mode, the value 178 occurs three times\n",
    "\n",
    "   Mode = 178"
   ]
  },
  {
   "cell_type": "markdown",
   "id": "6a7614fc-2422-4db8-b37e-171b6450f3dd",
   "metadata": {},
   "source": [
    "## Q4. Find the standard deviation for the given data:\n",
    "[178,177,176,177,178.2,178,175,179,180,175,178.9,176.2,177,172.5,178,176.5]"
   ]
  },
  {
   "cell_type": "code",
   "execution_count": 1,
   "id": "82cf580c-b655-4f67-b643-82fd4c2d9fa4",
   "metadata": {},
   "outputs": [
    {
     "name": "stdout",
     "output_type": "stream",
     "text": [
      "Mean: 177.01875\n",
      "Median: 177.0\n",
      "Mode: 178\n",
      "Standard Deviation: 1.8472389305844188\n"
     ]
    }
   ],
   "source": [
    "import statistics\n",
    "\n",
    "data = [178, 177, 176, 177, 178.2, 178, 175, 179, 180, 175, 178.9, 176.2, 177, 172.5, 178, 176.5]\n",
    "\n",
    "# Calculate mean\n",
    "mean = statistics.mean(data)\n",
    "\n",
    "# Calculate median\n",
    "median = statistics.median(data)\n",
    "\n",
    "# Calculate mode\n",
    "mode = statistics.mode(data)\n",
    "\n",
    "# Calculate standard deviation\n",
    "std_dev = statistics.stdev(data)\n",
    "\n",
    "print(\"Mean:\", mean)\n",
    "print(\"Median:\", median)\n",
    "print(\"Mode:\", mode)\n",
    "print(\"Standard Deviation:\", std_dev)"
   ]
  },
  {
   "cell_type": "markdown",
   "id": "59cd5abf-38a8-4057-8986-eae5611b5d02",
   "metadata": {},
   "source": [
    "## Q5. How are measures of dispersion such as range, variance, and standard deviation used to describe the spread of a dataset? Provide an example."
   ]
  },
  {
   "cell_type": "markdown",
   "id": "b4dca73d-b9c4-49ae-b7cd-f48ca77a17a6",
   "metadata": {},
   "source": [
    "1. Measures of dispersion help to describe the variability in data. \n",
    "2. As the variability of the data increases the value of the measures of dispersion also increases.\n",
    "3. Measures of dispersion include range, variance, standard deviation, mean deviation, quartile deviation, etc.\n",
    "\n",
    "Range:\n",
    "1. Range is the easiest measure of dispersion calculated by subtracting lowest value from maximum value.\n",
    "2. The wide range indicates high variability and small range indicates low varibalilty in the distribution.\n",
    "3. Rangeis very much affected by outliers.\n",
    "\n",
    "Variance:\n",
    "1. Variance indicates how far any number in a dataset from the mean.\n",
    "2. Observations near to mean value get lowest result and far from mean gets higher value.\n",
    "3. It is calculated by taking the average of the squared differences between each data point and the mean.\n",
    "\n",
    "Standard deviation:\n",
    "1. Standard deviation is square root of variance to get original value.\n",
    "2. Low standard deviation indicates data point close to mean."
   ]
  },
  {
   "cell_type": "code",
   "execution_count": 3,
   "id": "628e5fbe-7311-43a2-abb7-b9b2625c9460",
   "metadata": {},
   "outputs": [
    {
     "name": "stdout",
     "output_type": "stream",
     "text": [
      "Range: 8\n",
      "Variance: 6.888888888888889\n",
      "Standard Deviation: 2.6246692913372702\n"
     ]
    }
   ],
   "source": [
    "# example\n",
    "data=[10,12,4,5,8,9,6,11,10]\n",
    "\n",
    "data_range=max(data)-min(data)\n",
    "\n",
    "mean = sum(data) / len(data)\n",
    "variance = sum((x - mean) ** 2 for x in data) / len(data)\n",
    "\n",
    "# Standard Deviation\n",
    "std_deviation = variance **0.5\n",
    "\n",
    "# Print the results\n",
    "print(\"Range:\", data_range)\n",
    "print(\"Variance:\", variance)\n",
    "print(\"Standard Deviation:\", std_deviation)\n",
    "\n",
    "# The range provides a simple measure of the total spread,\n",
    "# while the variance and standard deviation provide more precise information\n",
    "# about the dispersion and variability in the dataset."
   ]
  },
  {
   "cell_type": "markdown",
   "id": "cd33528f-f2c1-4a57-a3a8-dec81f6dc671",
   "metadata": {},
   "source": [
    "## Q6. What is a Venn diagram?"
   ]
  },
  {
   "cell_type": "markdown",
   "id": "1e9a87d3-7007-4237-9ac0-0a89caad0e55",
   "metadata": {},
   "source": [
    "Venn diagrams are commonly used to illustrate concepts related to set theory, logic, and statistics. They provide a clear and intuitive way to visualize the intersections and differences between different groups or categories of items."
   ]
  },
  {
   "cell_type": "markdown",
   "id": "dc95ee55-cdcd-4c2a-9773-b90f0cfc2dcb",
   "metadata": {},
   "source": [
    "## Q7. For the two given sets A = (2,3,4,5,6,7) & B = (0,2,6,8,10). Find:\n",
    "(i) A B\n",
    "(ii) A ⋃ B"
   ]
  },
  {
   "cell_type": "code",
   "execution_count": 4,
   "id": "562fc9ab-13f0-48f6-b517-3dc9db1af3df",
   "metadata": {},
   "outputs": [
    {
     "name": "stdout",
     "output_type": "stream",
     "text": [
      "Intersection (A ∩ B): {2, 6}\n",
      "Union (A ⋃ B): {0, 2, 3, 4, 5, 6, 7, 8, 10}\n"
     ]
    }
   ],
   "source": [
    "A = {2, 3, 4, 5, 6, 7}\n",
    "B = {0, 2, 6, 8, 10}\n",
    "\n",
    "# Intersection of A and B\n",
    "intersection = A.intersection(B)\n",
    "\n",
    "# Union of A and B\n",
    "union = A.union(B)\n",
    "\n",
    "# Print the results\n",
    "print(\"Intersection (A ∩ B):\", intersection)\n",
    "print(\"Union (A ⋃ B):\", union)"
   ]
  },
  {
   "cell_type": "markdown",
   "id": "19c484e5-250a-444e-84db-4cc8bcd1855d",
   "metadata": {},
   "source": [
    "## Q8. What do you understand about skewness in data?"
   ]
  },
  {
   "cell_type": "markdown",
   "id": "351da36f-ef8c-473a-aded-5a9c65b137b5",
   "metadata": {},
   "source": [
    "1. Skewness is a statistical measure that helps us understand the lack of symmetry in the distribution of data.\n",
    "2. It provides information about the shape of the distribution and the relative concentration of data points around the mean.\n",
    "3. In symmetric distribution data points are evenly distributed around mean.\n",
    "4. In skewed distribution data points tend to cluster more towards one tail of distribution.\n",
    "5. skewness is classified into three categories - symmetric, positively and negatively skewed.\n",
    "6. symmetric skewness - the data is symmetrically distributed around the mean, and relationship of mean, mode, median is equal\n",
    "7. positive skewness - the tail on the right side of the distribution is longer or stretched out. The mean is typically greater than the median, and the majority of the data points are concentrated towards the lower values.\n",
    "8. negative skewness - the tail on the left side of the distribution is longer or stretched out. The mean is typically less than the median, and the majority of the data points are concentrated towards the higher values."
   ]
  },
  {
   "cell_type": "markdown",
   "id": "e9098488-e086-4033-ae87-dd3e4f198ca6",
   "metadata": {},
   "source": [
    "## Q9. If a data is right skewed then what will be the position of median with respect to mean?"
   ]
  },
  {
   "cell_type": "markdown",
   "id": "6ab51af2-8aa0-45af-9146-ddb8a54fd923",
   "metadata": {},
   "source": [
    "If a data distribution is right-skewed (positively skewed), the position of the median with respect to the mean will be to the left of the mean."
   ]
  },
  {
   "cell_type": "markdown",
   "id": "beb9345a-6ee4-4fa2-b6ba-3549feab6622",
   "metadata": {},
   "source": [
    "## Q10. Explain the difference between covariance and correlation. How are these measures used in statistical analysis?"
   ]
  },
  {
   "cell_type": "markdown",
   "id": "d8646f47-0ec2-4748-8b31-7426635e25f0",
   "metadata": {},
   "source": [
    "Covariance and correlation are both measures used in statistical analysis to understand the relationship between two variables.\n",
    "\n",
    "covariance :\n",
    "1. Covariance measures the extent to which two variables vary together.\n",
    "2. It quantifies the direction and strength of the linear relationship between two variables.\n",
    "3. The covariance can be positive, indicating a positive relationship where both variables increase or decrease together, or negative, indicating an inverse relationship where one variable increases while the other decreases. \n",
    "\n",
    "correlation :\n",
    "1. Correlation, on the other hand, measures both the direction and strength of the linear relationship between two variables. 2. It provides a standardized measure of the relationship that ranges from -1 to 1. \n",
    "3. A correlation of 1 indicates a perfect positive linear relationship, a correlation of -1 indicates a perfect negative linear relationship, and a correlation of 0 indicates no linear relationship. \n",
    "4. Correlation is unaffected by changes in scale or units of measurement, making it easier to compare and interpret.\n",
    "\n",
    "Used :\n",
    "1. Covariance and correlation can help in variable selection in regression analysis or other modeling techniques.\n",
    "2. Covariance and correlation can be used to explore relationships in datasets, identify patterns, and gain insights into the data."
   ]
  },
  {
   "cell_type": "markdown",
   "id": "3d62895f-6b6a-4baa-9997-90e1ac187e52",
   "metadata": {},
   "source": [
    "## Q11. What is the formula for calculating the sample mean? Provide an example calculation for a dataset."
   ]
  },
  {
   "cell_type": "markdown",
   "id": "34274e2b-48f6-4f4e-8e30-fd4119df91fe",
   "metadata": {},
   "source": [
    "Formula for sample mean: Sample Mean (x̄) = (Sum of all values in the dataset) / (Number of values in the dataset)"
   ]
  },
  {
   "cell_type": "code",
   "execution_count": 2,
   "id": "3aa54ff5-18a6-4e8a-9fe5-fafa9ed43e50",
   "metadata": {},
   "outputs": [
    {
     "name": "stdout",
     "output_type": "stream",
     "text": [
      "Sum of all values in the dataset: 163\n",
      "Number of values in the dataset: 9\n",
      "sample mean: 18.11111111111111\n"
     ]
    }
   ],
   "source": [
    "data = [10,22,11,25,15,26,16,18,20]\n",
    "\n",
    "sum_num=sum(data)\n",
    "\n",
    "den = len(data)\n",
    "\n",
    "sample_mean= sum_num/den\n",
    "\n",
    "print(\"Sum of all values in the dataset:\",sum_num)\n",
    "print(\"Number of values in the dataset:\",den)\n",
    "print(\"sample mean:\",sample_mean)"
   ]
  },
  {
   "cell_type": "markdown",
   "id": "a2500af8-1c7f-4ae3-bfd9-76513b75d81a",
   "metadata": {},
   "source": [
    "## Q12. For a normal distribution data what is the relationship between its measure of central tendency?"
   ]
  },
  {
   "cell_type": "markdown",
   "id": "d4da1ed9-165c-42e4-b8fb-449e5514bdbe",
   "metadata": {},
   "source": [
    "1. The mean, median, and mode are all located at the center of the distribution.\n",
    "2. The mean is equal to the median and mode in a symmetrical normal distribution.\n",
    "3. The mean is the most commonly used measure of central tendency in a normal distribution."
   ]
  },
  {
   "cell_type": "markdown",
   "id": "af94c0ff-3d09-46eb-8788-57ae0d5c3f3e",
   "metadata": {},
   "source": [
    "## Q13. How is covariance different from correlation?"
   ]
  },
  {
   "cell_type": "markdown",
   "id": "9c8a1c70-80ef-4ec4-b2c8-b15e328410aa",
   "metadata": {},
   "source": [
    "1. Covariance is primarily used to determine the presence and direction of a relationship between variables. However, it is not suitable for comparing the strength of relationships between different pairs of variables.\n",
    "2. Correlation is widely used to assess the strength and direction of linear relationships between variables. It is particularly useful in comparing relationships and identifying the most influential factors in statistical analysis."
   ]
  },
  {
   "cell_type": "markdown",
   "id": "2fe0b739-0dbb-4cca-ac97-3e3deda16e15",
   "metadata": {},
   "source": [
    "## Q14. How do outliers affect measures of central tendency and dispersion? Provide an example."
   ]
  },
  {
   "cell_type": "markdown",
   "id": "08e7d3af-df30-4bf0-97c6-e088ba7596ba",
   "metadata": {},
   "source": [
    "1. Outliers can have a significant impact on measures of central tendency and dispersion in a dataset.\n",
    "2. Mean is sensitive to outliers, median and mode are less afected by outliers.\n",
    "3. Range is greatly influenced by outlier as it consider minimum and maximum value.\n",
    "4. variance and SD also sensitive to outliers"
   ]
  },
  {
   "cell_type": "code",
   "execution_count": 7,
   "id": "b87ed44c-3577-41d9-9f24-1f4412723056",
   "metadata": {},
   "outputs": [
    {
     "name": "stdout",
     "output_type": "stream",
     "text": [
      "Mean: 35.36363636363637\n",
      "Median: 20.0\n",
      "Mode: ModeResult(mode=array([10]), count=array([2]))\n",
      "Range: 190\n",
      "Variance: 2749.685950413223\n",
      "Standard Deviation: 52.43744797769265\n"
     ]
    },
    {
     "name": "stderr",
     "output_type": "stream",
     "text": [
      "/tmp/ipykernel_70/1946096388.py:15: FutureWarning: Unlike other reduction functions (e.g. `skew`, `kurtosis`), the default behavior of `mode` typically preserves the axis it acts along. In SciPy 1.11.0, this behavior will change: the default value of `keepdims` will become False, the `axis` over which the statistic is taken will be eliminated, and the value None will no longer be accepted. Set `keepdims` to True or False to avoid this warning.\n",
      "  mode = stats.mode(data)\n"
     ]
    }
   ],
   "source": [
    "# example \n",
    "import numpy as np\n",
    "from scipy import stats\n",
    "\n",
    "# Dataset with an outlier\n",
    "data=[10,20,15,10,25,30,26,18,13,22,200]\n",
    "\n",
    "# Calculate mean\n",
    "mean = np.mean(data)\n",
    "\n",
    "# Calculate median\n",
    "median = np.median(data)\n",
    "\n",
    "# Calculate mode\n",
    "mode = stats.mode(data)\n",
    "\n",
    "# Calculate range\n",
    "range_val = np.max(data) - np.min(data)\n",
    "\n",
    "# Calculate variance\n",
    "variance = np.var(data)\n",
    "\n",
    "# Calculate standard deviation\n",
    "std_dev = np.std(data)\n",
    "\n",
    "# Output the results\n",
    "print(\"Mean:\", mean)\n",
    "print(\"Median:\", median)\n",
    "print(\"Mode:\", mode)\n",
    "print(\"Range:\", range_val)\n",
    "print(\"Variance:\", variance)\n",
    "print(\"Standard Deviation:\", std_dev)\n"
   ]
  },
  {
   "cell_type": "markdown",
   "id": "cbd19f3c-6b54-4c98-a24c-dd4f84a69a13",
   "metadata": {},
   "source": [
    "1. mean value of 35.36, which is higher than the majority of the values in the dataset. \n",
    "2. the median remains unaffected at 20, providing a more robust measure of central tendency.\n",
    "3. the range is greatly influenced by the outlier, resulting in a range of 190. \n",
    "4. the variance and standard deviation is also impacted by the outlier, yielding a higher value ,indicating a greater spread of values."
   ]
  },
  {
   "cell_type": "code",
   "execution_count": null,
   "id": "7d89e1ed-5540-43b8-8e55-a31b2905720a",
   "metadata": {},
   "outputs": [],
   "source": []
  }
 ],
 "metadata": {
  "kernelspec": {
   "display_name": "Python 3 (ipykernel)",
   "language": "python",
   "name": "python3"
  },
  "language_info": {
   "codemirror_mode": {
    "name": "ipython",
    "version": 3
   },
   "file_extension": ".py",
   "mimetype": "text/x-python",
   "name": "python",
   "nbconvert_exporter": "python",
   "pygments_lexer": "ipython3",
   "version": "3.10.8"
  }
 },
 "nbformat": 4,
 "nbformat_minor": 5
}
