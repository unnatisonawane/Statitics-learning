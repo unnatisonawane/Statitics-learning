{
 "cells": [
  {
   "cell_type": "markdown",
   "id": "1cff10f2-d875-4515-bfa0-8d728dae2530",
   "metadata": {},
   "source": [
    "## Q1: What are the Probability Mass Function (PMF) and Probability Density Function (PDF)? Explain with an example."
   ]
  },
  {
   "cell_type": "markdown",
   "id": "e11bfb2e-0b6b-49ec-a418-4a4c30f6ca82",
   "metadata": {},
   "source": [
    "PMF:\n",
    "1. The probability for each possible value x must be between 0 and 1: 0 ≤ P(X = x) ≤ 1.\n",
    "2. The sum of probabilities for all possible values must equal 1: Σ P(X = x) = 1, where the sum is taken over all possible values of X.\n",
    "\n",
    "PDF:\n",
    "1. The value of the PDF for any specific value of x is non-negative: f(x) ≥ 0.\n",
    "2. The total area under the PDF curve over the entire range of possible values is equal to 1: ∫ f(x) dx = 1, where the integral is taken over the entire range of X.\n",
    "3. used to describe the shape and characteristics of continuous probability distributions\n",
    "4. It allows us to calculate probabilities of events, determine the likelihood of observing a specific range of values"
   ]
  },
  {
   "cell_type": "code",
   "execution_count": 2,
   "id": "a75ec988-5e71-47be-8206-4f28a5152e05",
   "metadata": {},
   "outputs": [
    {
     "name": "stdout",
     "output_type": "stream",
     "text": [
      "pmf value at k= 5 is 0.24609375000000003\n"
     ]
    }
   ],
   "source": [
    "# example of pmf\n",
    "from scipy.stats import binom\n",
    "\n",
    "#Define the parameters of binomial distribution\n",
    "n= 10 #no. of trails\n",
    "p= 0.5 #probability of success\n",
    "\n",
    "#caculate pmf a specific point\n",
    "k=5 # no. od successes\n",
    "\n",
    "pmf_binom=binom.pmf(k,n,p)\n",
    "print('pmf value at k=',k,'is',pmf_binom)"
   ]
  },
  {
   "cell_type": "code",
   "execution_count": 3,
   "id": "35c0cb94-873f-4e45-86ec-293d8bafd51c",
   "metadata": {},
   "outputs": [
    {
     "name": "stdout",
     "output_type": "stream",
     "text": [
      "pdf value at x= 1.5 is 0.15641707759018236\n"
     ]
    }
   ],
   "source": [
    "# example of pdf\n",
    "from scipy.stats import norm\n",
    "\n",
    "#define parameter of normal distribution\n",
    "mu=2\n",
    "std=2.5\n",
    "\n",
    "#calculate pdf at specific point\n",
    "x=1.5\n",
    "\n",
    "pdf_norm=norm.pdf(x,mu,std)\n",
    "print('pdf value at x=',x,'is',pdf_norm)"
   ]
  },
  {
   "cell_type": "markdown",
   "id": "777f92f7-f7d8-49cb-8156-f56fdf77870b",
   "metadata": {},
   "source": [
    "## Q2: What is Cumulative Density Function (CDF)? Explain with an example. Why CDF is used?"
   ]
  },
  {
   "cell_type": "markdown",
   "id": "0f0c3f3a-2e83-4901-9c91-3e71fd6f613c",
   "metadata": {},
   "source": [
    "The CDF function F(x) gives the probability that the random variable X is less than or equal to x.\n",
    "1. The CDF allows us to calculate probabilities associated with random variables. \n",
    "2. The CDF enables us to find percentiles and quantiles of a distribution.\n",
    "3.  CDF plays a role in hypothesis testing by allowing us to calculate p-values"
   ]
  },
  {
   "cell_type": "code",
   "execution_count": 4,
   "id": "07641ff2-22b1-46c3-bf20-a93d0f17234d",
   "metadata": {},
   "outputs": [
    {
     "name": "stdout",
     "output_type": "stream",
     "text": [
      "CDF at x = 170 : 0.8413447460685429\n"
     ]
    }
   ],
   "source": [
    "# example of cdf\n",
    "# Let X representing the height of individuals in a population\n",
    "# We calculate the probability of X being less than or equal to 170 cm \n",
    "\n",
    "import scipy.stats as stats\n",
    "\n",
    "# Define the random variable distribution\n",
    "rv = stats.norm(loc=160, scale=10)  # Normal distribution with mean 160 and standard deviation 10\n",
    "\n",
    "# Define the value for which we want to calculate the CDF\n",
    "x = 170\n",
    "\n",
    "# Calculate the CDF\n",
    "cdf = rv.cdf(x)\n",
    "\n",
    "# Print the result\n",
    "print(\"CDF at x =\", x, \":\", cdf)"
   ]
  },
  {
   "cell_type": "markdown",
   "id": "29129856-b30c-4afe-8d48-3827ea80983a",
   "metadata": {},
   "source": [
    "This means that the CDF at 170 cm is 0.84, indicating that there is an 84% chance of randomly selecting an individual with a height less than or equal to 170 cm."
   ]
  },
  {
   "cell_type": "markdown",
   "id": "8dec8236-6cf5-4453-b8b2-b1e5fdb13713",
   "metadata": {},
   "source": [
    "## Q3: What are some examples of situations where the normal distribution might be used as a model? Explain how the parameters of the normal distribution relate to the shape of the distribution."
   ]
  },
  {
   "cell_type": "markdown",
   "id": "255320dc-e2ee-49cc-a08d-e3472686e9c5",
   "metadata": {},
   "source": [
    "The normal distribution, also known as the Gaussian distribution or bell curve, is widely used as a model in various fields\n",
    "such as Height and Weight, Test scores, Measurements error, Financial markets, etc.\n",
    "\n",
    "The parameters of the normal distribution determine its shape.\n",
    "1.  The mean determines the location of the peak of the distribution.\n",
    "2.  The standard deviation controls the width of the distribution.\n",
    "3. A smaller standard deviation resulting in a narrower distribution. Conversely, a larger standard deviation leads to a wider distribution with more spread-out data points.\n",
    "4. By manipulating the mean and standard deviation, the shape of the normal distribution can be adjusted.\n",
    "5. Shifting the mean to the left or right changes the location of the peak, while changing the standard deviation alters the spread of the distribution.\n"
   ]
  },
  {
   "cell_type": "markdown",
   "id": "62b18331-b054-4b84-a907-fa0660adba20",
   "metadata": {},
   "source": [
    "## Q4: Explain the importance of Normal Distribution. Give a few real-life examples of Normal Distribution."
   ]
  },
  {
   "cell_type": "markdown",
   "id": "db03ec92-c1d3-48af-9482-b78d07bef3b5",
   "metadata": {},
   "source": [
    "Importance:\n",
    "1. Central Limit Theorem: The normal distribution is central to the Central Limit Theorem (CLT), which states that the average of a large number of i.i.d. random variables tends to follow a normal distribution, regardless of the underlying distribution.\n",
    "2. Many natural processes and human characteristics tend to exhibit a bell-shaped distribution, which can be well described by the normal distribution. Examples include heights and weights of individuals, IQ scores, errors in measurements, and stock market returns.\n",
    "3. Many statistical techniques and tests are based on the assumption of normality.\n",
    "\n",
    "Examples:\n",
    "1. IQ Scores: Intelligence quotient (IQ) scores are often distributed approximately normally, with a mean of 100 and a standard deviation of 15.\n",
    "\n",
    "2. Heights of Adults: In a population, the heights of adult males or females tend to follow a roughly normal distribution.\n",
    "\n",
    "3. Test Scores: In educational assessments, test scores often approximate a normal distribution.\n",
    "\n",
    "4. Errors in Measurements: Measurement errors in various fields, such as scientific experiments, industrial processes, or quality control, are often assumed to be normally distributed.\n",
    "\n",
    "5. Financial Returns: Price changes or returns in financial markets, such as stock market returns, are frequently modeled using the normal distribution or variations of it."
   ]
  },
  {
   "cell_type": "markdown",
   "id": "a6782d97-11ef-4a1f-913f-ab0f5edf0a11",
   "metadata": {},
   "source": [
    "## Q5: What is Bernaulli Distribution? Give an Example. What is the difference between Bernoulli Distribution and Binomial Distribution?"
   ]
  },
  {
   "cell_type": "markdown",
   "id": "3c9b8a11-6584-4bf4-bc9c-c4af9b3c7de3",
   "metadata": {},
   "source": [
    "Bernoulli Distribution:\n",
    "1. models a random experiment with two possible outcomes: success (usually denoted as 1) or failure (usually denoted as 0).\n",
    "2. PMF is given by:\n",
    "\n",
    "   P(X = k) = p^k * (1 - p)^(1 - k)\n",
    "   where X is the random variable, k is the outcome (0 or 1), and p is the probability of success.\n",
    "   Example: Tossing a fair coin. Assume P(H) = 0.5 and P(T) = 0.5\n",
    "   \n",
    "Difference:\n",
    "1. Bernoulli distribution models a single trial with two possible outcomes: success or failure.\n",
    "2. Binomial distribution models the number of successes in a fixed number of independent Bernoulli trials.\n",
    "    \n",
    "\n"
   ]
  },
  {
   "cell_type": "markdown",
   "id": "fb16371d-2dc5-4802-b8d7-36c98b853433",
   "metadata": {},
   "source": [
    "## Q6. Consider a dataset with a mean of 50 and a standard deviation of 10. If we assume that the dataset is normally distributed, what is the probability that a randomly selected observation will be greater than 60? Use the appropriate formula and show your calculations."
   ]
  },
  {
   "cell_type": "markdown",
   "id": "9aaab2ff-b1e9-42bd-9c32-da3bd710f0bd",
   "metadata": {},
   "source": [
    "Given dataset with a mean of 50 and a standard deviation of 10.\n",
    "Let's calculate the z-score:\n",
    "z = (60 - 50) / 10 = 1\n",
    "Using a standard normal distribution table, we find that the probability corresponding to a z-score of 1 is approximately 0.8413.\n",
    "therefore, the probability that a randomly selected observation from the dataset will be greater than 60 is approximately (1-0.8413 =0.1587) or 15.87%."
   ]
  },
  {
   "cell_type": "code",
   "execution_count": 3,
   "id": "3c72c6d6-cd33-46c8-a3a9-d24ce5b4ad8e",
   "metadata": {},
   "outputs": [
    {
     "name": "stdout",
     "output_type": "stream",
     "text": [
      "Probability: 0.15865525393145707\n"
     ]
    }
   ],
   "source": [
    "import scipy.stats as stats\n",
    "\n",
    "mean = 50\n",
    "std_dev = 10\n",
    "value = 60\n",
    "\n",
    "# Calculate the z-score\n",
    "z = (value - mean) / std_dev\n",
    "\n",
    "# Calculate the probability using the survival function (1 - cumulative distribution function)\n",
    "probability = 1 - stats.norm.cdf(z)\n",
    "\n",
    "print(\"Probability:\", probability)"
   ]
  },
  {
   "cell_type": "markdown",
   "id": "b2a6fc91-b274-478e-93ff-d6e04e02ffb2",
   "metadata": {},
   "source": [
    "## Q7: Explain uniform Distribution with an example."
   ]
  },
  {
   "cell_type": "markdown",
   "id": "29092d05-0b99-44ec-ab44-a3db9c6e6649",
   "metadata": {},
   "source": [
    "1. The uniform distribution is a continuous probability distribution where all outcomes within a given range are equally likely.\n",
    "2. The probability density function (PDF) of the uniform distribution is constant within the range and zero outside the range.\n",
    "3. The probability density function (PDF) of the uniform distribution is given by:\n",
    "   f(x) = 1 / (b - a)\n",
    "   where 'a' and 'b' are the lower and upper bounds of the range, respectively.\n",
    "4. Graphically, the PDF  appears as a constant horizontal line within the defined range [a, b] and zero outside this range.\n",
    "\n",
    "Example:\n",
    "let's consider a uniform distribution over the range [0, 10]. In this case, the PDF is:\n",
    "\n",
    "f(x) = 1 / (10 - 0) = 1/10\n",
    "\n",
    "This means that any value within the range [0, 10] has a probability density of 1/10."
   ]
  },
  {
   "cell_type": "markdown",
   "id": "000e8d01-33fa-4ce0-9ce1-09d97b639247",
   "metadata": {},
   "source": [
    "## Q8: What is the z score? State the importance of the z score."
   ]
  },
  {
   "cell_type": "markdown",
   "id": "c8f60bc4-5112-4ddf-8eec-fd6f156d4302",
   "metadata": {},
   "source": [
    "1. The z-score, also known as the standard score, represents the number of standard deviations an observation or data point is away from the mean of a distribution.\n",
    "2. The formula to calculate the z-score is:\n",
    "z = (x - μ) / σ\n",
    "where z is the z-score, x is the value, μ is the mean of the distribution, and σ is the standard deviation of the distribution.\n",
    "\n",
    "Importance:\n",
    "1. Standardization: The z-score use to standardizes data.\n",
    "2. Relative Position: A positive z-score indicates that the value is above the mean, while a negative z-score indicates that the value is below the mean.\n",
    "3. Probability Calculation: The z-score is used to calculate probabilities associated with specific values in a distribution.\n",
    "4. Standard Normal Distribution: The z-score is specifically used in reference to the standard normal distribution, which has a mean of 0 and a standard deviation of 1"
   ]
  },
  {
   "cell_type": "markdown",
   "id": "973c3966-5b08-4511-8fcb-143a359059a2",
   "metadata": {},
   "source": [
    "## Q9: What is Central Limit Theorem? State the significance of the Central Limit Theorem."
   ]
  },
  {
   "cell_type": "markdown",
   "id": "889c5028-bab6-44c4-8318-76bc291bf278",
   "metadata": {},
   "source": [
    "The Central Limit Theorem (CLT) is a fundamental theorem in statistics that states that the distribution of the sample mean from a population with any distribution approaches a normal distribution as the sample size increases, regardless of the shape of the population distribution.\n",
    "\n",
    "1. The CLT allows us to make inferences about the population mean based on the distribution of sample means\n",
    "2. as the sample size increases, the sampling distribution of the mean becomes approximately normally distributed\n",
    "3. even if the population is not normally distributed, as long as the sample size is sufficiently large, the distribution of the sample mean will still approximate a normal distribution.\n"
   ]
  },
  {
   "cell_type": "markdown",
   "id": "63b5e968-529d-4798-aa29-54b827ecb064",
   "metadata": {},
   "source": [
    "## Q10: State the assumptions of the Central Limit Theorem."
   ]
  },
  {
   "cell_type": "markdown",
   "id": "8adb54d9-6c9a-47ef-a81c-17f8dd132e10",
   "metadata": {},
   "source": [
    "1. The samples used in the analysis should be selected randomly from the population of interest. \n",
    "2.  The observations within each sample should be independent of each other. \n",
    "3. The sample size should be sufficiently large.\n",
    "\n"
   ]
  },
  {
   "cell_type": "code",
   "execution_count": null,
   "id": "10d0bad5-c2f8-4eff-91a2-8bc788c3f134",
   "metadata": {},
   "outputs": [],
   "source": []
  }
 ],
 "metadata": {
  "kernelspec": {
   "display_name": "Python 3 (ipykernel)",
   "language": "python",
   "name": "python3"
  },
  "language_info": {
   "codemirror_mode": {
    "name": "ipython",
    "version": 3
   },
   "file_extension": ".py",
   "mimetype": "text/x-python",
   "name": "python",
   "nbconvert_exporter": "python",
   "pygments_lexer": "ipython3",
   "version": "3.10.8"
  }
 },
 "nbformat": 4,
 "nbformat_minor": 5
}
