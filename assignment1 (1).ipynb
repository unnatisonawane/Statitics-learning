{
 "cells": [
  {
   "cell_type": "markdown",
   "id": "12f29b38-d09f-4886-92f9-c0bb126a01c9",
   "metadata": {},
   "source": [
    "## Q1. What is statistics?"
   ]
  },
  {
   "cell_type": "markdown",
   "id": "034780a3-f5d3-48c6-948e-80d25d3104be",
   "metadata": {},
   "source": [
    "Statistics is a science of collecting, organizing, analyzing and interpretating the data."
   ]
  },
  {
   "cell_type": "markdown",
   "id": "9af94369-01e8-4a6f-b650-4a7510901639",
   "metadata": {},
   "source": [
    "## Q2. Define the different types of statistics and give an example of when each type might be used."
   ]
  },
  {
   "cell_type": "markdown",
   "id": "038b5b97-d479-494d-a0cd-7a3046b31521",
   "metadata": {},
   "source": [
    "Statistics can be broadly categorized into two main types: descriptive statistics and inferential statistics. \n",
    "\n",
    "### Descriptive statistics:\n",
    "It involve summarizing and presenting data in a meaningful way.Common descriptive statistics and their examples:\n",
    "\n",
    "a. Measures of Central Tendency: \n",
    "the mean (average), median (middle value), and mode (most frequent value). For instance, the mean income of a group of individuals can be calculated to determine their average earnings.\n",
    "\n",
    "b. Measures of Dispersion:\n",
    "These statistics quantify the spread or variability of a dataset. Examples include the range (difference between the maximum and minimum values), variance (average of the squared differences from the mean), and standard deviation (square root of the variance). They help understand how values are distributed within a dataset. For example, the standard deviation can be used to measure the variability of test scores among students in a class.\n",
    "\n",
    "c. Frequency Distributions:\n",
    "These statistics organize and display data by counting the occurrences of values within specific intervals or categories. They are commonly represented in the form of histograms or bar charts. For instance, a frequency distribution can be used to display the number of people belonging to different age groups in a population.\n",
    "\n",
    "### Inferential Statistics:\n",
    "It involve making inferences or generalizations about a population based on a sample of data.Common Inferential statistics and their examples:\n",
    "\n",
    "a. Confidence Intervals: \n",
    "These statistics estimate the range of values within which a population parameter is likely to fall. For instance, a 95% confidence interval for the mean height of a population might be calculated using a sample, providing a range within which the true population mean is expected to lie.\n",
    "\n",
    "b. Hypothesis Testing:\n",
    "This statistical method is used to test the validity of a claim or hypothesis about a population. Researchers collect data and perform tests to determine whether there is sufficient evidence to support or reject the hypothesis. For example, a researcher might conduct a hypothesis test to determine if a new drug is effective in reducing blood pressure.\n",
    "\n",
    "c. Regression Analysis:\n",
    "Regression analysis examines the relationship between variables and helps predict the value of one variable based on the values of others. It is commonly used in various fields, such as economics and social sciences. For instance, a regression analysis can be performed to understand how changes in advertising expenditure impact sales revenue."
   ]
  },
  {
   "cell_type": "markdown",
   "id": "21ed929a-022c-4e5c-84d7-939a52b86bb4",
   "metadata": {},
   "source": [
    "## Q3. What are the different types of data and how do they differ from each other? Provide an example of each type of data."
   ]
  },
  {
   "cell_type": "markdown",
   "id": "cb688f03-a7e2-415d-b9bb-517b777714fe",
   "metadata": {},
   "source": [
    "Data can be classified into four main types: nominal, ordinal, interval, and ratio.\n",
    "\n",
    "Nominal Data:\n",
    "Nominal data represents categories or labels variables. The data can be assigned to different groups or classes, but there is no quantitative relationship between them. Examples - gender, marital status, or car colors\n",
    "\n",
    "Ordinal Data:\n",
    "Ordinal data represents categories or labels with a specific order or rank. The categories have a relative position or ranking, but the intervals between them may not be uniform or quantifiable. Examples educational levels (elementary, high school, bachelor's, master's, doctorate), rating scales (1 star, 2 stars, 3 stars), or survey responses (strongly disagree, disagree, neutral, agree, strongly agree).\n",
    "\n",
    "Interval Data:\n",
    "Interval data represents measurements where the intervals between values are equal and meaningful. However, interval data does not have a true zero point.Examples of interval data include temperature measured in Celsius or Fahrenheit. In temperature scales, the difference between 20 and 30 degrees is the same as the difference between 30 and 40 degrees, but a temperature of 0 degrees does not mean the absence of temperature.\n",
    "\n",
    "Ratio Data:\n",
    "Ratio data represents measurements where the intervals between values are equal and meaningful, and it possesses a true zero point. The zero in ratio data indicates the absence of the attribute being measured. Examples of ratio data include height, weight, age, or income. A height of 0 cm means no height, and an income of $0 means no income. In ratio data, mathematical operations like addition, subtraction, multiplication, and division are meaningful and valid."
   ]
  },
  {
   "cell_type": "markdown",
   "id": "d59eca44-b947-4070-901f-12f418132083",
   "metadata": {},
   "source": [
    "## Q4. Categorise the following datasets with respect to quantitative and qualitative data types:\n",
    "\n",
    "    (i) Grading in exam: A+, A, B+, B, C+, C, D, E.\n",
    "    (ii) Colour of mangoes: yellow, green, orange, red.\n",
    "    (iii) Height data of a class: [178.9, 179, 179.5, 176, 177.2, 178.3, 175.8,...]\n",
    "    (iv) Number of mangoes exported by a farm: [500, 600, 478, 672, ...]"
   ]
  },
  {
   "cell_type": "markdown",
   "id": "4ba88915-3875-4e3e-9bbf-6669f926ee6d",
   "metadata": {},
   "source": [
    "(i) Qualitative - ordinal\n",
    "(ii) Qualitative - nominal\n",
    "(iii) Quantitative - continous\n",
    "(iv) Quantitative - discrete"
   ]
  },
  {
   "cell_type": "markdown",
   "id": "1cdb01c1-3181-4290-858a-c24c6d6c4428",
   "metadata": {},
   "source": [
    "## Q5. Explain the concept of levels of measurement and give an example of a variable for each level."
   ]
  },
  {
   "cell_type": "markdown",
   "id": "bc251318-a3aa-447c-9e2f-c5b9fe3b18ba",
   "metadata": {},
   "source": [
    "The concept of levels of measurement is a framework used to classify and describe the nature of variables in statistical analysis. There are four commonly recognized levels of measurement: nominal, ordinal, interval, and ratio.\n",
    "\n",
    "1. Nominal Level: Variables at the nominal level are categorical in nature and have no inherent order or numerical meaning. They are typically represented by labels or names. Examples of nominal variables include:\n",
    "\n",
    "        Gender (categories: male, female, other)\n",
    "        Marital status (categories: married, single, divorced, widowed)\n",
    "        Country of origin (categories: USA, Canada, UK, Australia)\n",
    "\n",
    "2. Ordinal Level: Variables at the ordinal level have categories that can be ranked or ordered, but the differences between categories may not be equal or measurable. Examples of ordinal variables include:\n",
    "\n",
    "       Educational attainment (categories: high school diploma, bachelor's degree, master's degree, doctorate)\n",
    "       Likert scale ratings (e.g., strongly agree, agree, neutral, disagree, strongly disagree)\n",
    "       Socioeconomic status (categories: low, medium, high)\n",
    "\n",
    "3. Interval Level: Variables at the interval level have ordered categories with equal intervals between them, but they lack a meaningful zero point. Examples of interval variables include:\n",
    "\n",
    "       Temperature measured in Celsius or Fahrenheit (e.g., 20°C, 30°C)\n",
    "       Year (e.g., 2000, 2021, 2023)\n",
    "       IQ scores (e.g., 100, 120, 140)\n",
    "\n",
    "4. Ratio Level: Variables at the ratio level have all the characteristics of interval variables, but they also possess a meaningful zero point, indicating the absence of the measured attribute. Mathematical operations such as multiplication and division can be applied to ratio variables. Examples of ratio variables include:\n",
    "\n",
    "       Age (e.g., 25 years old, 40 years old)\n",
    "       Height (e.g., 160 cm, 180 cm)\n",
    "       Weight (e.g., 50 kg, 70 kg)"
   ]
  },
  {
   "cell_type": "markdown",
   "id": "76c4eef6-d582-45a0-8ea5-f01a66b31a8a",
   "metadata": {},
   "source": [
    "## Q6. Why is it important to understand the level of measurement when analyzing data? Provide an example to illustrate your answer."
   ]
  },
  {
   "cell_type": "markdown",
   "id": "9e315b08-588c-444a-92df-cdd7c3d2b5e7",
   "metadata": {},
   "source": [
    "Understanding the level of measurement is crucial because it determines the appropriate statistical tests and analyses that can be applied to the data, as well as the meaningful interpretations that can be made from the results.\n",
    "\n",
    "Suppose we have data on students' performance in a class, including the following variables: \"Student ID\" (nominal), \"Grade Level\" (ordinal), \"Test Scores\" (interval), and \"Study Hours\" (ratio).\n",
    "\n",
    "\n",
    "Nominal Variable: \"Student ID\" represents a nominal variable. We cannot perform numerical calculations or make meaningful comparisons based on student IDs alone. However, we can count the frequency of students or analyze the proportion of students from different categories.\n",
    "\n",
    "Ordinal Variable: \"Grade Level\" represents an ordinal variable since the categories have a specific order but the intervals between them may not be equal. We can analyze the distribution of students across different grade levels, calculate median grade levels.\n",
    "\n",
    "Interval Variable: \"Test Scores\" represents an interval variable because the differences between scores are meaningful, but there is no true zero point. We can calculate measures such as mean, standard deviation, and perform statistical tests.\n",
    "\n",
    "Ratio Variable: \"Study Hours\" represents a ratio variable as it possesses all the characteristics of an interval variable and has a meaningful zero point (i.e., zero study hours). We can calculate various descriptive statistics, such as mean, median, and range, and perform correlation or regression analyses to examine the relationship between study hours and other variables like test scores."
   ]
  },
  {
   "cell_type": "markdown",
   "id": "eba11f75-6f4e-42e6-af9e-9d175a86f576",
   "metadata": {},
   "source": [
    "## Q7. How nominal data type is different from ordinal data type."
   ]
  },
  {
   "cell_type": "markdown",
   "id": "6b9badcc-3da6-456b-afe5-35078758d9aa",
   "metadata": {},
   "source": [
    "Nominal Data: \n",
    "1. Nominal data consists of categories or labels with no inherent order or ranking. \n",
    "2. They represent qualitative or categorical distinctions. \n",
    "3. Cannot perform mathematical operations such as addition, subtraction, multiplication, or division.\n",
    "4.  The primary operations applicable to nominal data are counting frequencies, calculating proportions, or determining mode (most frequent category).\n",
    "5. Nominal data is primarily analyzed using non-parametric statistical tests and measures. \n",
    "6. Examples of nominal data include gender (male, female), eye color (blue, brown, green), or country of residence (USA, Canada, UK).\n",
    "\n",
    "Ordianl Data:\n",
    "1. Ordinal data also consists of categories, but these categories have an inherent order or ranking. \n",
    "2. The differences between categories may not be equal or precisely measurable.\n",
    "3. Arithmetic operations like addition or multiplication are not meaningful for ordinal data.\n",
    "4. Analysis of ordinal data involves both non-parametric and ordinal-specific statistical methods.\n",
    "5. Examples of ordinal data include Likert scale ratings (e.g., strongly agree, agree, neutral, disagree, strongly disagree)"
   ]
  },
  {
   "cell_type": "markdown",
   "id": "8cc6a0ba-f483-4ccf-b013-ac7eaada9046",
   "metadata": {},
   "source": [
    "## Q8. Which type of plot can be used to display data in terms of range?"
   ]
  },
  {
   "cell_type": "markdown",
   "id": "eedbf8cb-5476-47c6-bdb0-46c35f8c2daa",
   "metadata": {},
   "source": [
    "A type of plot that can be used to display data in terms of range is a box plot, also known as a box-and-whisker plot.\n",
    "\n",
    "A box plot provides a visual representation of the minimum, first quartile (25th percentile), median (50th percentile), third quartile (75th percentile), and maximum values of a dataset. It allows for the visualization of the spread, central tendency, and outliers in the data."
   ]
  },
  {
   "cell_type": "markdown",
   "id": "e19edc22-c7cd-44f9-b85b-9cbea97b8c10",
   "metadata": {},
   "source": [
    "## Q9. Describe the difference between descriptive and inferential statistics. Give an example of each type of statistics and explain how they are used."
   ]
  },
  {
   "cell_type": "markdown",
   "id": "b77d124e-146e-43fc-b4e3-1280485f7ae4",
   "metadata": {},
   "source": [
    "descriptive statistics focuses on summarizing and describing data, while inferential statistics goes beyond the observed data to make inferences or draw conclusions about a larger population. Descriptive statistics provide an overview of the data, while inferential statistics enable generalizations and predictions based on the data.\n",
    "\n",
    "Example: \n",
    "let say there are 50 students in a math class in the university. we have collected the height of the student in the class.\n",
    "Descriptive question - what is the average height of the student?\n",
    "Inerential question - are the average height of the student in the class similar to what you expect in the entire university."
   ]
  },
  {
   "cell_type": "markdown",
   "id": "db5ca700-62e3-4fc6-b9cd-4dc9dc77a0cf",
   "metadata": {},
   "source": [
    "## Q10. What are some common measures of central tendency and variability used in statistics? Explain how each measure can be used to describe a dataset."
   ]
  },
  {
   "cell_type": "markdown",
   "id": "dc89d8a9-366b-4fb7-bb46-4e462d71eaf6",
   "metadata": {},
   "source": [
    "Measures of Central Tendency:\n",
    "\n",
    "Mean: The mean represents the average value of the dataset and provides a measure of the central location.\n",
    "\n",
    "Median: The median is the middle value in a dataset when the observations are arranged in ascending or descending order. The median is not affected by extreme values (outliers) and is often used when the data is skewed or contains outliers.\n",
    "\n",
    "Mode: The mode represents the most frequently occurring value(s) in a dataset. \n",
    "\n",
    "Measures of Variability:\n",
    "\n",
    "Range: The range is the simplest measure of variability and is calculated by subtracting the minimum value from the maximum value in a dataset. It provides an indication of the spread of the data but is influenced by extreme values.\n",
    "\n",
    "Standard Deviation: The standard deviation measures the average amount of deviation or dispersion from the mean. It quantifies the spread of the data points around the mean. A higher standard deviation indicates greater variability, while a lower standard deviation indicates less variability.\n",
    "\n",
    "Variance: The variance is the square of the standard deviation. It provides a measure of the average squared deviation from the mean. Variance is useful for understanding the dispersion of the data \n",
    "\n",
    "These measures of central tendency and variability can be used together to provide a comprehensive description of a dataset:\n",
    "\n",
    "Central tendency measures (mean, median, mode) help identify the typical or central value around which the data is centered.\n",
    "Range provides an overall sense of the spread or dispersion of the data.\n",
    "Standard deviation and variance quantify the extent to which individual data points deviate from the mean, allowing for a more precise understanding of variability."
   ]
  }
 ],
 "metadata": {
  "kernelspec": {
   "display_name": "Python 3 (ipykernel)",
   "language": "python",
   "name": "python3"
  },
  "language_info": {
   "codemirror_mode": {
    "name": "ipython",
    "version": 3
   },
   "file_extension": ".py",
   "mimetype": "text/x-python",
   "name": "python",
   "nbconvert_exporter": "python",
   "pygments_lexer": "ipython3",
   "version": "3.10.8"
  }
 },
 "nbformat": 4,
 "nbformat_minor": 5
}
