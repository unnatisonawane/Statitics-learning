{
 "cells": [
  {
   "cell_type": "markdown",
   "id": "2f702633-6152-4568-9d70-11900adba38d",
   "metadata": {},
   "source": [
    "## Q1. Write a Python function that takes in two arrays of data and calculates the F-value for a variance ratiotest. The function should return the F-value and the corresponding p-value for the test."
   ]
  },
  {
   "cell_type": "code",
   "execution_count": 4,
   "id": "e1711027-2a52-4ba0-80b3-cf0d9ed82def",
   "metadata": {},
   "outputs": [
    {
     "name": "stdout",
     "output_type": "stream",
     "text": [
      "F-value: 1.1621621621621623\n",
      "p-value: 0.55614453125\n"
     ]
    }
   ],
   "source": [
    "import numpy as np\n",
    "import scipy.stats as stats\n",
    "\n",
    "def variance_ratio_test(data1,data2):\n",
    "    variance1 = np.var(data1,ddof=1)\n",
    "    variance2 = np.var(data2,ddof=1)\n",
    "    \n",
    "    n1 = len(data1)\n",
    "    n2 = len(data2)\n",
    "    df1= n1-1\n",
    "    df2= n2-1\n",
    "    \n",
    "    f_value = variance1 / variance2\n",
    "    \n",
    "    p_value = stats.f.cdf(f_value,df1,df2)\n",
    "    \n",
    "    return f_value, p_value\n",
    "\n",
    "# Example usage\n",
    "data1 = [10, 15, 12, 14, 11]\n",
    "data2 = [13, 18, 17, 15, 16]\n",
    "\n",
    "F_value, p_value = variance_ratio_test(data1, data2)\n",
    "print(\"F-value:\", F_value)\n",
    "print(\"p-value:\", p_value)\n",
    "    "
   ]
  },
  {
   "cell_type": "markdown",
   "id": "869dfd89-abce-417f-8f46-272d2115bdba",
   "metadata": {},
   "source": [
    "## Q2. Given a significance level of 0.05 and the degrees of freedom for the numerator and denominator of an F-distribution, write a Python function that returns the critical F-value for a two-tailed test."
   ]
  },
  {
   "cell_type": "code",
   "execution_count": 21,
   "id": "95918cf5-aada-4f57-917e-0b8db25ab6b6",
   "metadata": {},
   "outputs": [
    {
     "name": "stdout",
     "output_type": "stream",
     "text": [
      "upper_tail 4.817275555265532\n",
      "lower_tail 0.1479909049089849\n"
     ]
    }
   ],
   "source": [
    "import scipy.stats as stats\n",
    "\n",
    "def critical_value(alpha,df1,df2):\n",
    "    critical_f_value_upper = stats.f.ppf(1 - alpha/2, df1, df2)\n",
    "    critical_f_value_lower = stats.f.ppf(alpha/2, df1, df2)\n",
    "    return critical_f_value_upper,critical_f_value_lower\n",
    "alpha=0.05\n",
    "df1=5\n",
    "df2=8\n",
    "critical_f_value_upper,critical_f_value_lower=critical_value(alpha,df1,df2)\n",
    "print(\"upper_tail\",critical_f_value_upper)\n",
    "print(\"lower_tail\",critical_f_value_lower)"
   ]
  },
  {
   "cell_type": "markdown",
   "id": "b08edb92-ba3d-4e8a-be36-4d2ed2faf2e2",
   "metadata": {},
   "source": [
    "## Q3. Write a Python program that generates random samples from two normal distributions with known variances and uses an F-test to determine if the variances are equal. The program should output the F- value, degrees of freedom, and p-value for the test."
   ]
  },
  {
   "cell_type": "code",
   "execution_count": 6,
   "id": "b2f09c9d-7807-408e-8851-257ed2d5cb91",
   "metadata": {},
   "outputs": [
    {
     "name": "stdout",
     "output_type": "stream",
     "text": [
      "F-value: 0.31891053284619403\n",
      "Degrees of freedom (numerator): 99\n",
      "Degrees of freedom (denominator): 99\n",
      "p-value: 0.9999999837765761\n"
     ]
    }
   ],
   "source": [
    "import numpy as np\n",
    "import scipy.stats as stats\n",
    "\n",
    "def generate_random_sample(variance1,variance2,sample_size):\n",
    "    mean1=0\n",
    "    std1=np.sqrt(variance1)\n",
    "    sample1=np.random.normal(mean1,std1,sample_size)\n",
    "\n",
    "    \n",
    "    mean2=0\n",
    "    std2=np.sqrt(variance2)\n",
    "    sample2=np.random.normal(mean2,std2,sample_size)\n",
    "    \n",
    "    return sample1,sample2\n",
    "\n",
    "def perform_f_test(sample1,sample2):\n",
    "    variance1=np.var(sample1)\n",
    "    variance2=np.var(sample2)\n",
    "    df1=len(sample1)-1\n",
    "    df2=len(sample2)-1\n",
    "    f_test=variance1/variance2\n",
    "    p_value= 1 - stats.f.cdf(f_test,df1,df2)\n",
    "    return f_test,df1,df2,p_value\n",
    "\n",
    "\n",
    "variance1 = 4     \n",
    "variance2 = 9        \n",
    "sample_size = 100   \n",
    "\n",
    "samples1, samples2 = generate_random_sample(variance1, variance2, sample_size)\n",
    "\n",
    "F_value, df1, df2, p_value = perform_f_test(samples1, samples2)\n",
    "\n",
    "# Print the F-value, degrees of freedom, and p-value\n",
    "print(\"F-value:\", F_value)\n",
    "print(\"Degrees of freedom (numerator):\", df1)\n",
    "print(\"Degrees of freedom (denominator):\", df2)\n",
    "print(\"p-value:\", p_value)"
   ]
  },
  {
   "cell_type": "markdown",
   "id": "08d0e4d6-a388-42d5-b7b2-e3e96b5fc59d",
   "metadata": {},
   "source": [
    "## Q4.The variances of two populations are known to be 10 and 15. A sample of 12 observations is taken from each population. Conduct an F-test at the 5% significance level to determine if the variances are significantly different."
   ]
  },
  {
   "cell_type": "code",
   "execution_count": 11,
   "id": "3ba61c3c-0fbc-46cd-b2db-9ad4ebfaad06",
   "metadata": {},
   "outputs": [
    {
     "name": "stdout",
     "output_type": "stream",
     "text": [
      "Fail to reject null hypothesis. Variances are not significantly different.\n"
     ]
    }
   ],
   "source": [
    "import scipy.stats as stats\n",
    "\n",
    "#set hypotheses\n",
    "#H0: variance of two population is equal\n",
    "#H1: variance of two population is not equal\n",
    "\n",
    "n1=n2=12\n",
    "df1=n1-1\n",
    "df2=n2-1\n",
    "variance1=10\n",
    "variance2=15\n",
    "alpha=0.05\n",
    "\n",
    "f_test=variance1/variance2\n",
    "p_value = 2 * (1 - stats.f.cdf(f_value, df1, df2))\n",
    "critical_f_value_upper = stats.f.ppf(1 - alpha/2, df1, df2)\n",
    "critical_f_value_lower = stats.f.ppf(alpha/2, df1, df2)\n",
    "\n",
    " # Compare the F-value with the critical F-value\n",
    "if f_test > critical_value or p_value < alpha:\n",
    "    print(\"Reject null hypothesis. Variances are significantly different.\")\n",
    "else:\n",
    "        print(\"Fail to reject null hypothesis. Variances are not significantly different.\")\n"
   ]
  },
  {
   "cell_type": "markdown",
   "id": "7984765d-0c5c-4cb7-94bf-ff1d222dbb55",
   "metadata": {},
   "source": [
    "## Q5. A manufacturer claims that the variance of the diameter of a certain product is 0.005. A sample of 25 products is taken, and the sample variance is found to be 0.006. Conduct an F-test at the 1% significance level to determine if the claim is justified."
   ]
  },
  {
   "cell_type": "code",
   "execution_count": 18,
   "id": "308ec243-253e-4ace-b30b-2512fcf4bcbc",
   "metadata": {},
   "outputs": [
    {
     "name": "stdout",
     "output_type": "stream",
     "text": [
      "Fail to reject null hypothesis. The claim is justified.\n"
     ]
    }
   ],
   "source": [
    "import scipy.stats as stats\n",
    "\n",
    "n1=n2=25\n",
    "df1=n1-1\n",
    "df2=n2-1\n",
    "alpha=0.01\n",
    "variance_sample=0.005\n",
    "variance_claim=0.006\n",
    "\n",
    "f_test=variance_claim/variance_sample\n",
    "critical_value=stats.f.isf(alpha,df1,df2)\n",
    "\n",
    "critical_value_upper = stats.f.ppf(1 - alpha/2, df1, df2)\n",
    "critical_value_lower = stats.f.ppf(alpha/2, df1, df2)\n",
    "\n",
    "if f_test < critical_value_lower or f_test > critical_value_upper:\n",
    "    print(\"Reject null hypothesis. The claim is not justified.\")\n",
    "else:\n",
    "    print(\"Fail to reject null hypothesis. The claim is justified.\")\n",
    "\n",
    "# Given problem statement\n",
    "variance_claimed = 0.005\n",
    "variance_sample = 0.006\n",
    "sample_size = 25\n"
   ]
  },
  {
   "cell_type": "markdown",
   "id": "0570a0ad-111c-4695-bb7c-1d1e4e92ede4",
   "metadata": {},
   "source": [
    "## Q6. Write a Python function that takes in the degrees of freedom for the numerator and denominator of an F-distribution and calculates the mean and variance of the distribution. The function should return the mean and variance as a tuple."
   ]
  },
  {
   "cell_type": "code",
   "execution_count": 16,
   "id": "663c2632-56b8-4357-a27e-e5797c478e2e",
   "metadata": {},
   "outputs": [
    {
     "name": "stdout",
     "output_type": "stream",
     "text": [
      "Mean: 1.2\n",
      "Variance: 0.81\n"
     ]
    }
   ],
   "source": [
    "def calculate_f_distribution_mean_variance(df1, df2):\n",
    "    # Mean of the F-distribution\n",
    "    if df2 > 2:\n",
    "        mean = df2 / (df2 - 2)\n",
    "    else:\n",
    "        mean = float('inf')\n",
    "\n",
    "    # Variance of the F-distribution\n",
    "    if df2 > 4:\n",
    "        variance = (2 * df2 ** 2 * (df1 + df2 - 2)) / (df1 * (df2 - 2) ** 2 * (df2 - 4))\n",
    "    else:\n",
    "        variance = float('inf')\n",
    "\n",
    "    return mean, variance\n",
    "\n",
    "# Example usage\n",
    "df1 = 8\n",
    "df2 = 12\n",
    "mean, variance = calculate_f_distribution_mean_variance(df1, df2)\n",
    "print(\"Mean:\", mean)\n",
    "print(\"Variance:\", variance)\n"
   ]
  },
  {
   "cell_type": "markdown",
   "id": "9e459201-ca88-417e-8dd6-dc37d3910320",
   "metadata": {},
   "source": [
    "## Q7. A random sample of 10 measurements is taken from a normal population with unknown variance. The sample variance is found to be 25. Another random sample of 15 measurements is taken from another normal population with unknown variance, and the sample variance is found to be 20. Conduct an F-test at the 10% significance level to determine if the variances are significantly different."
   ]
  },
  {
   "cell_type": "code",
   "execution_count": 22,
   "id": "fc7cd557-371d-4245-b965-f03f23c8a516",
   "metadata": {},
   "outputs": [
    {
     "name": "stdout",
     "output_type": "stream",
     "text": [
      "Fail to reject null hypothesis. Variances are not significantly different.\n"
     ]
    }
   ],
   "source": [
    "import scipy.stats as stats\n",
    "\n",
    "n1=10\n",
    "n2=15\n",
    "df1=n1-1\n",
    "df2=n2-1\n",
    "\n",
    "sample_var1=25\n",
    "sample_var2=20\n",
    "alpha=0.1\n",
    "\n",
    "f_value=sample_var1/sample_var2\n",
    "p_value = 2 * (1 - stats.f.cdf(f_value, df1, df2))\n",
    "critical_f_value_upper = stats.f.ppf(1 - alpha/2, df1, df2)\n",
    "critical_f_value_lower = stats.f.ppf(alpha/2, df1, df2)\n",
    "\n",
    "# Compare the F-value with the critical F-values\n",
    "if f_value > critical_f_value_upper or f_value < critical_f_value_lower:\n",
    "    print(\"Reject null hypothesis. Variances are significantly different.\")\n",
    "else:\n",
    "    print(\"Fail to reject null hypothesis. Variances are not significantly different.\")\n"
   ]
  },
  {
   "cell_type": "markdown",
   "id": "cc14596f-5163-4206-b52f-d47fb16055a9",
   "metadata": {},
   "source": [
    "## Q8. The following data represent the waiting times in minutes at two different restaurants on a Saturday night: Restaurant A: 24, 25, 28, 23, 22, 20, 27; Restaurant B: 31, 33, 35, 30, 32, 36. Conduct an F-test at the 5% significance level to determine if the variances are significantly different."
   ]
  },
  {
   "cell_type": "code",
   "execution_count": 23,
   "id": "46953100-e483-420a-9158-c8119a196183",
   "metadata": {},
   "outputs": [
    {
     "name": "stdout",
     "output_type": "stream",
     "text": [
      "Fail to reject null hypothesis. Variances are not significantly different.\n"
     ]
    }
   ],
   "source": [
    "import scipy.stats as stats\n",
    "Res_A=np.array([24,25,28,23,22,20,27])\n",
    "Res_B=np.array([31,33,35,30,32,36])\n",
    "\n",
    "n1=len(Res_A)\n",
    "n2=len(Res_B)\n",
    "df1=n1-1\n",
    "df2=n2-1\n",
    "var1=np.var(Res_A)\n",
    "var2=np.var(Res_B)\n",
    "alpha=0.05\n",
    "\n",
    "f_value=var1/var2\n",
    "upper_critical_value=stats.f.ppf(1-alpha/2,df1,df2)\n",
    "lower_critical_value=stats.f.ppf(alpha/2,df1,df2)\n",
    "p_value=2*(1-stats.f.cdf(f_value,df1,df2))\n",
    "\n",
    "if f_value < lower_critical_value or f_value > upper_critical_value:\n",
    "    print(\"Reject null hypothesis. Variances are significantly different.\")\n",
    "else:\n",
    "    print(\"Fail to reject null hypothesis. Variances are not significantly different.\")\n",
    "\n"
   ]
  },
  {
   "cell_type": "markdown",
   "id": "6e2de661-0f73-4b6e-a048-6ee4c6749a9f",
   "metadata": {},
   "source": [
    "## Q9. The following data represent the test scores of two groups of students: Group A: 80, 85, 90, 92, 87, 83; Group B: 75, 78, 82, 79, 81, 84. Conduct an F-test at the 1% significance level to determine if the variances are significantly different."
   ]
  },
  {
   "cell_type": "code",
   "execution_count": 3,
   "id": "21fda67c-56dc-4716-9ad6-92b29a86bae4",
   "metadata": {},
   "outputs": [
    {
     "name": "stdout",
     "output_type": "stream",
     "text": [
      "Fail to reject null hypothesis. Variances are not significantly different.\n"
     ]
    }
   ],
   "source": [
    "import scipy.stats as stats\n",
    "import numpy as np\n",
    "\n",
    "group_A=np.array([80,85,90,92,87,83])\n",
    "group_B=np.array([75,78,82,79,81,84])\n",
    "\n",
    "n1=len(group_A)\n",
    "n2=len(group_B)\n",
    "df1=n1-1\n",
    "df2=n2-1\n",
    "var1=np.var(group_A, ddof=1)\n",
    "var2=np.var(group_B, ddof=1)\n",
    "alpha=0.01\n",
    "\n",
    "f_value=var1/var2\n",
    "upper_critical_value=stats.f.ppf(1-alpha/2,df1,df2)\n",
    "lower_critical_value=stats.f.ppf(alpha/2,df1,df2)\n",
    "p_value=2*(1-stats.f.cdf(f_value,df1,df2))\n",
    "\n",
    "if f_value < lower_critical_value or f_value > upper_critical_value:\n",
    "    print(\"Reject null hypothesis. Variances are significantly different.\")\n",
    "else:\n",
    "    print(\"Fail to reject null hypothesis. Variances are not significantly different.\")\n",
    "\n"
   ]
  },
  {
   "cell_type": "code",
   "execution_count": null,
   "id": "7a0d4fa0-f985-4fe7-8c19-c0b8fbcd2892",
   "metadata": {},
   "outputs": [],
   "source": []
  }
 ],
 "metadata": {
  "kernelspec": {
   "display_name": "Python 3 (ipykernel)",
   "language": "python",
   "name": "python3"
  },
  "language_info": {
   "codemirror_mode": {
    "name": "ipython",
    "version": 3
   },
   "file_extension": ".py",
   "mimetype": "text/x-python",
   "name": "python",
   "nbconvert_exporter": "python",
   "pygments_lexer": "ipython3",
   "version": "3.10.8"
  }
 },
 "nbformat": 4,
 "nbformat_minor": 5
}
